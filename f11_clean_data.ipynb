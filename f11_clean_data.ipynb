{
 "cells": [
  {
   "cell_type": "code",
   "execution_count": 1,
   "source": [
    "import pandas as pd \r\n",
    "from cl_cleaning import CleaningText as ct \r\n",
    "pd.set_option('float_format', '{:,.2f}'.format)\r\n",
    "pd.set_option('display.max_columns', 70)"
   ],
   "outputs": [],
   "metadata": {}
  },
  {
   "cell_type": "code",
   "execution_count": 2,
   "source": [
    "nc = pd.read_excel('input/seguimiento_f11.xlsx', sheet_name='DATA_F11',  dtype='object')"
   ],
   "outputs": [],
   "metadata": {}
  },
  {
   "cell_type": "code",
   "execution_count": 3,
   "source": [
    "ncaux = nc.copy()"
   ],
   "outputs": [],
   "metadata": {}
  },
  {
   "cell_type": "code",
   "execution_count": 7,
   "source": [
    "nc = pd.read_csv('output/data_f11_V2.csv', sep=';', dtype='object')"
   ],
   "outputs": [],
   "metadata": {}
  },
  {
   "cell_type": "code",
   "execution_count": 8,
   "source": [
    "nc = ct.norm_header(nc)"
   ],
   "outputs": [],
   "metadata": {}
  },
  {
   "cell_type": "code",
   "execution_count": 9,
   "source": [
    "def drop_except(df, cols):\r\n",
    "    df.drop(df.columns.difference(cols), axis=1, inplace=True)\r\n",
    "    return df "
   ],
   "outputs": [],
   "metadata": {}
  },
  {
   "cell_type": "code",
   "execution_count": 101,
   "source": [
    "req_lista = ['nfolio', 'nsecuencia', 'prd_upc', 'xsubprod', 'qproducto', 'csucursal', 'crut_clt', 'propietario',\r\n",
    "       'xnombre_clt', 'xapellido_clt', 'xciudad_clt', \r\n",
    "       'dcreacion', 'xobservacion', \r\n",
    "       'xestado',  'xservicio', 'borigen', 'suc', 'tienda',\r\n",
    "       'prd_lvl_child', 'costo_promedio', 'total_costo_promedio',\r\n",
    "       'fecha_corte', 'dias', 'antiguedad', 'grupo']\r\n",
    "\r\n",
    "text_lista = ['xsubprod', 'csucursal', 'propietario', 'xnombre_clt', 'xapellido_clt',\r\n",
    "       'xciudad_clt', 'xobservacion', 'xestado',  'xservicio', 'borigen',\r\n",
    "       'tienda', 'antiguedad', 'grupo']\r\n",
    "\r\n",
    "fnum_lista = ['nfolio', 'nsecuencia', 'prd_upc',  'crut_clt', \r\n",
    "        'ccomuna', 'cestado','suc', 'prd_lvl_child', 'qproducto', \r\n",
    "          'suc', 'prd_lvl_child',  'dias']\r\n",
    "\r\n",
    "fechas = ['dcreacion','ddespacho', 'fecha_corte']\r\n",
    "\r\n",
    "# 'costo_promedio', 'total_costo_promedio',"
   ],
   "outputs": [],
   "metadata": {}
  },
  {
   "cell_type": "code",
   "execution_count": 102,
   "source": [
    "nc = drop_except(nc, req_lista)"
   ],
   "outputs": [],
   "metadata": {}
  },
  {
   "cell_type": "code",
   "execution_count": 13,
   "source": [
    "print('Limpiando texto en columnas')\r\n",
    "nc.loc[:, text_lista] = nc.loc[:, text_lista].apply(ct.clean_str)"
   ],
   "outputs": [
    {
     "output_type": "stream",
     "name": "stdout",
     "text": [
      "Limpiando texto en columnas\n"
     ]
    }
   ],
   "metadata": {}
  },
  {
   "cell_type": "code",
   "execution_count": 66,
   "source": [
    "print('Convirtiendo a número parte 1')\r\n",
    "nc.loc[:, fnum_lista] = nc.loc[:, fnum_lista].apply(ct.clean_fnum)"
   ],
   "outputs": [
    {
     "output_type": "stream",
     "name": "stdout",
     "text": [
      "Convirtiendo a número parte 1\n"
     ]
    }
   ],
   "metadata": {}
  },
  {
   "cell_type": "code",
   "execution_count": 107,
   "source": [
    "nc.fecha_corte.unique()"
   ],
   "outputs": [
    {
     "output_type": "execute_result",
     "data": {
      "text/plain": [
       "array(['2021-01-31T00:00:00.000000000', '2020-12-27T00:00:00.000000000',\n",
       "       '2021-02-08T00:00:00.000000000', '2021-03-01T00:00:00.000000000',\n",
       "       '2021-03-10T00:00:00.000000000', '2021-04-06T00:00:00.000000000',\n",
       "       '2021-03-23T00:00:00.000000000', '2021-02-25T00:00:00.000000000',\n",
       "       '2021-04-12T00:00:00.000000000', '2021-04-22T00:00:00.000000000',\n",
       "       '2021-04-27T00:00:00.000000000', '2021-05-11T00:00:00.000000000',\n",
       "       '2021-05-18T00:00:00.000000000', '2021-05-25T00:00:00.000000000',\n",
       "       '2021-06-01T00:00:00.000000000', '2021-06-08T00:00:00.000000000',\n",
       "       '2021-06-16T00:00:00.000000000', '2021-06-25T00:00:00.000000000',\n",
       "       '2021-06-30T00:00:00.000000000', '2021-07-21T00:00:00.000000000',\n",
       "       '2021-07-13T00:00:00.000000000', '2021-07-28T00:00:00.000000000',\n",
       "       '2021-08-03T00:00:00.000000000', '2021-08-09T00:00:00.000000000'],\n",
       "      dtype='datetime64[ns]')"
      ]
     },
     "metadata": {},
     "execution_count": 107
    }
   ],
   "metadata": {}
  },
  {
   "cell_type": "code",
   "execution_count": 106,
   "source": [
    "nc.fecha_corte =  pd.to_datetime(nc.fecha_corte)"
   ],
   "outputs": [],
   "metadata": {}
  },
  {
   "cell_type": "code",
   "execution_count": 109,
   "source": [
    "nc.dcreacion.unique()"
   ],
   "outputs": [
    {
     "output_type": "execute_result",
     "data": {
      "text/plain": [
       "array(['2021-01-30 00:00:00', '2021-01-29 18:30:10',\n",
       "       '2021-01-29 18:30:11', ..., '2021-08-08 00:00:00',\n",
       "       '2021-08-09 00:00:00', '2021-08-09 11:15:03'], dtype=object)"
      ]
     },
     "metadata": {},
     "execution_count": 109
    }
   ],
   "metadata": {}
  },
  {
   "cell_type": "code",
   "execution_count": 65,
   "source": [
    "nc2 = nc.copy()"
   ],
   "outputs": [],
   "metadata": {}
  },
  {
   "cell_type": "code",
   "execution_count": 57,
   "source": [
    "nc.loc[nc.fecha_corte =='2021-08-09 00:00:00','fecha_corte'] = '2021-08-09'"
   ],
   "outputs": [],
   "metadata": {}
  },
  {
   "cell_type": "code",
   "execution_count": 69,
   "source": [
    "nc.total_costo_promedio = pd.to_numeric(nc.total_costo_promedio)\r\n",
    "nc.total_costo_promedio = round(nc.total_costo_promedio)\r\n",
    "nc.total_costo_promedio = nc.total_costo_promedio.astype(int)"
   ],
   "outputs": [],
   "metadata": {}
  },
  {
   "cell_type": "code",
   "execution_count": 86,
   "source": [
    "#nc.costo_promedio = pd.to_numeric(nc.costo_promedio)\r\n",
    "#nc.costo_promedio = round(nc.costo_promedio)\r\n",
    "nc.costo_promedio = nc.costo_promedio.fillna(0)\r\n",
    "nc.costo_promedio = nc.costo_promedio.astype(int)"
   ],
   "outputs": [],
   "metadata": {}
  },
  {
   "cell_type": "code",
   "execution_count": 95,
   "source": [
    "nc.head()"
   ],
   "outputs": [
    {
     "output_type": "execute_result",
     "data": {
      "text/plain": [
       "       nfolio nsecuencia        prd_upc                          xsubprod  \\\n",
       "0  1110556869          1  4971850906537                     casio digital   \n",
       "1  1110556876          1    50875814608        waflera giratoria doble bd   \n",
       "2  1110554568          1  2998810791684      sofa 3 .cpo  te rihanna azul   \n",
       "3  1110554575          1  8801643554514  lavadsecad gris cargafrontal 18k   \n",
       "4  1110554599          1  7704712031545   nevera mabe no frost 220 lt top   \n",
       "\n",
       "  qproducto         csucursal    crut_clt propietario     xnombre_clt  \\\n",
       "0         1  krono time s.a.s  1012433986     cliente       jasbleidy   \n",
       "1         1   rm la esperanza    52474292     cliente        giovanna   \n",
       "2         1  aldia retiro f12    51797790     cliente        carolina   \n",
       "3         1  aldia retiro f12     8162878     cliente            jose   \n",
       "4         1  aldia retiro f12  1088255523     cliente  nestor william   \n",
       "\n",
       "      xapellido_clt xciudad_clt            dcreacion          xobservacion  \\\n",
       "0              nino      bogota  2021-01-30 00:00:00           buen estado   \n",
       "1    arevalo rivera      bogota  2021-01-30 00:00:00           buen estado   \n",
       "2         satizabal    medellin  2021-01-30 00:00:00  12630382128   retiro   \n",
       "3          villegas    medellin  2021-01-30 00:00:00    12630435596 retiro   \n",
       "4  agudelo martinez     pereira  2021-01-30 00:00:00    12631220399 retiro   \n",
       "\n",
       "      xestado cservicio   xservicio borigen   suc        tienda prd_lvl_child  \\\n",
       "0   ingresado         s   s.tecnico       t    72  la felicidad       2623884   \n",
       "1   ingresado         s   s.tecnico       t    72  la felicidad       7496081   \n",
       "2  despachado         r  retiro f12       t  9903  cd falabella       4017404   \n",
       "3  despachado         r  retiro f12       t  9903  cd falabella       4457137   \n",
       "4  despachado         r  retiro f12       t  9903  cd falabella       4652823   \n",
       "\n",
       "   costo_promedio  total_costo_promedio fecha_corte dias           antiguedad  \\\n",
       "0           76488                 76488  2021-01-31    2  1.entre 1 y 15 dias   \n",
       "1          114811                114811  2021-01-31    2  1.entre 1 y 15 dias   \n",
       "2          758301                758301  2021-01-31    2  1.entre 1 y 15 dias   \n",
       "3         3098413               3098413  2021-01-31    2  1.entre 1 y 15 dias   \n",
       "4          848432                848432  2021-01-31    2  1.entre 1 y 15 dias   \n",
       "\n",
       "    grupo  \n",
       "0  tienda  \n",
       "1  tienda  \n",
       "2      cd  \n",
       "3      cd  \n",
       "4      cd  "
      ],
      "text/html": [
       "<div>\n",
       "<style scoped>\n",
       "    .dataframe tbody tr th:only-of-type {\n",
       "        vertical-align: middle;\n",
       "    }\n",
       "\n",
       "    .dataframe tbody tr th {\n",
       "        vertical-align: top;\n",
       "    }\n",
       "\n",
       "    .dataframe thead th {\n",
       "        text-align: right;\n",
       "    }\n",
       "</style>\n",
       "<table border=\"1\" class=\"dataframe\">\n",
       "  <thead>\n",
       "    <tr style=\"text-align: right;\">\n",
       "      <th></th>\n",
       "      <th>nfolio</th>\n",
       "      <th>nsecuencia</th>\n",
       "      <th>prd_upc</th>\n",
       "      <th>xsubprod</th>\n",
       "      <th>qproducto</th>\n",
       "      <th>csucursal</th>\n",
       "      <th>crut_clt</th>\n",
       "      <th>propietario</th>\n",
       "      <th>xnombre_clt</th>\n",
       "      <th>xapellido_clt</th>\n",
       "      <th>xciudad_clt</th>\n",
       "      <th>dcreacion</th>\n",
       "      <th>xobservacion</th>\n",
       "      <th>xestado</th>\n",
       "      <th>cservicio</th>\n",
       "      <th>xservicio</th>\n",
       "      <th>borigen</th>\n",
       "      <th>suc</th>\n",
       "      <th>tienda</th>\n",
       "      <th>prd_lvl_child</th>\n",
       "      <th>costo_promedio</th>\n",
       "      <th>total_costo_promedio</th>\n",
       "      <th>fecha_corte</th>\n",
       "      <th>dias</th>\n",
       "      <th>antiguedad</th>\n",
       "      <th>grupo</th>\n",
       "    </tr>\n",
       "  </thead>\n",
       "  <tbody>\n",
       "    <tr>\n",
       "      <th>0</th>\n",
       "      <td>1110556869</td>\n",
       "      <td>1</td>\n",
       "      <td>4971850906537</td>\n",
       "      <td>casio digital</td>\n",
       "      <td>1</td>\n",
       "      <td>krono time s.a.s</td>\n",
       "      <td>1012433986</td>\n",
       "      <td>cliente</td>\n",
       "      <td>jasbleidy</td>\n",
       "      <td>nino</td>\n",
       "      <td>bogota</td>\n",
       "      <td>2021-01-30 00:00:00</td>\n",
       "      <td>buen estado</td>\n",
       "      <td>ingresado</td>\n",
       "      <td>s</td>\n",
       "      <td>s.tecnico</td>\n",
       "      <td>t</td>\n",
       "      <td>72</td>\n",
       "      <td>la felicidad</td>\n",
       "      <td>2623884</td>\n",
       "      <td>76488</td>\n",
       "      <td>76488</td>\n",
       "      <td>2021-01-31</td>\n",
       "      <td>2</td>\n",
       "      <td>1.entre 1 y 15 dias</td>\n",
       "      <td>tienda</td>\n",
       "    </tr>\n",
       "    <tr>\n",
       "      <th>1</th>\n",
       "      <td>1110556876</td>\n",
       "      <td>1</td>\n",
       "      <td>50875814608</td>\n",
       "      <td>waflera giratoria doble bd</td>\n",
       "      <td>1</td>\n",
       "      <td>rm la esperanza</td>\n",
       "      <td>52474292</td>\n",
       "      <td>cliente</td>\n",
       "      <td>giovanna</td>\n",
       "      <td>arevalo rivera</td>\n",
       "      <td>bogota</td>\n",
       "      <td>2021-01-30 00:00:00</td>\n",
       "      <td>buen estado</td>\n",
       "      <td>ingresado</td>\n",
       "      <td>s</td>\n",
       "      <td>s.tecnico</td>\n",
       "      <td>t</td>\n",
       "      <td>72</td>\n",
       "      <td>la felicidad</td>\n",
       "      <td>7496081</td>\n",
       "      <td>114811</td>\n",
       "      <td>114811</td>\n",
       "      <td>2021-01-31</td>\n",
       "      <td>2</td>\n",
       "      <td>1.entre 1 y 15 dias</td>\n",
       "      <td>tienda</td>\n",
       "    </tr>\n",
       "    <tr>\n",
       "      <th>2</th>\n",
       "      <td>1110554568</td>\n",
       "      <td>1</td>\n",
       "      <td>2998810791684</td>\n",
       "      <td>sofa 3 .cpo  te rihanna azul</td>\n",
       "      <td>1</td>\n",
       "      <td>aldia retiro f12</td>\n",
       "      <td>51797790</td>\n",
       "      <td>cliente</td>\n",
       "      <td>carolina</td>\n",
       "      <td>satizabal</td>\n",
       "      <td>medellin</td>\n",
       "      <td>2021-01-30 00:00:00</td>\n",
       "      <td>12630382128   retiro</td>\n",
       "      <td>despachado</td>\n",
       "      <td>r</td>\n",
       "      <td>retiro f12</td>\n",
       "      <td>t</td>\n",
       "      <td>9903</td>\n",
       "      <td>cd falabella</td>\n",
       "      <td>4017404</td>\n",
       "      <td>758301</td>\n",
       "      <td>758301</td>\n",
       "      <td>2021-01-31</td>\n",
       "      <td>2</td>\n",
       "      <td>1.entre 1 y 15 dias</td>\n",
       "      <td>cd</td>\n",
       "    </tr>\n",
       "    <tr>\n",
       "      <th>3</th>\n",
       "      <td>1110554575</td>\n",
       "      <td>1</td>\n",
       "      <td>8801643554514</td>\n",
       "      <td>lavadsecad gris cargafrontal 18k</td>\n",
       "      <td>1</td>\n",
       "      <td>aldia retiro f12</td>\n",
       "      <td>8162878</td>\n",
       "      <td>cliente</td>\n",
       "      <td>jose</td>\n",
       "      <td>villegas</td>\n",
       "      <td>medellin</td>\n",
       "      <td>2021-01-30 00:00:00</td>\n",
       "      <td>12630435596 retiro</td>\n",
       "      <td>despachado</td>\n",
       "      <td>r</td>\n",
       "      <td>retiro f12</td>\n",
       "      <td>t</td>\n",
       "      <td>9903</td>\n",
       "      <td>cd falabella</td>\n",
       "      <td>4457137</td>\n",
       "      <td>3098413</td>\n",
       "      <td>3098413</td>\n",
       "      <td>2021-01-31</td>\n",
       "      <td>2</td>\n",
       "      <td>1.entre 1 y 15 dias</td>\n",
       "      <td>cd</td>\n",
       "    </tr>\n",
       "    <tr>\n",
       "      <th>4</th>\n",
       "      <td>1110554599</td>\n",
       "      <td>1</td>\n",
       "      <td>7704712031545</td>\n",
       "      <td>nevera mabe no frost 220 lt top</td>\n",
       "      <td>1</td>\n",
       "      <td>aldia retiro f12</td>\n",
       "      <td>1088255523</td>\n",
       "      <td>cliente</td>\n",
       "      <td>nestor william</td>\n",
       "      <td>agudelo martinez</td>\n",
       "      <td>pereira</td>\n",
       "      <td>2021-01-30 00:00:00</td>\n",
       "      <td>12631220399 retiro</td>\n",
       "      <td>despachado</td>\n",
       "      <td>r</td>\n",
       "      <td>retiro f12</td>\n",
       "      <td>t</td>\n",
       "      <td>9903</td>\n",
       "      <td>cd falabella</td>\n",
       "      <td>4652823</td>\n",
       "      <td>848432</td>\n",
       "      <td>848432</td>\n",
       "      <td>2021-01-31</td>\n",
       "      <td>2</td>\n",
       "      <td>1.entre 1 y 15 dias</td>\n",
       "      <td>cd</td>\n",
       "    </tr>\n",
       "  </tbody>\n",
       "</table>\n",
       "</div>"
      ]
     },
     "metadata": {},
     "execution_count": 95
    }
   ],
   "metadata": {}
  },
  {
   "cell_type": "code",
   "execution_count": 104,
   "source": [
    "nc.to_csv('output/data_f11_V8.csv', sep=';', index=False) "
   ],
   "outputs": [],
   "metadata": {}
  }
 ],
 "metadata": {
  "orig_nbformat": 4,
  "language_info": {
   "name": "python",
   "version": "3.8.8",
   "mimetype": "text/x-python",
   "codemirror_mode": {
    "name": "ipython",
    "version": 3
   },
   "pygments_lexer": "ipython3",
   "nbconvert_exporter": "python",
   "file_extension": ".py"
  },
  "kernelspec": {
   "name": "python3",
   "display_name": "Python 3.8.8 64-bit ('base': conda)"
  },
  "interpreter": {
   "hash": "8ebac8f8f364d690520f7fa87029f639f88941f9cdb9d4c74cff5ecb7a0c603e"
  }
 },
 "nbformat": 4,
 "nbformat_minor": 2
}