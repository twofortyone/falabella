{
    "cells": [
        {
            "cell_type": "code",
            "execution_count": 1,
            "source": [
                "import pandas as pd"
            ],
            "outputs": [],
            "metadata": {}
        },
        {
            "cell_type": "code",
            "execution_count": 15,
            "source": [
                "cf11 = pd.read_excel('output/cierres_nc/210806-1701-cnc-20-output.xlsx', sheet_name='210806-1701_cnc', dtype='object')"
            ],
            "outputs": [],
            "metadata": {}
        },
        {
            "cell_type": "code",
            "execution_count": 16,
            "source": [
                "af3 = pd.read_excel('input/210806_act_f3.xlsx', dtype='object')\r\n",
                "af4 = pd.read_excel('input/210806_act_f4.xlsx', dtype='object')"
            ],
            "outputs": [],
            "metadata": {}
        },
        {
            "cell_type": "code",
            "execution_count": 37,
            "source": [
                "af4.drop_duplicates(subset=['F12', 'UPC'], inplace=True)\r\n",
                "nf4 = cf11.loc[cf11.GCO=='NF4']\r\n",
                "af4 = af4[['F4', 'F12', 'UPC', 'ESTADO']]\r\n",
                "f4m = nf4.merge(af4, how='left', left_on=['f12', 'upc'], right_on=['F12', 'UPC'])\r\n",
                "nf4rta = f4m.loc[f4m['F4'].notna()]\r\n",
                "nf4rta.to_excel('nf4.xlsx')"
            ],
            "outputs": [],
            "metadata": {}
        },
        {
            "cell_type": "code",
            "execution_count": 53,
            "source": [
                "af3.drop_duplicates(subset=['F12', 'PRD_UPC'], inplace=True)\r\n",
                "nf3 = cf11.loc[cf11.GCO=='NF3']\r\n",
                "af3 = af3[['RTV_NUMBER', 'F12', 'PRD_UPC', 'RTV_STATUS']]\r\n",
                "f3m = nf3.merge(af3, how='left', left_on=['f12', 'upc'], right_on=['F12', 'PRD_UPC'])\r\n",
                "nf3rta = f3m.loc[f3m['RTV_NUMBER'].notna()]\r\n",
                "nf3rta.to_excel('nf3.xlsx')"
            ],
            "outputs": [],
            "metadata": {}
        },
        {
            "cell_type": "code",
            "execution_count": 49,
            "source": [
                "af3.columns"
            ],
            "outputs": [
                {
                    "output_type": "execute_result",
                    "data": {
                        "text/plain": [
                            "Index(['RTV_NUMBER', 'RTV_SHIP_LOC', 'RTV_SHIP_DATE', 'RTV_ENTRY_DATE',\n",
                            "       'RTV_APROV_DATE', 'RTV_PICK_DATE', 'RTV_CLOSE_DATE', 'RTV_QTY_REQ',\n",
                            "       'PRD_UPC', 'SKU', 'QTY_CONF', 'RTV_QTY_APROV', 'RTV_STS_DESC',\n",
                            "       'RTV_STATUS', 'RTV_NOTES', 'NORDEN_COMPRA', 'Columna1', 'F12', 'F3-2',\n",
                            "       'F3-3', 'F3-4', 'F3-5', 'F3-6', 'F3-7'],\n",
                            "      dtype='object')"
                        ]
                    },
                    "metadata": {},
                    "execution_count": 49
                }
            ],
            "metadata": {}
        },
        {
            "cell_type": "code",
            "execution_count": 2,
            "source": [
                "inf11 = pd.read_csv('input/panel_f11/indicadores_f11.csv', sep=';', dtype='object')"
            ],
            "outputs": [],
            "metadata": {}
        },
        {
            "cell_type": "code",
            "execution_count": 3,
            "source": [
                "inf11.to_csv('input/panel_f11/if11.csv', sep=',', index=False)"
            ],
            "outputs": [],
            "metadata": {}
        },
        {
            "cell_type": "code",
            "execution_count": 4,
            "source": [
                "cnc = pd.read_csv('input/cierres_nc/210730-1635-cierres_nc.csv', sep=';', dtype='object')"
            ],
            "outputs": [],
            "metadata": {}
        },
        {
            "cell_type": "code",
            "execution_count": 7,
            "source": [
                "cnc[cnc.esmc=='cerrado'].tipmc.unique()"
            ],
            "outputs": [
                {
                    "output_type": "execute_result",
                    "data": {
                        "text/plain": [
                            "array(['error en generacion de nota credito',\n",
                            "       'se asocia f4 dado de baja por producto entregado a cliente',\n",
                            "       'se asocia f4 por producto no ubicado',\n",
                            "       'se asocia f11-conciliacion con transportadora',\n",
                            "       'compensacion con ct verde', 'con ro asociado', 'f5 en revision',\n",
                            "       'se asocia f4-baja de inventario-menaje',\n",
                            "       'nota credito no procesada', 'compensacion con tienda',\n",
                            "       'pendiente generar f5', 'f12 en digitado sin salida',\n",
                            "       'con quiebre asociado', 'con mc asociada', 'revision de stock',\n",
                            "       'compensa con el mismo local', 'asociado a servicio tecnico',\n",
                            "       'en revision servicios tecnicos', 'compensacion con preventas',\n",
                            "       'con f11 tipo cliente asociado',\n",
                            "       'se asocia f3-devuelto a proveedor',\n",
                            "       'en revision ingreso sistema logistica inversa',\n",
                            "       'baja con cargo a linea por costos',\n",
                            "       'devolucion no efectivanueva facturacion',\n",
                            "       'reclamo faltantedespacho incompleto', 'sku garantiaarmado',\n",
                            "       'local venta 3000no aplica carga',\n",
                            "       'baja con cargo a dependencia por politicasdefiniciones',\n",
                            "       'compensa con local de ventaanulado x user',\n",
                            "       'compensacion con dvd administrativo',\n",
                            "       'compensacion con ct ciudades', 'f11 tipo cliente asociado',\n",
                            "       'para creacion de f',\n",
                            "       'ingreso en sistema con sku trocadounidades no corresponden',\n",
                            "       'devuelto a proveedor', 'ingreso con sku trocado',\n",
                            "       'en revision pos venta',\n",
                            "       'con ingreso en sistema con sku trocadounidades no corresponden',\n",
                            "       'entregado en tienda home centerubicacion debe ser falabella',\n",
                            "       'registro duplicado', 'duplicidad en la query',\n",
                            "       'pendiente generar f4 en el local 3000 para cierre',\n",
                            "       'pendiente asociar f4', 'con entrada de mc',\n",
                            "       'compensa con ctverde'], dtype=object)"
                        ]
                    },
                    "metadata": {},
                    "execution_count": 7
                }
            ],
            "metadata": {}
        },
        {
            "cell_type": "code",
            "execution_count": 8,
            "source": [
                "import input.tipmc"
            ],
            "outputs": [],
            "metadata": {}
        },
        {
            "cell_type": "code",
            "execution_count": 11,
            "source": [
                "input.tipmc.tipmc_const"
            ],
            "outputs": [
                {
                    "output_type": "execute_result",
                    "data": {
                        "text/plain": [
                            "['error en generacion de nota credito',\n",
                            " 'se asocia f4 dado de baja por producto entregado a cliente',\n",
                            " 'se asocia f4 por producto no ubicado',\n",
                            " 'se asocia f11-conciliacion con transportadora',\n",
                            " 'compensacion con ct verde',\n",
                            " 'con ro asociado',\n",
                            " 'f5 en revision',\n",
                            " 'se asocia f4-baja de inventario-menaje',\n",
                            " 'nota credito no procesada',\n",
                            " 'compensacion con tienda',\n",
                            " 'pendiente generar f5',\n",
                            " 'f12 en digitado sin salida',\n",
                            " 'con quiebre asociado',\n",
                            " 'con mc asociada',\n",
                            " 'revision de stock',\n",
                            " 'compensa con el mismo local',\n",
                            " 'asociado a servicio tecnico',\n",
                            " 'en revision servicios tecnicos',\n",
                            " 'compensacion con preventas',\n",
                            " 'con f11 tipo cliente asociado',\n",
                            " 'se asocia f3-devuelto a proveedor',\n",
                            " 'en revision ingreso sistema logistica inversa',\n",
                            " 'baja con cargo a linea por costos',\n",
                            " 'devolucion no efectivanueva facturacion',\n",
                            " 'reclamo faltantedespacho incompleto',\n",
                            " 'sku garantiaarmado',\n",
                            " 'local venta 3000no aplica carga',\n",
                            " 'baja con cargo a dependencia por politicasdefiniciones',\n",
                            " 'compensa con local de ventaanulado x user',\n",
                            " 'compensacion con dvd administrativo',\n",
                            " 'compensacion con ct ciudades',\n",
                            " 'f11 tipo cliente asociado',\n",
                            " 'para creacion de f',\n",
                            " 'ingreso en sistema con sku trocadounidades no corresponden',\n",
                            " 'devuelto a proveedor',\n",
                            " 'ingreso con sku trocado',\n",
                            " 'en revision pos venta',\n",
                            " 'con ingreso en sistema con sku trocadounidades no corresponden',\n",
                            " 'entregado en tienda home centerubicacion debe ser falabella',\n",
                            " 'registro duplicado',\n",
                            " 'duplicidad en la query',\n",
                            " 'pendiente generar f4 en el local 3000 para cierre',\n",
                            " 'pendiente asociar f4',\n",
                            " 'con entrada de mc',\n",
                            " 'compensa con ctverde']"
                        ]
                    },
                    "metadata": {},
                    "execution_count": 11
                }
            ],
            "metadata": {}
        },
        {
            "cell_type": "code",
            "execution_count": null,
            "source": [],
            "outputs": [],
            "metadata": {}
        }
    ],
    "metadata": {
        "orig_nbformat": 4,
        "language_info": {
            "name": "python",
            "version": "3.8.8",
            "mimetype": "text/x-python",
            "codemirror_mode": {
                "name": "ipython",
                "version": 3
            },
            "pygments_lexer": "ipython3",
            "nbconvert_exporter": "python",
            "file_extension": ".py"
        },
        "kernelspec": {
            "name": "python3",
            "display_name": "Python 3.8.8 64-bit ('base': conda)"
        },
        "interpreter": {
            "hash": "8ebac8f8f364d690520f7fa87029f639f88941f9cdb9d4c74cff5ecb7a0c603e"
        }
    },
    "nbformat": 4,
    "nbformat_minor": 2
}