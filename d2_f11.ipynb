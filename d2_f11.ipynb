{
 "cells": [
  {
   "cell_type": "code",
   "execution_count": 1,
   "id": "0b87bab4",
   "metadata": {},
   "outputs": [],
   "source": [
    "import pandas as pd"
   ]
  },
  {
   "cell_type": "code",
   "execution_count": 2,
   "id": "008239f3",
   "metadata": {},
   "outputs": [],
   "source": [
    "pd.set_option('display.max_columns', 70)\n",
    "pd.set_option('display.max_rows',150)"
   ]
  },
  {
   "cell_type": "code",
   "execution_count": 3,
   "id": "e0b166da",
   "metadata": {},
   "outputs": [],
   "source": [
    "df = pd.read_csv('input/bases/210729_f11_l2000.csv', sep=';', dtype='object')"
   ]
  },
  {
   "cell_type": "code",
   "execution_count": 4,
   "id": "04e163e3",
   "metadata": {},
   "outputs": [],
   "source": [
    "def gr(df3, dfna):\n",
    "    df = df3.copy()\n",
    "    i = 0\n",
    "    idf=0\n",
    "    while i < dfna.shape[0]:\n",
    "        i = dfna.index[idf]\n",
    "        df.iloc[i-4,21] = dfna.iloc[idf-2,1:2].values[0]\n",
    "        df.iloc[i-4,22:27] = dfna.iloc[idf-1,1:6].values\n",
    "        df.iloc[i-4,27:49] = dfna.iloc[idf,1:23].values\n",
    "        idf+=3\n",
    "    return df "
   ]
  },
  {
   "cell_type": "code",
   "execution_count": 5,
   "id": "05f58fc3",
   "metadata": {},
   "outputs": [],
   "source": [
    "def grdos(dfarg, dfna):\n",
    "    df = dfarg.copy()\n",
    "    i = 0\n",
    "    idf=0\n",
    "    while idf < dfna.shape[0]:\n",
    "        i = dfna.index[idf]\n",
    "        df.iloc[i-2,3] = df.iloc[i-1,1]\n",
    "        df.iloc[i-2,4:6] = df.iloc[i,1:3].values\n",
    "        df.iloc[i-2,6:21] = df.iloc[i+1,1:16].values\n",
    "        idf+=1\n",
    "    return df "
   ]
  },
  {
   "cell_type": "markdown",
   "id": "1a0764de",
   "metadata": {},
   "source": [
    "Limpieza parte 1 "
   ]
  },
  {
   "cell_type": "code",
   "execution_count": 6,
   "id": "c9603b2a",
   "metadata": {},
   "outputs": [],
   "source": [
    "dfnull = df[df.isnull().all(axis=1)]\n",
    "df = df[~df.isnull().all(axis=1)].reset_index(drop=True)"
   ]
  },
  {
   "cell_type": "markdown",
   "id": "b152c3b0",
   "metadata": {},
   "source": [
    "Limpieza parte 2"
   ]
  },
  {
   "cell_type": "code",
   "execution_count": 7,
   "id": "de9e7f53",
   "metadata": {
    "scrolled": true
   },
   "outputs": [],
   "source": [
    "dfna = df[df['Nro. F11'].isna()]\n",
    "idfna = dfna.index.values \n",
    "\n",
    "dfnacliente = df.loc[(df['Nro. F11'].isna())&((df['F03 Asociado']=='CLIENTE')|(df['F03 Asociado']=='EMPRESA'))]\n",
    "index_dfnac = dfnacliente.index\n",
    "\n",
    "menosuno = (index_dfnac-1).isin(idfna)\n",
    "menosdos = (index_dfnac-2).isin(idfna)\n",
    "\n",
    "oklist = []\n",
    "for i in range(len(index_dfnac)): \n",
    "    oklist.append((menosuno[i]==True) & (menosdos[i]==True))\n",
    "    \n",
    "itochange = index_dfnac[oklist]\n",
    "\n",
    "acamb = dfnacliente.loc[itochange]\n",
    "\n",
    "df2 = gr(df, acamb)\n",
    "iuno = acamb.index.values\n",
    "idos = acamb.index.values-1\n",
    "itres = acamb.index.values-2\n",
    "df3 = df2.loc[~df2.index.isin(iuno)]\n",
    "df3 = df3.loc[~df3.index.isin(idos)]\n",
    "df3 = df3.loc[~df3.index.isin(itres)]\n",
    "df3.reset_index(drop=True, inplace=True)\n",
    "\n",
    "dfuno = df.loc[(df.index.isin(iuno))|(df.index.isin(idos))|(df.index.isin(itres))]\n",
    "dfuno.to_excel(f'output/df-deleted-1.xlsx', sheet_name=f'f11', index=False) \n",
    "\n"
   ]
  },
  {
   "cell_type": "code",
   "execution_count": 8,
   "id": "8b0a3cf9",
   "metadata": {},
   "outputs": [],
   "source": [
    "dfnacliente.to_excel(f'output/dfna-2.xlsx', sheet_name=f'f11', index=False) "
   ]
  },
  {
   "cell_type": "markdown",
   "id": "e4bb4c68",
   "metadata": {},
   "source": [
    "Limpieza parte 2"
   ]
  },
  {
   "cell_type": "code",
   "execution_count": 9,
   "id": "6d3226ee",
   "metadata": {
    "scrolled": true
   },
   "outputs": [],
   "source": [
    "dfna = df3[df3['Nro. F11'].isna()]\n",
    "\n",
    "indexdigit = df3.loc[(df3['Nro. F11'].isna())&(df3['F03 Asociado'].str.isdigit())].index\n",
    "\n",
    "index_dfna = dfna.index.values\n",
    "masuno = (indexdigit+1).isin(index_dfna)\n",
    "menosuno = (indexdigit-1).isin(index_dfna)\n",
    "\n",
    "oklist = []\n",
    "for i in range(len(indexdigit)): \n",
    "    oklist.append((masuno[i]==True) & (menosuno[i]==True))\n",
    "    \n",
    "itochange = indexdigit[oklist]"
   ]
  },
  {
   "cell_type": "code",
   "execution_count": 10,
   "id": "70ec218c",
   "metadata": {
    "scrolled": true
   },
   "outputs": [],
   "source": [
    "acamb = dfna.loc[itochange]\n",
    "df4 = grdos(df3, acamb)\n",
    "iuno = acamb.index.values-1\n",
    "idos = acamb.index.values\n",
    "itres = acamb.index.values+1\n",
    "df4 = df4.loc[~df4.index.isin(iuno)]\n",
    "df4 = df4.loc[~df4.index.isin(idos)]\n",
    "df4 = df4.loc[~df4.index.isin(itres)]\n",
    "df4.reset_index(drop=True, inplace=True)\n",
    "\n",
    "dfdos = df3.loc[(df3.index.isin(iuno))|(df3.index.isin(idos))|(df3.index.isin(itres))]\n",
    "dfdos.to_excel(f'output/df-deleted-2.xlsx', sheet_name=f'f11', index=False) "
   ]
  },
  {
   "cell_type": "markdown",
   "id": "1c1881a5",
   "metadata": {},
   "source": [
    "Limpieza parte 3"
   ]
  },
  {
   "cell_type": "code",
   "execution_count": 11,
   "id": "4a000e40",
   "metadata": {},
   "outputs": [],
   "source": [
    "bogota = df4.loc[(df4['Nro. F11'].isna())&(df4['F03 Asociado']=='BOGOTA')]\n",
    "\n",
    "for i in bogota.index:\n",
    "    df4.iloc[i-1,22:27] = df4.iloc[i,1:6].values\n",
    "    \n",
    "df5 = df4[~df4.index.isin(bogota.index)].reset_index(drop=True)"
   ]
  },
  {
   "cell_type": "markdown",
   "id": "77dfab6e",
   "metadata": {},
   "source": [
    "cliente/empresa"
   ]
  },
  {
   "cell_type": "code",
   "execution_count": 12,
   "id": "6f663734",
   "metadata": {},
   "outputs": [],
   "source": [
    "cliente_empresa = df5.loc[(df5['Nro. F11'].isna())&((df5['F03 Asociado']=='CLIENTE')|(df5['F03 Asociado']=='EMPRESA'))]\n",
    "\n",
    "for i in cliente_empresa.index:\n",
    "    df5.iloc[i-1,27:49] = df5.iloc[i,1:23].values\n",
    "    \n",
    "df6 = df5[~df5.index.isin(cliente_empresa.index)].reset_index(drop=True)"
   ]
  },
  {
   "cell_type": "markdown",
   "id": "f9c46e08",
   "metadata": {},
   "source": [
    "direccion"
   ]
  },
  {
   "cell_type": "code",
   "execution_count": 13,
   "id": "ece3f186",
   "metadata": {
    "scrolled": true
   },
   "outputs": [],
   "source": [
    "direc = df6.loc[(~df6['F03 Asociado'].str.isdigit().fillna(False))&(df6['Nro. F11'].isna())&(df6['F03 Asociado']!='CD FALABELLA')]\n",
    "\n",
    "for i in direc.index:\n",
    "    df6.iloc[i-1,21:27] = df6.iloc[i,1:7].values\n",
    "    df6.iloc[i-1,27:49] = df6.iloc[i,27:49].values\n",
    "    \n",
    "df7 = df6[~df6.index.isin(direc.index)].reset_index(drop=True)"
   ]
  },
  {
   "cell_type": "markdown",
   "id": "c0a65f31",
   "metadata": {},
   "source": [
    "Guardar archivos "
   ]
  },
  {
   "cell_type": "code",
   "execution_count": 14,
   "id": "a1361166",
   "metadata": {},
   "outputs": [],
   "source": [
    "df3.to_excel(f'output/df3.xlsx', sheet_name=f'f11', index=False) \n",
    "df4.to_excel(f'output/df4.xlsx', sheet_name=f'f11', index=False) \n",
    "df5.to_excel(f'output/df5.xlsx', sheet_name=f'f11', index=False) \n",
    "df6.to_excel(f'output/df6.xlsx', sheet_name=f'f11', index=False) \n",
    "df7.to_excel(f'output/df7.xlsx', sheet_name=f'f11', index=False) "
   ]
  },
  {
   "cell_type": "code",
   "execution_count": null,
   "id": "81db0d00",
   "metadata": {},
   "outputs": [],
   "source": []
  }
 ],
 "metadata": {
  "kernelspec": {
   "display_name": "Python 3.9.5 64-bit ('fala': conda)",
   "language": "python",
   "name": "python395jvsc74a57bd0183aa361c541b3ff48c3a79812959f5d5be773975acbe832fca49e0113764b3a"
  },
  "language_info": {
   "codemirror_mode": {
    "name": "ipython",
    "version": 3
   },
   "file_extension": ".py",
   "mimetype": "text/x-python",
   "name": "python",
   "nbconvert_exporter": "python",
   "pygments_lexer": "ipython3",
   "version": "3.9.5"
  }
 },
 "nbformat": 4,
 "nbformat_minor": 5
}
