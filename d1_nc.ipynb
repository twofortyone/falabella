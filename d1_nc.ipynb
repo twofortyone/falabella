{
 "cells": [
  {
   "cell_type": "code",
   "execution_count": 1,
   "source": [
    "import pandas as pd"
   ],
   "outputs": [],
   "metadata": {}
  },
  {
   "cell_type": "code",
   "execution_count": 2,
   "source": [
    "pd.set_option('display.max_columns', 70)\r\n",
    "pd.set_option('display.max_rows',150)"
   ],
   "outputs": [],
   "metadata": {}
  },
  {
   "cell_type": "code",
   "execution_count": 34,
   "source": [
    "df = pd.read_csv('input/cierres_nc/210914-1607-cierres_nc_21.csv', sep=';', dtype='object')"
   ],
   "outputs": [],
   "metadata": {}
  },
  {
   "cell_type": "code",
   "execution_count": 35,
   "source": [
    "f4 = pd.read_csv('input/cierres_nc/210914-1607-f4.csv', sep=';', dtype='object')"
   ],
   "outputs": [],
   "metadata": {}
  },
  {
   "cell_type": "code",
   "execution_count": 36,
   "source": [
    "df.shape"
   ],
   "outputs": [
    {
     "output_type": "execute_result",
     "data": {
      "text/plain": [
       "(76457, 16)"
      ]
     },
     "metadata": {},
     "execution_count": 36
    }
   ],
   "metadata": {}
  },
  {
   "cell_type": "code",
   "execution_count": 37,
   "source": [
    "cerrado = df[df['estado_final']=='cerrado']"
   ],
   "outputs": [],
   "metadata": {}
  },
  {
   "cell_type": "code",
   "execution_count": 38,
   "source": [
    "cerrado.shape"
   ],
   "outputs": [
    {
     "output_type": "execute_result",
     "data": {
      "text/plain": [
       "(72273, 16)"
      ]
     },
     "metadata": {},
     "execution_count": 38
    }
   ],
   "metadata": {}
  },
  {
   "cell_type": "code",
   "execution_count": 39,
   "source": [
    "eac = cerrado[cerrado['tipificacion_final']=='se asocia f4 dado de baja por producto entregado a cliente'].reset_index(drop=True)"
   ],
   "outputs": [],
   "metadata": {}
  },
  {
   "cell_type": "code",
   "execution_count": 40,
   "source": [
    "lista_tip = ['se asocia f4 dado de baja por producto entegado a cliente con nc', \r\n",
    "'se asocia f4 entregado a cliente', \r\n",
    "'se asocia f4 producto entregado a cliente',\r\n",
    "'se asocia f4 dado de baja por producto entregado a cliente', \r\n",
    "'se asocia f4 por producto entregado a cliente con nc',\r\n",
    "'se asocia a f4 entregado a cliente no ubicado - cerrado - 3000']"
   ],
   "outputs": [],
   "metadata": {}
  },
  {
   "cell_type": "code",
   "execution_count": 41,
   "source": [
    "eac = cerrado[cerrado['tipificacion_final'].isin(lista_tip)].reset_index(drop=True)"
   ],
   "outputs": [],
   "metadata": {}
  },
  {
   "cell_type": "code",
   "execution_count": 42,
   "source": [
    "eac.shape"
   ],
   "outputs": [
    {
     "output_type": "execute_result",
     "data": {
      "text/plain": [
       "(182, 16)"
      ]
     },
     "metadata": {},
     "execution_count": 42
    }
   ],
   "metadata": {}
  },
  {
   "cell_type": "markdown",
   "source": [
    "Unir f4 y cnc"
   ],
   "metadata": {}
  },
  {
   "cell_type": "code",
   "execution_count": 43,
   "source": [
    "ef = eac.merge(f4, how='left', left_on=['f4', 'upc'], right_on=['nro_red_inventario', 'upc'])"
   ],
   "outputs": [],
   "metadata": {}
  },
  {
   "cell_type": "code",
   "execution_count": 44,
   "source": [
    "ef.loc[ef.nro_red_inventario.isna()].shape"
   ],
   "outputs": [
    {
     "output_type": "execute_result",
     "data": {
      "text/plain": [
       "(17, 24)"
      ]
     },
     "metadata": {},
     "execution_count": 44
    }
   ],
   "metadata": {}
  },
  {
   "cell_type": "markdown",
   "source": [
    "Tiene # de F4?"
   ],
   "metadata": {}
  },
  {
   "cell_type": "code",
   "execution_count": 45,
   "source": [
    "na = ef.loc[ef.f4.isna()]\r\n",
    "ef.loc[na.index,'D2'] = 'No tiene número de F4'\r\n",
    "notna = ef.loc[ef.f4.notna()]"
   ],
   "outputs": [],
   "metadata": {}
  },
  {
   "cell_type": "markdown",
   "source": [
    "F4 único "
   ],
   "metadata": {}
  },
  {
   "cell_type": "code",
   "execution_count": 47,
   "source": [
    "ef.loc[(ef.D2.isna())& (ef.duplicated(['f4'], keep=False))].shape"
   ],
   "outputs": [
    {
     "output_type": "execute_result",
     "data": {
      "text/plain": [
       "(0, 25)"
      ]
     },
     "metadata": {},
     "execution_count": 47
    }
   ],
   "metadata": {}
  },
  {
   "cell_type": "code",
   "execution_count": 46,
   "source": [
    "ef.loc[(ef.D2.isna())& (ef.duplicated(['f4'], keep=False)), 'D2'] = 'F4 tiene varias NC'"
   ],
   "outputs": [],
   "metadata": {}
  },
  {
   "cell_type": "markdown",
   "source": [
    "Fecha de creación diferente a julio"
   ],
   "metadata": {}
  },
  {
   "cell_type": "code",
   "execution_count": 20,
   "source": [
    "ef.loc[(ef.D2.isna())& (ef.fecha_creacion=='05-may-2021')].shape "
   ],
   "outputs": [
    {
     "output_type": "execute_result",
     "data": {
      "text/plain": [
       "(0, 25)"
      ]
     },
     "metadata": {},
     "execution_count": 20
    }
   ],
   "metadata": {}
  },
  {
   "cell_type": "code",
   "execution_count": 17,
   "source": [
    "ef.loc[(ef.D2.isna())& (ef.fecha_creacion=='05-may-2021') ,'D2'] = 'F4 con fecha de creación diferente a 07/21'"
   ],
   "outputs": [],
   "metadata": {}
  },
  {
   "cell_type": "code",
   "execution_count": 20,
   "source": [
    "ef.loc[(ef.D2.isna())& (ef.fecha_creacion=='11-jun-2021')].shape "
   ],
   "outputs": [
    {
     "output_type": "execute_result",
     "data": {
      "text/plain": [
       "(0, 23)"
      ]
     },
     "metadata": {},
     "execution_count": 20
    }
   ],
   "metadata": {}
  },
  {
   "cell_type": "code",
   "execution_count": 19,
   "source": [
    "ef.loc[(ef.D2.isna())&(ef.fecha_creacion=='11-jun-2021'), 'D2'] = 'F4 con fecha de creación diferente a 07/21'"
   ],
   "outputs": [],
   "metadata": {}
  },
  {
   "cell_type": "markdown",
   "source": [
    "F4 anulados"
   ],
   "metadata": {}
  },
  {
   "cell_type": "code",
   "execution_count": 21,
   "source": [
    "ef.loc[ef.D2.isna()]['estado'].unique()"
   ],
   "outputs": [
    {
     "output_type": "execute_result",
     "data": {
      "text/plain": [
       "array(['registrado', nan, 'reservado', 'anulado'], dtype=object)"
      ]
     },
     "metadata": {},
     "execution_count": 21
    }
   ],
   "metadata": {}
  },
  {
   "cell_type": "code",
   "execution_count": 22,
   "source": [
    "ef.loc[(ef.D2.isna())&(ef.estado=='anulado')].shape"
   ],
   "outputs": [
    {
     "output_type": "execute_result",
     "data": {
      "text/plain": [
       "(6, 25)"
      ]
     },
     "metadata": {},
     "execution_count": 22
    }
   ],
   "metadata": {}
  },
  {
   "cell_type": "code",
   "execution_count": 48,
   "source": [
    "ef.loc[(ef.D2.isna())&(ef.estado=='anulado'), 'D2'] = 'F4 con estado anulado'"
   ],
   "outputs": [],
   "metadata": {}
  },
  {
   "cell_type": "markdown",
   "source": [
    "Existen F4 en estado registrado? "
   ],
   "metadata": {}
  },
  {
   "cell_type": "code",
   "execution_count": 19,
   "source": [
    "ef.fecha_creacion.unique()"
   ],
   "outputs": [
    {
     "output_type": "execute_result",
     "data": {
      "text/plain": [
       "array(['12-jul-2021', '05-ago-2021', nan, '26-ago-2021', '20-ago-2021',\n",
       "       '06-ago-2021', '30-ago-2021', '19-ago-2021', '24-ago-2021',\n",
       "       '23-ago-2021', '12-ago-2021', '29-jul-2021', '11-jun-2021',\n",
       "       '04-ago-2021', '27-jul-2021', '21-jul-2021', '22-jul-2021',\n",
       "       '17-jul-2021', '16-jul-2021', '15-jul-2021', '14-jul-2021',\n",
       "       '13-ago-2021', '17-ago-2021', '04-may-2021', '25-ago-2021',\n",
       "       '19-jul-2021', '02-ago-2021', '30-jul-2021'], dtype=object)"
      ]
     },
     "metadata": {},
     "execution_count": 19
    }
   ],
   "metadata": {}
  },
  {
   "cell_type": "code",
   "execution_count": 49,
   "source": [
    "fechas = ['12-jul-2021', '05-ago-2021', '06-ago-2021', '12-ago-2021', '29-jul-2021', '11-jun-2021',\r\n",
    "       '04-ago-2021', '27-jul-2021', '21-jul-2021', '22-jul-2021',\r\n",
    "       '17-jul-2021', '16-jul-2021', '15-jul-2021', '14-jul-2021',\r\n",
    "       '13-ago-2021', '04-may-2021',  '19-jul-2021', '02-ago-2021', '30-jul-2021']"
   ],
   "outputs": [],
   "metadata": {}
  },
  {
   "cell_type": "code",
   "execution_count": 50,
   "source": [
    "ef.loc[(ef.D2.isna())&(ef.estado=='registrado')&(ef.fecha_creacion.isin(fechas))].shape"
   ],
   "outputs": [
    {
     "output_type": "execute_result",
     "data": {
      "text/plain": [
       "(32, 25)"
      ]
     },
     "metadata": {},
     "execution_count": 50
    }
   ],
   "metadata": {}
  },
  {
   "cell_type": "code",
   "execution_count": 51,
   "source": [
    "ef.loc[(ef.D2.isna())&(ef.estado=='registrado')&(ef.fecha_creacion.isin(fechas)), 'D2'] = 'F4 en registrado con más de un mes de creación'"
   ],
   "outputs": [],
   "metadata": {}
  },
  {
   "cell_type": "code",
   "execution_count": 52,
   "source": [
    "ncc = ef.loc[(ef.D2.isna())&(ef.cantidad_trx_actual!=ef.cantidad)]"
   ],
   "outputs": [],
   "metadata": {
    "scrolled": true
   }
  },
  {
   "cell_type": "code",
   "execution_count": 53,
   "source": [
    "ncc.shape"
   ],
   "outputs": [
    {
     "output_type": "execute_result",
     "data": {
      "text/plain": [
       "(3, 25)"
      ]
     },
     "metadata": {},
     "execution_count": 53
    }
   ],
   "metadata": {}
  },
  {
   "cell_type": "code",
   "execution_count": 26,
   "source": [
    "ncc.to_excel(f'output/210818-d2-f4-ncc.xlsx', sheet_name=f'nc-f4-base', index=False) "
   ],
   "outputs": [],
   "metadata": {}
  },
  {
   "cell_type": "code",
   "execution_count": 27,
   "source": [
    "ef.head()"
   ],
   "outputs": [
    {
     "output_type": "execute_result",
     "data": {
      "text/html": [
       "<div>\n",
       "<style scoped>\n",
       "    .dataframe tbody tr th:only-of-type {\n",
       "        vertical-align: middle;\n",
       "    }\n",
       "\n",
       "    .dataframe tbody tr th {\n",
       "        vertical-align: top;\n",
       "    }\n",
       "\n",
       "    .dataframe thead th {\n",
       "        text-align: right;\n",
       "    }\n",
       "</style>\n",
       "<table border=\"1\" class=\"dataframe\">\n",
       "  <thead>\n",
       "    <tr style=\"text-align: right;\">\n",
       "      <th></th>\n",
       "      <th>cod_aut_nc</th>\n",
       "      <th>local_trx</th>\n",
       "      <th>terminal</th>\n",
       "      <th>local_ant</th>\n",
       "      <th>upc</th>\n",
       "      <th>sku</th>\n",
       "      <th>cantidad_trx_actual</th>\n",
       "      <th>ct</th>\n",
       "      <th>tipo_nc</th>\n",
       "      <th>f5</th>\n",
       "      <th>f11_x</th>\n",
       "      <th>f3</th>\n",
       "      <th>f4</th>\n",
       "      <th>estado_final</th>\n",
       "      <th>tipificacion_final</th>\n",
       "      <th>nro_red_inventario</th>\n",
       "      <th>estado</th>\n",
       "      <th>fecha_creacion</th>\n",
       "      <th>destino</th>\n",
       "      <th>linea</th>\n",
       "      <th>cantidad</th>\n",
       "      <th>f11_y</th>\n",
       "      <th>D2</th>\n",
       "    </tr>\n",
       "  </thead>\n",
       "  <tbody>\n",
       "    <tr>\n",
       "      <th>0</th>\n",
       "      <td>1060774658</td>\n",
       "      <td>3000</td>\n",
       "      <td>81</td>\n",
       "      <td>2000</td>\n",
       "      <td>2003681706009</td>\n",
       "      <td>3681706</td>\n",
       "      <td>1</td>\n",
       "      <td>49748</td>\n",
       "      <td>PARCIAL</td>\n",
       "      <td>NaN</td>\n",
       "      <td>NaN</td>\n",
       "      <td>NaN</td>\n",
       "      <td>46324658</td>\n",
       "      <td>cerrado</td>\n",
       "      <td>se asocia f4 dado de baja por producto entrega...</td>\n",
       "      <td>46324658</td>\n",
       "      <td>anulado</td>\n",
       "      <td>12-jul-2021</td>\n",
       "      <td>12603349417 cod aut 1060774658</td>\n",
       "      <td>j07</td>\n",
       "      <td>1</td>\n",
       "      <td>12603349417</td>\n",
       "      <td>F4 con estado anulado</td>\n",
       "    </tr>\n",
       "    <tr>\n",
       "      <th>1</th>\n",
       "      <td>1060740363</td>\n",
       "      <td>3000</td>\n",
       "      <td>17</td>\n",
       "      <td>2000</td>\n",
       "      <td>2003431020003</td>\n",
       "      <td>3431020</td>\n",
       "      <td>1</td>\n",
       "      <td>94118</td>\n",
       "      <td>PARCIAL</td>\n",
       "      <td>NaN</td>\n",
       "      <td>NaN</td>\n",
       "      <td>NaN</td>\n",
       "      <td>46324672</td>\n",
       "      <td>cerrado</td>\n",
       "      <td>se asocia f4 dado de baja por producto entrega...</td>\n",
       "      <td>46324672</td>\n",
       "      <td>anulado</td>\n",
       "      <td>12-jul-2021</td>\n",
       "      <td>12624214794 cod aut 1060740363</td>\n",
       "      <td>j08</td>\n",
       "      <td>1</td>\n",
       "      <td>12624214794</td>\n",
       "      <td>F4 con estado anulado</td>\n",
       "    </tr>\n",
       "    <tr>\n",
       "      <th>2</th>\n",
       "      <td>1060739329</td>\n",
       "      <td>3000</td>\n",
       "      <td>17</td>\n",
       "      <td>2000</td>\n",
       "      <td>2003558344006</td>\n",
       "      <td>3558344</td>\n",
       "      <td>1</td>\n",
       "      <td>227899</td>\n",
       "      <td>PARCIAL</td>\n",
       "      <td>NaN</td>\n",
       "      <td>NaN</td>\n",
       "      <td>NaN</td>\n",
       "      <td>46331045</td>\n",
       "      <td>cerrado</td>\n",
       "      <td>se asocia f4 dado de baja por producto entrega...</td>\n",
       "      <td>46331045</td>\n",
       "      <td>anulado</td>\n",
       "      <td>12-jul-2021</td>\n",
       "      <td>12623786148 cod aut 1060739329</td>\n",
       "      <td>j08</td>\n",
       "      <td>1</td>\n",
       "      <td>12623786148</td>\n",
       "      <td>F4 con estado anulado</td>\n",
       "    </tr>\n",
       "    <tr>\n",
       "      <th>3</th>\n",
       "      <td>1060388084</td>\n",
       "      <td>3000</td>\n",
       "      <td>81</td>\n",
       "      <td>2000</td>\n",
       "      <td>7701144157775</td>\n",
       "      <td>3324151</td>\n",
       "      <td>1</td>\n",
       "      <td>605035</td>\n",
       "      <td>PARCIAL</td>\n",
       "      <td>NaN</td>\n",
       "      <td>NaN</td>\n",
       "      <td>NaN</td>\n",
       "      <td>46331076</td>\n",
       "      <td>cerrado</td>\n",
       "      <td>se asocia f4 dado de baja por producto entrega...</td>\n",
       "      <td>46331076</td>\n",
       "      <td>anulado</td>\n",
       "      <td>12-jul-2021</td>\n",
       "      <td>12624127667 cod aut 1060388084</td>\n",
       "      <td>j14</td>\n",
       "      <td>1</td>\n",
       "      <td>12624127667</td>\n",
       "      <td>F4 con estado anulado</td>\n",
       "    </tr>\n",
       "    <tr>\n",
       "      <th>4</th>\n",
       "      <td>1060982343</td>\n",
       "      <td>3000</td>\n",
       "      <td>3001</td>\n",
       "      <td>2000</td>\n",
       "      <td>2005243666004</td>\n",
       "      <td>5243666</td>\n",
       "      <td>1</td>\n",
       "      <td>53748</td>\n",
       "      <td>PARCIAL</td>\n",
       "      <td>NaN</td>\n",
       "      <td>NaN</td>\n",
       "      <td>NaN</td>\n",
       "      <td>46324702</td>\n",
       "      <td>cerrado</td>\n",
       "      <td>se asocia f4 dado de baja por producto entrega...</td>\n",
       "      <td>46324702</td>\n",
       "      <td>anulado</td>\n",
       "      <td>12-jul-2021</td>\n",
       "      <td>12597813499 cod aut 1060982343</td>\n",
       "      <td>j07</td>\n",
       "      <td>1</td>\n",
       "      <td>12597813499</td>\n",
       "      <td>F4 con estado anulado</td>\n",
       "    </tr>\n",
       "  </tbody>\n",
       "</table>\n",
       "</div>"
      ],
      "text/plain": [
       "   cod_aut_nc local_trx terminal local_ant            upc      sku  \\\n",
       "0  1060774658      3000       81      2000  2003681706009  3681706   \n",
       "1  1060740363      3000       17      2000  2003431020003  3431020   \n",
       "2  1060739329      3000       17      2000  2003558344006  3558344   \n",
       "3  1060388084      3000       81      2000  7701144157775  3324151   \n",
       "4  1060982343      3000     3001      2000  2005243666004  5243666   \n",
       "\n",
       "  cantidad_trx_actual      ct  tipo_nc   f5 f11_x   f3        f4 estado_final  \\\n",
       "0                   1   49748  PARCIAL  NaN   NaN  NaN  46324658      cerrado   \n",
       "1                   1   94118  PARCIAL  NaN   NaN  NaN  46324672      cerrado   \n",
       "2                   1  227899  PARCIAL  NaN   NaN  NaN  46331045      cerrado   \n",
       "3                   1  605035  PARCIAL  NaN   NaN  NaN  46331076      cerrado   \n",
       "4                   1   53748  PARCIAL  NaN   NaN  NaN  46324702      cerrado   \n",
       "\n",
       "                                  tipificacion_final nro_red_inventario  \\\n",
       "0  se asocia f4 dado de baja por producto entrega...           46324658   \n",
       "1  se asocia f4 dado de baja por producto entrega...           46324672   \n",
       "2  se asocia f4 dado de baja por producto entrega...           46331045   \n",
       "3  se asocia f4 dado de baja por producto entrega...           46331076   \n",
       "4  se asocia f4 dado de baja por producto entrega...           46324702   \n",
       "\n",
       "    estado fecha_creacion                         destino linea cantidad  \\\n",
       "0  anulado    12-jul-2021  12603349417 cod aut 1060774658   j07        1   \n",
       "1  anulado    12-jul-2021  12624214794 cod aut 1060740363   j08        1   \n",
       "2  anulado    12-jul-2021  12623786148 cod aut 1060739329   j08        1   \n",
       "3  anulado    12-jul-2021  12624127667 cod aut 1060388084   j14        1   \n",
       "4  anulado    12-jul-2021  12597813499 cod aut 1060982343   j07        1   \n",
       "\n",
       "         f11_y                     D2  \n",
       "0  12603349417  F4 con estado anulado  \n",
       "1  12624214794  F4 con estado anulado  \n",
       "2  12623786148  F4 con estado anulado  \n",
       "3  12624127667  F4 con estado anulado  \n",
       "4  12597813499  F4 con estado anulado  "
      ]
     },
     "metadata": {},
     "execution_count": 27
    }
   ],
   "metadata": {}
  },
  {
   "cell_type": "code",
   "execution_count": 54,
   "source": [
    "ef.loc[ef.D2.isna(), 'D2'] = 'OK'"
   ],
   "outputs": [],
   "metadata": {}
  },
  {
   "cell_type": "code",
   "execution_count": 55,
   "source": [
    "list(ef.loc[(ef.D2.isna()), 'destino'])"
   ],
   "outputs": [
    {
     "output_type": "execute_result",
     "data": {
      "text/plain": [
       "[]"
      ]
     },
     "metadata": {},
     "execution_count": 55
    }
   ],
   "metadata": {
    "scrolled": true
   }
  },
  {
   "cell_type": "code",
   "execution_count": 56,
   "source": [
    "ef['ct'] = pd.to_numeric(ef['ct'])"
   ],
   "outputs": [],
   "metadata": {}
  },
  {
   "cell_type": "code",
   "execution_count": 57,
   "source": [
    "ef.to_excel(f'output/210915-d2-f4.xlsx', sheet_name=f'nc-f4-base', index=False) "
   ],
   "outputs": [],
   "metadata": {}
  },
  {
   "cell_type": "code",
   "execution_count": null,
   "source": [],
   "outputs": [],
   "metadata": {}
  }
 ],
 "metadata": {
  "kernelspec": {
   "name": "python3",
   "display_name": "Python 3.8.8 64-bit ('base': conda)"
  },
  "language_info": {
   "codemirror_mode": {
    "name": "ipython",
    "version": 3
   },
   "file_extension": ".py",
   "mimetype": "text/x-python",
   "name": "python",
   "nbconvert_exporter": "python",
   "pygments_lexer": "ipython3",
   "version": "3.8.8"
  },
  "interpreter": {
   "hash": "8ebac8f8f364d690520f7fa87029f639f88941f9cdb9d4c74cff5ecb7a0c603e"
  }
 },
 "nbformat": 4,
 "nbformat_minor": 5
}