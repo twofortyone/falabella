{
 "cells": [
  {
   "cell_type": "code",
   "execution_count": 1,
   "id": "4576fde4",
   "metadata": {},
   "outputs": [],
   "source": [
    "import pandas as pd"
   ]
  },
  {
   "cell_type": "code",
   "execution_count": 2,
   "id": "200d7035",
   "metadata": {},
   "outputs": [],
   "source": [
    "pd.set_option('display.max_columns', 70)\n",
    "pd.set_option('display.max_rows',150)"
   ]
  },
  {
   "cell_type": "code",
   "execution_count": 3,
   "id": "f949ed40",
   "metadata": {},
   "outputs": [],
   "source": [
    "df = pd.read_csv('input/cierres_nc/210730-1136-cierres_nc.csv', sep=';', dtype='object')"
   ]
  },
  {
   "cell_type": "code",
   "execution_count": 4,
   "id": "2c30fa07",
   "metadata": {},
   "outputs": [],
   "source": [
    "f4 = pd.read_csv('input/cierres_nc/210730-1136-f4.csv', sep=';', dtype='object')"
   ]
  },
  {
   "cell_type": "code",
   "execution_count": 5,
   "id": "0c830803",
   "metadata": {},
   "outputs": [
    {
     "data": {
      "text/plain": [
       "(60219, 14)"
      ]
     },
     "execution_count": 5,
     "metadata": {},
     "output_type": "execute_result"
    }
   ],
   "source": [
    "df.shape"
   ]
  },
  {
   "cell_type": "code",
   "execution_count": 6,
   "id": "3ebd3f53",
   "metadata": {},
   "outputs": [],
   "source": [
    "cerrado = df[df['esmc']=='cerrado']"
   ]
  },
  {
   "cell_type": "code",
   "execution_count": 7,
   "id": "e227bd77",
   "metadata": {},
   "outputs": [
    {
     "data": {
      "text/plain": [
       "(57433, 14)"
      ]
     },
     "execution_count": 7,
     "metadata": {},
     "output_type": "execute_result"
    }
   ],
   "source": [
    "cerrado.shape"
   ]
  },
  {
   "cell_type": "code",
   "execution_count": 8,
   "id": "9cd4a3a9",
   "metadata": {},
   "outputs": [],
   "source": [
    "eac = cerrado[cerrado['tipmc']=='se asocia f4 dado de baja por producto entregado a cliente'].reset_index(drop=True)"
   ]
  },
  {
   "cell_type": "code",
   "execution_count": 9,
   "id": "cf02bbbb",
   "metadata": {},
   "outputs": [
    {
     "data": {
      "text/plain": [
       "(1561, 14)"
      ]
     },
     "execution_count": 9,
     "metadata": {},
     "output_type": "execute_result"
    }
   ],
   "source": [
    "eac.shape"
   ]
  },
  {
   "cell_type": "markdown",
   "id": "5087830a",
   "metadata": {},
   "source": [
    "Unir f4 y cnc"
   ]
  },
  {
   "cell_type": "code",
   "execution_count": 10,
   "id": "3e3a2c2c",
   "metadata": {},
   "outputs": [],
   "source": [
    "ef = eac.merge(f4, how='left', left_on=['f4', 'upc'], right_on=['nro_red_inventario', 'upc'])"
   ]
  },
  {
   "cell_type": "code",
   "execution_count": 11,
   "id": "00f7a21a",
   "metadata": {},
   "outputs": [
    {
     "data": {
      "text/plain": [
       "(725, 21)"
      ]
     },
     "execution_count": 11,
     "metadata": {},
     "output_type": "execute_result"
    }
   ],
   "source": [
    "ef.loc[ef.nro_red_inventario.isna()].shape"
   ]
  },
  {
   "cell_type": "markdown",
   "id": "7526098f",
   "metadata": {},
   "source": [
    "Tiene # de F4?"
   ]
  },
  {
   "cell_type": "code",
   "execution_count": 12,
   "id": "5907e5a9",
   "metadata": {},
   "outputs": [],
   "source": [
    "na = ef.loc[ef.f4.isna()]\n",
    "ef.loc[na.index,'D2'] = 'No tiene número de F4'\n",
    "notna = ef.loc[ef.f4.notna()]"
   ]
  },
  {
   "cell_type": "markdown",
   "id": "1afe7ad4",
   "metadata": {},
   "source": [
    "F4 único "
   ]
  },
  {
   "cell_type": "code",
   "execution_count": 13,
   "id": "fbf5e3c3",
   "metadata": {},
   "outputs": [
    {
     "data": {
      "text/plain": [
       "(220, 22)"
      ]
     },
     "execution_count": 13,
     "metadata": {},
     "output_type": "execute_result"
    }
   ],
   "source": [
    "ef.loc[(ef.D2.isna())& (ef.duplicated(['f4'], keep=False))].shape"
   ]
  },
  {
   "cell_type": "code",
   "execution_count": 14,
   "id": "1e331e58",
   "metadata": {},
   "outputs": [],
   "source": [
    "ef.loc[(ef.D2.isna())& (ef.duplicated(['f4'], keep=False)), 'D2'] = 'F4 tiene varias NC'"
   ]
  },
  {
   "cell_type": "markdown",
   "id": "52da2c1a",
   "metadata": {},
   "source": [
    "Fecha de creación diferente a julio"
   ]
  },
  {
   "cell_type": "code",
   "execution_count": 15,
   "id": "cf12ba00",
   "metadata": {},
   "outputs": [
    {
     "data": {
      "text/plain": [
       "array([nan, '12-jul-2021', '13-jul-2021', '11-jun-2021', '14-jul-2021',\n",
       "       '05-may-2021'], dtype=object)"
      ]
     },
     "execution_count": 15,
     "metadata": {},
     "output_type": "execute_result"
    }
   ],
   "source": [
    "ef.fecha_creacion.unique()"
   ]
  },
  {
   "cell_type": "code",
   "execution_count": 16,
   "id": "a45bf0f1",
   "metadata": {},
   "outputs": [
    {
     "data": {
      "text/plain": [
       "(1, 22)"
      ]
     },
     "execution_count": 16,
     "metadata": {},
     "output_type": "execute_result"
    }
   ],
   "source": [
    "ef.loc[(ef.D2.isna())& (ef.fecha_creacion=='05-may-2021')].shape "
   ]
  },
  {
   "cell_type": "code",
   "execution_count": 17,
   "id": "3ec1e28e",
   "metadata": {},
   "outputs": [],
   "source": [
    "ef.loc[(ef.D2.isna())& (ef.fecha_creacion=='05-may-2021') ,'D2'] = 'F4 con fecha de creación diferente a 07/21'"
   ]
  },
  {
   "cell_type": "code",
   "execution_count": 18,
   "id": "46f6502d",
   "metadata": {},
   "outputs": [
    {
     "data": {
      "text/plain": [
       "(1, 22)"
      ]
     },
     "execution_count": 18,
     "metadata": {},
     "output_type": "execute_result"
    }
   ],
   "source": [
    "ef.loc[(ef.D2.isna())& (ef.fecha_creacion=='11-jun-2021')].shape "
   ]
  },
  {
   "cell_type": "code",
   "execution_count": 19,
   "id": "20a6a623",
   "metadata": {},
   "outputs": [],
   "source": [
    "ef.loc[(ef.D2.isna())&(ef.fecha_creacion=='11-jun-2021'), 'D2'] = 'F4 con fecha de creación diferente a 07/21'"
   ]
  },
  {
   "cell_type": "markdown",
   "id": "fff29ced",
   "metadata": {},
   "source": [
    "F4 anulados"
   ]
  },
  {
   "cell_type": "code",
   "execution_count": 20,
   "id": "e6ef9a09",
   "metadata": {},
   "outputs": [
    {
     "data": {
      "text/plain": [
       "array(['registrado', 'anulado'], dtype=object)"
      ]
     },
     "execution_count": 20,
     "metadata": {},
     "output_type": "execute_result"
    }
   ],
   "source": [
    "ef.loc[ef.D2.isna()]['estado'].unique()"
   ]
  },
  {
   "cell_type": "code",
   "execution_count": 21,
   "id": "2058e0c0",
   "metadata": {},
   "outputs": [
    {
     "data": {
      "text/plain": [
       "(1, 22)"
      ]
     },
     "execution_count": 21,
     "metadata": {},
     "output_type": "execute_result"
    }
   ],
   "source": [
    "ef.loc[(ef.D2.isna())&(ef.estado=='anulado')].shape"
   ]
  },
  {
   "cell_type": "code",
   "execution_count": 22,
   "id": "94784e94",
   "metadata": {},
   "outputs": [],
   "source": [
    "ef.loc[(ef.D2.isna())&(ef.estado=='anulado'), 'D2'] = 'F4 con estado anulado'"
   ]
  },
  {
   "cell_type": "markdown",
   "id": "dee721a7",
   "metadata": {},
   "source": [
    "Existen F4 en estado registrado? "
   ]
  },
  {
   "cell_type": "code",
   "execution_count": 23,
   "id": "32681e20",
   "metadata": {},
   "outputs": [
    {
     "data": {
      "text/plain": [
       "(613, 22)"
      ]
     },
     "execution_count": 23,
     "metadata": {},
     "output_type": "execute_result"
    }
   ],
   "source": [
    "ef.loc[(ef.D2.isna())&(ef.estado=='registrado')].shape"
   ]
  },
  {
   "cell_type": "code",
   "execution_count": 24,
   "id": "380de53b",
   "metadata": {
    "scrolled": true
   },
   "outputs": [],
   "source": [
    "ncc = ef.loc[(ef.D2.isna())&(ef.cantidad_trx_actual!=ef.cantidad)]"
   ]
  },
  {
   "cell_type": "code",
   "execution_count": 25,
   "id": "1325d2d9",
   "metadata": {},
   "outputs": [],
   "source": [
    "ncc.to_excel(f'output/210730-d2-f4-ncc.xlsx', sheet_name=f'nc-f4-base', index=False) "
   ]
  },
  {
   "cell_type": "code",
   "execution_count": 26,
   "id": "24e69e96",
   "metadata": {},
   "outputs": [
    {
     "data": {
      "text/html": [
       "<div>\n",
       "<style scoped>\n",
       "    .dataframe tbody tr th:only-of-type {\n",
       "        vertical-align: middle;\n",
       "    }\n",
       "\n",
       "    .dataframe tbody tr th {\n",
       "        vertical-align: top;\n",
       "    }\n",
       "\n",
       "    .dataframe thead th {\n",
       "        text-align: right;\n",
       "    }\n",
       "</style>\n",
       "<table border=\"1\" class=\"dataframe\">\n",
       "  <thead>\n",
       "    <tr style=\"text-align: right;\">\n",
       "      <th></th>\n",
       "      <th>cod_aut_nc</th>\n",
       "      <th>local_trx</th>\n",
       "      <th>terminal</th>\n",
       "      <th>local_ant</th>\n",
       "      <th>upc</th>\n",
       "      <th>cantidad_trx_actual</th>\n",
       "      <th>ct</th>\n",
       "      <th>tipo_nc</th>\n",
       "      <th>f5</th>\n",
       "      <th>f11_x</th>\n",
       "      <th>f3</th>\n",
       "      <th>f4</th>\n",
       "      <th>esmc</th>\n",
       "      <th>tipmc</th>\n",
       "      <th>nro_red_inventario</th>\n",
       "      <th>estado</th>\n",
       "      <th>fecha_creacion</th>\n",
       "      <th>destino</th>\n",
       "      <th>linea</th>\n",
       "      <th>cantidad</th>\n",
       "      <th>f11_y</th>\n",
       "      <th>D2</th>\n",
       "    </tr>\n",
       "  </thead>\n",
       "  <tbody>\n",
       "    <tr>\n",
       "      <th>0</th>\n",
       "      <td>1060679519</td>\n",
       "      <td>3000</td>\n",
       "      <td>17</td>\n",
       "      <td>2000</td>\n",
       "      <td>7707001583749</td>\n",
       "      <td>1</td>\n",
       "      <td>41600</td>\n",
       "      <td>PARCIAL</td>\n",
       "      <td>NaN</td>\n",
       "      <td>NaN</td>\n",
       "      <td>NaN</td>\n",
       "      <td>NaN</td>\n",
       "      <td>cerrado</td>\n",
       "      <td>se asocia f4 dado de baja por producto entrega...</td>\n",
       "      <td>NaN</td>\n",
       "      <td>NaN</td>\n",
       "      <td>NaN</td>\n",
       "      <td>NaN</td>\n",
       "      <td>NaN</td>\n",
       "      <td>NaN</td>\n",
       "      <td>NaN</td>\n",
       "      <td>No tiene número de F4</td>\n",
       "    </tr>\n",
       "    <tr>\n",
       "      <th>1</th>\n",
       "      <td>1060602364</td>\n",
       "      <td>3000</td>\n",
       "      <td>3001</td>\n",
       "      <td>2000</td>\n",
       "      <td>17817789592</td>\n",
       "      <td>1</td>\n",
       "      <td>1812184976</td>\n",
       "      <td>TOTAL</td>\n",
       "      <td>NaN</td>\n",
       "      <td>NaN</td>\n",
       "      <td>NaN</td>\n",
       "      <td>NaN</td>\n",
       "      <td>cerrado</td>\n",
       "      <td>se asocia f4 dado de baja por producto entrega...</td>\n",
       "      <td>NaN</td>\n",
       "      <td>NaN</td>\n",
       "      <td>NaN</td>\n",
       "      <td>NaN</td>\n",
       "      <td>NaN</td>\n",
       "      <td>NaN</td>\n",
       "      <td>NaN</td>\n",
       "      <td>No tiene número de F4</td>\n",
       "    </tr>\n",
       "    <tr>\n",
       "      <th>2</th>\n",
       "      <td>1060488739</td>\n",
       "      <td>3000</td>\n",
       "      <td>3001</td>\n",
       "      <td>2000</td>\n",
       "      <td>43917005508</td>\n",
       "      <td>1</td>\n",
       "      <td>90743033</td>\n",
       "      <td>TOTAL</td>\n",
       "      <td>NaN</td>\n",
       "      <td>NaN</td>\n",
       "      <td>NaN</td>\n",
       "      <td>NaN</td>\n",
       "      <td>cerrado</td>\n",
       "      <td>se asocia f4 dado de baja por producto entrega...</td>\n",
       "      <td>NaN</td>\n",
       "      <td>NaN</td>\n",
       "      <td>NaN</td>\n",
       "      <td>NaN</td>\n",
       "      <td>NaN</td>\n",
       "      <td>NaN</td>\n",
       "      <td>NaN</td>\n",
       "      <td>No tiene número de F4</td>\n",
       "    </tr>\n",
       "    <tr>\n",
       "      <th>3</th>\n",
       "      <td>1060680379</td>\n",
       "      <td>2000</td>\n",
       "      <td>23</td>\n",
       "      <td>2000</td>\n",
       "      <td>8002713130472</td>\n",
       "      <td>1</td>\n",
       "      <td>19609</td>\n",
       "      <td>PARCIAL</td>\n",
       "      <td>NaN</td>\n",
       "      <td>NaN</td>\n",
       "      <td>NaN</td>\n",
       "      <td>NaN</td>\n",
       "      <td>cerrado</td>\n",
       "      <td>se asocia f4 dado de baja por producto entrega...</td>\n",
       "      <td>NaN</td>\n",
       "      <td>NaN</td>\n",
       "      <td>NaN</td>\n",
       "      <td>NaN</td>\n",
       "      <td>NaN</td>\n",
       "      <td>NaN</td>\n",
       "      <td>NaN</td>\n",
       "      <td>No tiene número de F4</td>\n",
       "    </tr>\n",
       "    <tr>\n",
       "      <th>4</th>\n",
       "      <td>1060734966</td>\n",
       "      <td>3000</td>\n",
       "      <td>17</td>\n",
       "      <td>2000</td>\n",
       "      <td>50875827844</td>\n",
       "      <td>1</td>\n",
       "      <td>198085078</td>\n",
       "      <td>PARCIAL</td>\n",
       "      <td>NaN</td>\n",
       "      <td>NaN</td>\n",
       "      <td>NaN</td>\n",
       "      <td>NaN</td>\n",
       "      <td>cerrado</td>\n",
       "      <td>se asocia f4 dado de baja por producto entrega...</td>\n",
       "      <td>NaN</td>\n",
       "      <td>NaN</td>\n",
       "      <td>NaN</td>\n",
       "      <td>NaN</td>\n",
       "      <td>NaN</td>\n",
       "      <td>NaN</td>\n",
       "      <td>NaN</td>\n",
       "      <td>No tiene número de F4</td>\n",
       "    </tr>\n",
       "  </tbody>\n",
       "</table>\n",
       "</div>"
      ],
      "text/plain": [
       "   cod_aut_nc local_trx terminal local_ant            upc cantidad_trx_actual  \\\n",
       "0  1060679519      3000       17      2000  7707001583749                   1   \n",
       "1  1060602364      3000     3001      2000    17817789592                   1   \n",
       "2  1060488739      3000     3001      2000    43917005508                   1   \n",
       "3  1060680379      2000       23      2000  8002713130472                   1   \n",
       "4  1060734966      3000       17      2000    50875827844                   1   \n",
       "\n",
       "           ct  tipo_nc   f5 f11_x   f3   f4     esmc  \\\n",
       "0       41600  PARCIAL  NaN   NaN  NaN  NaN  cerrado   \n",
       "1  1812184976    TOTAL  NaN   NaN  NaN  NaN  cerrado   \n",
       "2    90743033    TOTAL  NaN   NaN  NaN  NaN  cerrado   \n",
       "3       19609  PARCIAL  NaN   NaN  NaN  NaN  cerrado   \n",
       "4   198085078  PARCIAL  NaN   NaN  NaN  NaN  cerrado   \n",
       "\n",
       "                                               tipmc nro_red_inventario  \\\n",
       "0  se asocia f4 dado de baja por producto entrega...                NaN   \n",
       "1  se asocia f4 dado de baja por producto entrega...                NaN   \n",
       "2  se asocia f4 dado de baja por producto entrega...                NaN   \n",
       "3  se asocia f4 dado de baja por producto entrega...                NaN   \n",
       "4  se asocia f4 dado de baja por producto entrega...                NaN   \n",
       "\n",
       "  estado fecha_creacion destino linea cantidad f11_y                     D2  \n",
       "0    NaN            NaN     NaN   NaN      NaN   NaN  No tiene número de F4  \n",
       "1    NaN            NaN     NaN   NaN      NaN   NaN  No tiene número de F4  \n",
       "2    NaN            NaN     NaN   NaN      NaN   NaN  No tiene número de F4  \n",
       "3    NaN            NaN     NaN   NaN      NaN   NaN  No tiene número de F4  \n",
       "4    NaN            NaN     NaN   NaN      NaN   NaN  No tiene número de F4  "
      ]
     },
     "execution_count": 26,
     "metadata": {},
     "output_type": "execute_result"
    }
   ],
   "source": [
    "ef.head()"
   ]
  },
  {
   "cell_type": "code",
   "execution_count": 27,
   "id": "e70e9d6f",
   "metadata": {},
   "outputs": [],
   "source": [
    "ef.loc[ef.D2.isna(), 'D2'] = 'OK'"
   ]
  },
  {
   "cell_type": "code",
   "execution_count": 28,
   "id": "b62b0cf9",
   "metadata": {
    "scrolled": true
   },
   "outputs": [
    {
     "data": {
      "text/plain": [
       "[]"
      ]
     },
     "execution_count": 28,
     "metadata": {},
     "output_type": "execute_result"
    }
   ],
   "source": [
    "list(ef.loc[(ef.D2.isna()), 'destino'])"
   ]
  },
  {
   "cell_type": "code",
   "execution_count": 29,
   "id": "4e19ca2f",
   "metadata": {},
   "outputs": [],
   "source": [
    "ef['ct'] = pd.to_numeric(ef['ct'])"
   ]
  },
  {
   "cell_type": "code",
   "execution_count": 30,
   "id": "fb9674f5",
   "metadata": {},
   "outputs": [],
   "source": [
    "ef.to_excel(f'output/210730-d2-f4.xlsx', sheet_name=f'nc-f4-base', index=False) "
   ]
  },
  {
   "cell_type": "code",
   "execution_count": null,
   "id": "17e94e82",
   "metadata": {},
   "outputs": [],
   "source": []
  }
 ],
 "metadata": {
  "kernelspec": {
   "display_name": "Python 3.9.5 64-bit ('fala': conda)",
   "language": "python",
   "name": "python395jvsc74a57bd0183aa361c541b3ff48c3a79812959f5d5be773975acbe832fca49e0113764b3a"
  },
  "language_info": {
   "codemirror_mode": {
    "name": "ipython",
    "version": 3
   },
   "file_extension": ".py",
   "mimetype": "text/x-python",
   "name": "python",
   "nbconvert_exporter": "python",
   "pygments_lexer": "ipython3",
   "version": "3.9.5"
  }
 },
 "nbformat": 4,
 "nbformat_minor": 5
}
