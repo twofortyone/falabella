{
    "cells": [
        {
            "cell_type": "code",
            "execution_count": 3,
            "source": [
                "from os import sep\n",
                "from re import LOCALE\n",
                "import re\n",
                "import dash\n",
                "from dash import dependencies\n",
                "import dash_core_components as dcc\n",
                "import dash_html_components as html\n",
                "from pandas.core.accessor import PandasDelegate\n",
                "import plotly.express as px\n",
                "import pandas as pd\n",
                "from datetime import datetime"
            ],
            "outputs": [],
            "metadata": {}
        },
        {
            "cell_type": "code",
            "execution_count": 42,
            "source": [
                "df = pd.read_csv('output/bases/210726-1027-210713_panel_nc.csv', sep=';', dtype='object')\n",
                "\n",
                "df['F_COMPRA'] = pd.to_datetime(df['F_COMPRA'])\n",
                "df['F_COMPRA_ANT'] = pd.to_datetime(df['F_COMPRA_ANT'])\n",
                "\n",
                "df.loc[:,'CANT'] = -pd.to_numeric(df['CANT'])\n",
                "df.loc[:,'TOTAL_COSTO'] = pd.to_numeric(df['TOTAL_COSTO'])\n",
                "\n",
                "#df['NLOCAL_CREACION'] = df['NLOCAL_CREACION'].astype('category')\n",
                "\n",
                "df['MES_NC'] = df['F_COMPRA'].dt.month\n",
                "df['MES_COMPRA'] = df['F_COMPRA_ANT'].dt.month\n",
                "\n",
                "#df['MES_NC'] = df['F_COMPRA'].dt.strftime('%b')\n",
                "#df['MES_COMPRA'] = df['F_COMPRA_ANT'].dt.strftime('%b')\n",
                "\n",
                "#dftiendas1 = df[(df['NLOCAL_CREACION']!='FALABELLA. COM ALTERNO')&(df['NLOCAL_CREACION']!='ADMINISTRATIVO')&(df['NLOCAL_CREACION']!='VENTA EMPRESA')]\n",
                "#dftiendas = dftiendas1.groupby(['NLOCAL_CREACION','MES_NC']).agg({'CANT':'sum','TOTAL_COSTO':'sum','CAUTORIZA':'nunique'}).reset_index()\n"
            ],
            "outputs": [],
            "metadata": {}
        },
        {
            "cell_type": "code",
            "execution_count": 5,
            "source": [
                "df.head()"
            ],
            "outputs": [
                {
                    "output_type": "execute_result",
                    "data": {
                        "text/plain": [
                            "     COD_TRX   CAUTORIZA   F_COMPRA LOCAL_CREACION NLOCAL_CREACION  \\\n",
                            "0  205246708  1059705755 2021-01-02             19      BUENAVISTA   \n",
                            "1  205245636  1059717291 2021-01-02             19      BUENAVISTA   \n",
                            "2  205255000  1059725210 2021-01-02             56       LA CAROLA   \n",
                            "3  205259670  1059758904 2021-01-02             56       LA CAROLA   \n",
                            "4  205259670  1059758904 2021-01-02             56       LA CAROLA   \n",
                            "\n",
                            "  NRO_TERM_NVA SEC_NVA CVEND_NVO LOCAL_ANT             NLOCAL_ANT  ...  \\\n",
                            "0           26    3171    924121      2000  TIENDA FALABELLA .COM  ...   \n",
                            "1           19    3342    103500        19             BUENAVISTA  ...   \n",
                            "2            8    8605    959618      2000  TIENDA FALABELLA .COM  ...   \n",
                            "3           18    3687    937312        56              LA CAROLA  ...   \n",
                            "4           18    3687    937312        56              LA CAROLA  ...   \n",
                            "\n",
                            "                             DESC_SKU CANT    MNETO TOTAL_COSTO CTIPIFICACION  \\\n",
                            "0          REEBOK RUNNER 4.0/VE0/9/40    1  -151252   90895.305            D1   \n",
                            "1   BERMUDA JUV DEN BED CORDEL RAW 32    1   -33605   28472.094            D1   \n",
                            "2  EC-PIJAMA FLEECE ANTIDESL NINA 24M    1   -22597   23471.000            D1   \n",
                            "3          SHORT ATP BEARCLIFF NAVY L    1   -31024   15164.000            D1   \n",
                            "4   SHORT PIJAMA PCJ BTP2 B COMBO B L    1   -23266   12016.808            D1   \n",
                            "\n",
                            "            XTIPIFICACION MES_NC_NUM MES_COMPRA_NUM MES_NC MES_COMPRA  \n",
                            "0  Devolucion de producto          1             12    Jan        Dec  \n",
                            "1  Devolucion de producto          1             12    Jan        Dec  \n",
                            "2  Devolucion de producto          1             11    Jan        Nov  \n",
                            "3  Devolucion de producto          1             12    Jan        Dec  \n",
                            "4  Devolucion de producto          1             12    Jan        Dec  \n",
                            "\n",
                            "[5 rows x 34 columns]"
                        ],
                        "text/html": [
                            "<div>\n",
                            "<style scoped>\n",
                            "    .dataframe tbody tr th:only-of-type {\n",
                            "        vertical-align: middle;\n",
                            "    }\n",
                            "\n",
                            "    .dataframe tbody tr th {\n",
                            "        vertical-align: top;\n",
                            "    }\n",
                            "\n",
                            "    .dataframe thead th {\n",
                            "        text-align: right;\n",
                            "    }\n",
                            "</style>\n",
                            "<table border=\"1\" class=\"dataframe\">\n",
                            "  <thead>\n",
                            "    <tr style=\"text-align: right;\">\n",
                            "      <th></th>\n",
                            "      <th>COD_TRX</th>\n",
                            "      <th>CAUTORIZA</th>\n",
                            "      <th>F_COMPRA</th>\n",
                            "      <th>LOCAL_CREACION</th>\n",
                            "      <th>NLOCAL_CREACION</th>\n",
                            "      <th>NRO_TERM_NVA</th>\n",
                            "      <th>SEC_NVA</th>\n",
                            "      <th>CVEND_NVO</th>\n",
                            "      <th>LOCAL_ANT</th>\n",
                            "      <th>NLOCAL_ANT</th>\n",
                            "      <th>...</th>\n",
                            "      <th>DESC_SKU</th>\n",
                            "      <th>CANT</th>\n",
                            "      <th>MNETO</th>\n",
                            "      <th>TOTAL_COSTO</th>\n",
                            "      <th>CTIPIFICACION</th>\n",
                            "      <th>XTIPIFICACION</th>\n",
                            "      <th>MES_NC_NUM</th>\n",
                            "      <th>MES_COMPRA_NUM</th>\n",
                            "      <th>MES_NC</th>\n",
                            "      <th>MES_COMPRA</th>\n",
                            "    </tr>\n",
                            "  </thead>\n",
                            "  <tbody>\n",
                            "    <tr>\n",
                            "      <th>0</th>\n",
                            "      <td>205246708</td>\n",
                            "      <td>1059705755</td>\n",
                            "      <td>2021-01-02</td>\n",
                            "      <td>19</td>\n",
                            "      <td>BUENAVISTA</td>\n",
                            "      <td>26</td>\n",
                            "      <td>3171</td>\n",
                            "      <td>924121</td>\n",
                            "      <td>2000</td>\n",
                            "      <td>TIENDA FALABELLA .COM</td>\n",
                            "      <td>...</td>\n",
                            "      <td>REEBOK RUNNER 4.0/VE0/9/40</td>\n",
                            "      <td>1</td>\n",
                            "      <td>-151252</td>\n",
                            "      <td>90895.305</td>\n",
                            "      <td>D1</td>\n",
                            "      <td>Devolucion de producto</td>\n",
                            "      <td>1</td>\n",
                            "      <td>12</td>\n",
                            "      <td>Jan</td>\n",
                            "      <td>Dec</td>\n",
                            "    </tr>\n",
                            "    <tr>\n",
                            "      <th>1</th>\n",
                            "      <td>205245636</td>\n",
                            "      <td>1059717291</td>\n",
                            "      <td>2021-01-02</td>\n",
                            "      <td>19</td>\n",
                            "      <td>BUENAVISTA</td>\n",
                            "      <td>19</td>\n",
                            "      <td>3342</td>\n",
                            "      <td>103500</td>\n",
                            "      <td>19</td>\n",
                            "      <td>BUENAVISTA</td>\n",
                            "      <td>...</td>\n",
                            "      <td>BERMUDA JUV DEN BED CORDEL RAW 32</td>\n",
                            "      <td>1</td>\n",
                            "      <td>-33605</td>\n",
                            "      <td>28472.094</td>\n",
                            "      <td>D1</td>\n",
                            "      <td>Devolucion de producto</td>\n",
                            "      <td>1</td>\n",
                            "      <td>12</td>\n",
                            "      <td>Jan</td>\n",
                            "      <td>Dec</td>\n",
                            "    </tr>\n",
                            "    <tr>\n",
                            "      <th>2</th>\n",
                            "      <td>205255000</td>\n",
                            "      <td>1059725210</td>\n",
                            "      <td>2021-01-02</td>\n",
                            "      <td>56</td>\n",
                            "      <td>LA CAROLA</td>\n",
                            "      <td>8</td>\n",
                            "      <td>8605</td>\n",
                            "      <td>959618</td>\n",
                            "      <td>2000</td>\n",
                            "      <td>TIENDA FALABELLA .COM</td>\n",
                            "      <td>...</td>\n",
                            "      <td>EC-PIJAMA FLEECE ANTIDESL NINA 24M</td>\n",
                            "      <td>1</td>\n",
                            "      <td>-22597</td>\n",
                            "      <td>23471.000</td>\n",
                            "      <td>D1</td>\n",
                            "      <td>Devolucion de producto</td>\n",
                            "      <td>1</td>\n",
                            "      <td>11</td>\n",
                            "      <td>Jan</td>\n",
                            "      <td>Nov</td>\n",
                            "    </tr>\n",
                            "    <tr>\n",
                            "      <th>3</th>\n",
                            "      <td>205259670</td>\n",
                            "      <td>1059758904</td>\n",
                            "      <td>2021-01-02</td>\n",
                            "      <td>56</td>\n",
                            "      <td>LA CAROLA</td>\n",
                            "      <td>18</td>\n",
                            "      <td>3687</td>\n",
                            "      <td>937312</td>\n",
                            "      <td>56</td>\n",
                            "      <td>LA CAROLA</td>\n",
                            "      <td>...</td>\n",
                            "      <td>SHORT ATP BEARCLIFF NAVY L</td>\n",
                            "      <td>1</td>\n",
                            "      <td>-31024</td>\n",
                            "      <td>15164.000</td>\n",
                            "      <td>D1</td>\n",
                            "      <td>Devolucion de producto</td>\n",
                            "      <td>1</td>\n",
                            "      <td>12</td>\n",
                            "      <td>Jan</td>\n",
                            "      <td>Dec</td>\n",
                            "    </tr>\n",
                            "    <tr>\n",
                            "      <th>4</th>\n",
                            "      <td>205259670</td>\n",
                            "      <td>1059758904</td>\n",
                            "      <td>2021-01-02</td>\n",
                            "      <td>56</td>\n",
                            "      <td>LA CAROLA</td>\n",
                            "      <td>18</td>\n",
                            "      <td>3687</td>\n",
                            "      <td>937312</td>\n",
                            "      <td>56</td>\n",
                            "      <td>LA CAROLA</td>\n",
                            "      <td>...</td>\n",
                            "      <td>SHORT PIJAMA PCJ BTP2 B COMBO B L</td>\n",
                            "      <td>1</td>\n",
                            "      <td>-23266</td>\n",
                            "      <td>12016.808</td>\n",
                            "      <td>D1</td>\n",
                            "      <td>Devolucion de producto</td>\n",
                            "      <td>1</td>\n",
                            "      <td>12</td>\n",
                            "      <td>Jan</td>\n",
                            "      <td>Dec</td>\n",
                            "    </tr>\n",
                            "  </tbody>\n",
                            "</table>\n",
                            "<p>5 rows × 34 columns</p>\n",
                            "</div>"
                        ]
                    },
                    "metadata": {},
                    "execution_count": 5
                }
            ],
            "metadata": {}
        },
        {
            "cell_type": "code",
            "execution_count": 6,
            "source": [
                "df.describe()"
            ],
            "outputs": [
                {
                    "output_type": "execute_result",
                    "data": {
                        "text/plain": [
                            "                CANT   TOTAL_COSTO     MES_NC_NUM  MES_COMPRA_NUM\n",
                            "count  378701.000000  3.787010e+05  378701.000000    378701.00000\n",
                            "mean        1.290504  1.356247e+05       3.315133         4.75177\n",
                            "std        24.784683  7.931431e+05       1.812502         3.45584\n",
                            "min       -22.000000 -2.263512e+06       1.000000         1.00000\n",
                            "25%         1.000000  1.899104e+04       2.000000         2.00000\n",
                            "50%         1.000000  3.059092e+04       3.000000         4.00000\n",
                            "75%         1.000000  7.141500e+04       5.000000         6.00000\n",
                            "max      7338.000000  1.730241e+08       6.000000        12.00000"
                        ],
                        "text/html": [
                            "<div>\n",
                            "<style scoped>\n",
                            "    .dataframe tbody tr th:only-of-type {\n",
                            "        vertical-align: middle;\n",
                            "    }\n",
                            "\n",
                            "    .dataframe tbody tr th {\n",
                            "        vertical-align: top;\n",
                            "    }\n",
                            "\n",
                            "    .dataframe thead th {\n",
                            "        text-align: right;\n",
                            "    }\n",
                            "</style>\n",
                            "<table border=\"1\" class=\"dataframe\">\n",
                            "  <thead>\n",
                            "    <tr style=\"text-align: right;\">\n",
                            "      <th></th>\n",
                            "      <th>CANT</th>\n",
                            "      <th>TOTAL_COSTO</th>\n",
                            "      <th>MES_NC_NUM</th>\n",
                            "      <th>MES_COMPRA_NUM</th>\n",
                            "    </tr>\n",
                            "  </thead>\n",
                            "  <tbody>\n",
                            "    <tr>\n",
                            "      <th>count</th>\n",
                            "      <td>378701.000000</td>\n",
                            "      <td>3.787010e+05</td>\n",
                            "      <td>378701.000000</td>\n",
                            "      <td>378701.00000</td>\n",
                            "    </tr>\n",
                            "    <tr>\n",
                            "      <th>mean</th>\n",
                            "      <td>1.290504</td>\n",
                            "      <td>1.356247e+05</td>\n",
                            "      <td>3.315133</td>\n",
                            "      <td>4.75177</td>\n",
                            "    </tr>\n",
                            "    <tr>\n",
                            "      <th>std</th>\n",
                            "      <td>24.784683</td>\n",
                            "      <td>7.931431e+05</td>\n",
                            "      <td>1.812502</td>\n",
                            "      <td>3.45584</td>\n",
                            "    </tr>\n",
                            "    <tr>\n",
                            "      <th>min</th>\n",
                            "      <td>-22.000000</td>\n",
                            "      <td>-2.263512e+06</td>\n",
                            "      <td>1.000000</td>\n",
                            "      <td>1.00000</td>\n",
                            "    </tr>\n",
                            "    <tr>\n",
                            "      <th>25%</th>\n",
                            "      <td>1.000000</td>\n",
                            "      <td>1.899104e+04</td>\n",
                            "      <td>2.000000</td>\n",
                            "      <td>2.00000</td>\n",
                            "    </tr>\n",
                            "    <tr>\n",
                            "      <th>50%</th>\n",
                            "      <td>1.000000</td>\n",
                            "      <td>3.059092e+04</td>\n",
                            "      <td>3.000000</td>\n",
                            "      <td>4.00000</td>\n",
                            "    </tr>\n",
                            "    <tr>\n",
                            "      <th>75%</th>\n",
                            "      <td>1.000000</td>\n",
                            "      <td>7.141500e+04</td>\n",
                            "      <td>5.000000</td>\n",
                            "      <td>6.00000</td>\n",
                            "    </tr>\n",
                            "    <tr>\n",
                            "      <th>max</th>\n",
                            "      <td>7338.000000</td>\n",
                            "      <td>1.730241e+08</td>\n",
                            "      <td>6.000000</td>\n",
                            "      <td>12.00000</td>\n",
                            "    </tr>\n",
                            "  </tbody>\n",
                            "</table>\n",
                            "</div>"
                        ]
                    },
                    "metadata": {},
                    "execution_count": 6
                }
            ],
            "metadata": {}
        },
        {
            "cell_type": "code",
            "execution_count": 8,
            "source": [
                "df.describe(include=['category'])"
            ],
            "outputs": [
                {
                    "output_type": "execute_result",
                    "data": {
                        "text/plain": [
                            "               NLOCAL_CREACION\n",
                            "count                   378701\n",
                            "unique                      36\n",
                            "top     FALABELLA. COM ALTERNO\n",
                            "freq                     54529"
                        ],
                        "text/html": [
                            "<div>\n",
                            "<style scoped>\n",
                            "    .dataframe tbody tr th:only-of-type {\n",
                            "        vertical-align: middle;\n",
                            "    }\n",
                            "\n",
                            "    .dataframe tbody tr th {\n",
                            "        vertical-align: top;\n",
                            "    }\n",
                            "\n",
                            "    .dataframe thead th {\n",
                            "        text-align: right;\n",
                            "    }\n",
                            "</style>\n",
                            "<table border=\"1\" class=\"dataframe\">\n",
                            "  <thead>\n",
                            "    <tr style=\"text-align: right;\">\n",
                            "      <th></th>\n",
                            "      <th>NLOCAL_CREACION</th>\n",
                            "    </tr>\n",
                            "  </thead>\n",
                            "  <tbody>\n",
                            "    <tr>\n",
                            "      <th>count</th>\n",
                            "      <td>378701</td>\n",
                            "    </tr>\n",
                            "    <tr>\n",
                            "      <th>unique</th>\n",
                            "      <td>36</td>\n",
                            "    </tr>\n",
                            "    <tr>\n",
                            "      <th>top</th>\n",
                            "      <td>FALABELLA. COM ALTERNO</td>\n",
                            "    </tr>\n",
                            "    <tr>\n",
                            "      <th>freq</th>\n",
                            "      <td>54529</td>\n",
                            "    </tr>\n",
                            "  </tbody>\n",
                            "</table>\n",
                            "</div>"
                        ]
                    },
                    "metadata": {},
                    "execution_count": 8
                }
            ],
            "metadata": {}
        },
        {
            "cell_type": "code",
            "execution_count": 12,
            "source": [
                "aux = pd.concat([df.head(20), df.tail(20)])"
            ],
            "outputs": [],
            "metadata": {}
        },
        {
            "cell_type": "code",
            "execution_count": 13,
            "source": [
                "aux.groupby(['LOCAL_CREACION', 'MES_NC_NUM'])['CAUTORIZA'].transform('nunique')"
            ],
            "outputs": [
                {
                    "output_type": "execute_result",
                    "data": {
                        "text/plain": [
                            "0          2\n",
                            "1          2\n",
                            "2          2\n",
                            "3          2\n",
                            "4          2\n",
                            "5          2\n",
                            "6          2\n",
                            "7          2\n",
                            "8          2\n",
                            "9         10\n",
                            "10        10\n",
                            "11        10\n",
                            "12        10\n",
                            "13        10\n",
                            "14        10\n",
                            "15        10\n",
                            "16        10\n",
                            "17        10\n",
                            "18        10\n",
                            "19        10\n",
                            "378681     4\n",
                            "378682     4\n",
                            "378683     4\n",
                            "378684     4\n",
                            "378685     1\n",
                            "378686     1\n",
                            "378687     1\n",
                            "378688     1\n",
                            "378689     1\n",
                            "378690     1\n",
                            "378691     2\n",
                            "378692     1\n",
                            "378693     2\n",
                            "378694     1\n",
                            "378695     1\n",
                            "378696     1\n",
                            "378697     2\n",
                            "378698     2\n",
                            "378699     1\n",
                            "378700     1\n",
                            "Name: CAUTORIZA, dtype: int64"
                        ]
                    },
                    "metadata": {},
                    "execution_count": 13
                }
            ],
            "metadata": {}
        },
        {
            "cell_type": "code",
            "execution_count": 15,
            "source": [
                "aux.groupby(['LOCAL_CREACION', 'MES_NC_NUM'])['CAUTORIZA'].nunique()"
            ],
            "outputs": [
                {
                    "output_type": "execute_result",
                    "data": {
                        "text/plain": [
                            "LOCAL_CREACION  MES_NC_NUM\n",
                            "108             6              1\n",
                            "123             6              2\n",
                            "13              6              1\n",
                            "138             1             10\n",
                            "                6              1\n",
                            "183             6              2\n",
                            "19              1              2\n",
                            "25              6              1\n",
                            "3000            6              4\n",
                            "35              6              1\n",
                            "43              6              1\n",
                            "45              6              1\n",
                            "56              1              2\n",
                            "72              1              2\n",
                            "                6              1\n",
                            "82              6              1\n",
                            "98              6              1\n",
                            "Name: CAUTORIZA, dtype: int64"
                        ]
                    },
                    "metadata": {},
                    "execution_count": 15
                }
            ],
            "metadata": {}
        },
        {
            "cell_type": "code",
            "execution_count": 30,
            "source": [
                "df['NC_X_LOCAL_MES'] = df.groupby(['LOCAL_CREACION', 'CVEND_NVO', 'MES_NC'])['CAUTORIZA'].transform('nunique')"
            ],
            "outputs": [],
            "metadata": {}
        },
        {
            "cell_type": "code",
            "execution_count": 68,
            "source": [
                "df['NC_MEAN_LOCAL_MES'] = df.groupby(['LOCAL_CREACION', 'MES_NC'])['CAUTORIZA'].transform('nunique')"
            ],
            "outputs": [],
            "metadata": {}
        },
        {
            "cell_type": "code",
            "execution_count": 17,
            "source": [
                "lmc = df.groupby(['LOCAL_CREACION', 'MES_NC_NUM', 'CVEND_NVO'])['CAUTORIZA'].nunique().reset_index()"
            ],
            "outputs": [],
            "metadata": {}
        },
        {
            "cell_type": "code",
            "execution_count": 69,
            "source": [
                "lmc.groupby(['LOCAL_CREACION', 'MES_NC']).mean()"
            ],
            "outputs": [
                {
                    "output_type": "execute_result",
                    "data": {
                        "text/plain": [
                            "                       CAUTORIZA\n",
                            "LOCAL_CREACION MES_NC           \n",
                            "101            Apr     11.557143\n",
                            "               Feb     13.750000\n",
                            "               Jan     14.587500\n",
                            "               Jun     15.464789\n",
                            "               Mar     12.547945\n",
                            "...                          ...\n",
                            "99             Feb      3.000000\n",
                            "               Jan      8.500000\n",
                            "               Jun      3.000000\n",
                            "               Mar      6.500000\n",
                            "               May      1.500000\n",
                            "\n",
                            "[206 rows x 1 columns]"
                        ],
                        "text/html": [
                            "<div>\n",
                            "<style scoped>\n",
                            "    .dataframe tbody tr th:only-of-type {\n",
                            "        vertical-align: middle;\n",
                            "    }\n",
                            "\n",
                            "    .dataframe tbody tr th {\n",
                            "        vertical-align: top;\n",
                            "    }\n",
                            "\n",
                            "    .dataframe thead th {\n",
                            "        text-align: right;\n",
                            "    }\n",
                            "</style>\n",
                            "<table border=\"1\" class=\"dataframe\">\n",
                            "  <thead>\n",
                            "    <tr style=\"text-align: right;\">\n",
                            "      <th></th>\n",
                            "      <th></th>\n",
                            "      <th>CAUTORIZA</th>\n",
                            "    </tr>\n",
                            "    <tr>\n",
                            "      <th>LOCAL_CREACION</th>\n",
                            "      <th>MES_NC</th>\n",
                            "      <th></th>\n",
                            "    </tr>\n",
                            "  </thead>\n",
                            "  <tbody>\n",
                            "    <tr>\n",
                            "      <th rowspan=\"5\" valign=\"top\">101</th>\n",
                            "      <th>Apr</th>\n",
                            "      <td>11.557143</td>\n",
                            "    </tr>\n",
                            "    <tr>\n",
                            "      <th>Feb</th>\n",
                            "      <td>13.750000</td>\n",
                            "    </tr>\n",
                            "    <tr>\n",
                            "      <th>Jan</th>\n",
                            "      <td>14.587500</td>\n",
                            "    </tr>\n",
                            "    <tr>\n",
                            "      <th>Jun</th>\n",
                            "      <td>15.464789</td>\n",
                            "    </tr>\n",
                            "    <tr>\n",
                            "      <th>Mar</th>\n",
                            "      <td>12.547945</td>\n",
                            "    </tr>\n",
                            "    <tr>\n",
                            "      <th>...</th>\n",
                            "      <th>...</th>\n",
                            "      <td>...</td>\n",
                            "    </tr>\n",
                            "    <tr>\n",
                            "      <th rowspan=\"5\" valign=\"top\">99</th>\n",
                            "      <th>Feb</th>\n",
                            "      <td>3.000000</td>\n",
                            "    </tr>\n",
                            "    <tr>\n",
                            "      <th>Jan</th>\n",
                            "      <td>8.500000</td>\n",
                            "    </tr>\n",
                            "    <tr>\n",
                            "      <th>Jun</th>\n",
                            "      <td>3.000000</td>\n",
                            "    </tr>\n",
                            "    <tr>\n",
                            "      <th>Mar</th>\n",
                            "      <td>6.500000</td>\n",
                            "    </tr>\n",
                            "    <tr>\n",
                            "      <th>May</th>\n",
                            "      <td>1.500000</td>\n",
                            "    </tr>\n",
                            "  </tbody>\n",
                            "</table>\n",
                            "<p>206 rows × 1 columns</p>\n",
                            "</div>"
                        ]
                    },
                    "metadata": {},
                    "execution_count": 69
                }
            ],
            "metadata": {}
        },
        {
            "cell_type": "code",
            "execution_count": 31,
            "source": [
                "lmc.groupby(['LOCAL_CREACION', 'MES_NC']).mean()"
            ],
            "outputs": [
                {
                    "output_type": "error",
                    "ename": "KeyError",
                    "evalue": "'MES_NC'",
                    "traceback": [
                        "\u001b[0;31m---------------------------------------------------------------------------\u001b[0m",
                        "\u001b[0;31mKeyError\u001b[0m                                  Traceback (most recent call last)",
                        "\u001b[0;32m<ipython-input-31-b74a26d13def>\u001b[0m in \u001b[0;36m<module>\u001b[0;34m\u001b[0m\n\u001b[0;32m----> 1\u001b[0;31m \u001b[0mlmc\u001b[0m\u001b[0;34m.\u001b[0m\u001b[0mgroupby\u001b[0m\u001b[0;34m(\u001b[0m\u001b[0;34m[\u001b[0m\u001b[0;34m'LOCAL_CREACION'\u001b[0m\u001b[0;34m,\u001b[0m \u001b[0;34m'MES_NC'\u001b[0m\u001b[0;34m]\u001b[0m\u001b[0;34m)\u001b[0m\u001b[0;34m.\u001b[0m\u001b[0mmean\u001b[0m\u001b[0;34m(\u001b[0m\u001b[0;34m)\u001b[0m\u001b[0;34m\u001b[0m\u001b[0;34m\u001b[0m\u001b[0m\n\u001b[0m",
                        "\u001b[0;32m~/anaconda3/envs/fala/lib/python3.9/site-packages/pandas/core/frame.py\u001b[0m in \u001b[0;36mgroupby\u001b[0;34m(self, by, axis, level, as_index, sort, group_keys, squeeze, observed, dropna)\u001b[0m\n\u001b[1;32m   6715\u001b[0m         \u001b[0maxis\u001b[0m \u001b[0;34m=\u001b[0m \u001b[0mself\u001b[0m\u001b[0;34m.\u001b[0m\u001b[0m_get_axis_number\u001b[0m\u001b[0;34m(\u001b[0m\u001b[0maxis\u001b[0m\u001b[0;34m)\u001b[0m\u001b[0;34m\u001b[0m\u001b[0;34m\u001b[0m\u001b[0m\n\u001b[1;32m   6716\u001b[0m \u001b[0;34m\u001b[0m\u001b[0m\n\u001b[0;32m-> 6717\u001b[0;31m         return DataFrameGroupBy(\n\u001b[0m\u001b[1;32m   6718\u001b[0m             \u001b[0mobj\u001b[0m\u001b[0;34m=\u001b[0m\u001b[0mself\u001b[0m\u001b[0;34m,\u001b[0m\u001b[0;34m\u001b[0m\u001b[0;34m\u001b[0m\u001b[0m\n\u001b[1;32m   6719\u001b[0m             \u001b[0mkeys\u001b[0m\u001b[0;34m=\u001b[0m\u001b[0mby\u001b[0m\u001b[0;34m,\u001b[0m\u001b[0;34m\u001b[0m\u001b[0;34m\u001b[0m\u001b[0m\n",
                        "\u001b[0;32m~/anaconda3/envs/fala/lib/python3.9/site-packages/pandas/core/groupby/groupby.py\u001b[0m in \u001b[0;36m__init__\u001b[0;34m(self, obj, keys, axis, level, grouper, exclusions, selection, as_index, sort, group_keys, squeeze, observed, mutated, dropna)\u001b[0m\n\u001b[1;32m    558\u001b[0m             \u001b[0;32mfrom\u001b[0m \u001b[0mpandas\u001b[0m\u001b[0;34m.\u001b[0m\u001b[0mcore\u001b[0m\u001b[0;34m.\u001b[0m\u001b[0mgroupby\u001b[0m\u001b[0;34m.\u001b[0m\u001b[0mgrouper\u001b[0m \u001b[0;32mimport\u001b[0m \u001b[0mget_grouper\u001b[0m\u001b[0;34m\u001b[0m\u001b[0;34m\u001b[0m\u001b[0m\n\u001b[1;32m    559\u001b[0m \u001b[0;34m\u001b[0m\u001b[0m\n\u001b[0;32m--> 560\u001b[0;31m             grouper, exclusions, obj = get_grouper(\n\u001b[0m\u001b[1;32m    561\u001b[0m                 \u001b[0mobj\u001b[0m\u001b[0;34m,\u001b[0m\u001b[0;34m\u001b[0m\u001b[0;34m\u001b[0m\u001b[0m\n\u001b[1;32m    562\u001b[0m                 \u001b[0mkeys\u001b[0m\u001b[0;34m,\u001b[0m\u001b[0;34m\u001b[0m\u001b[0;34m\u001b[0m\u001b[0m\n",
                        "\u001b[0;32m~/anaconda3/envs/fala/lib/python3.9/site-packages/pandas/core/groupby/grouper.py\u001b[0m in \u001b[0;36mget_grouper\u001b[0;34m(obj, key, axis, level, sort, observed, mutated, validate, dropna)\u001b[0m\n\u001b[1;32m    809\u001b[0m                 \u001b[0min_axis\u001b[0m\u001b[0;34m,\u001b[0m \u001b[0mname\u001b[0m\u001b[0;34m,\u001b[0m \u001b[0mlevel\u001b[0m\u001b[0;34m,\u001b[0m \u001b[0mgpr\u001b[0m \u001b[0;34m=\u001b[0m \u001b[0;32mFalse\u001b[0m\u001b[0;34m,\u001b[0m \u001b[0;32mNone\u001b[0m\u001b[0;34m,\u001b[0m \u001b[0mgpr\u001b[0m\u001b[0;34m,\u001b[0m \u001b[0;32mNone\u001b[0m\u001b[0;34m\u001b[0m\u001b[0;34m\u001b[0m\u001b[0m\n\u001b[1;32m    810\u001b[0m             \u001b[0;32melse\u001b[0m\u001b[0;34m:\u001b[0m\u001b[0;34m\u001b[0m\u001b[0;34m\u001b[0m\u001b[0m\n\u001b[0;32m--> 811\u001b[0;31m                 \u001b[0;32mraise\u001b[0m \u001b[0mKeyError\u001b[0m\u001b[0;34m(\u001b[0m\u001b[0mgpr\u001b[0m\u001b[0;34m)\u001b[0m\u001b[0;34m\u001b[0m\u001b[0;34m\u001b[0m\u001b[0m\n\u001b[0m\u001b[1;32m    812\u001b[0m         \u001b[0;32melif\u001b[0m \u001b[0misinstance\u001b[0m\u001b[0;34m(\u001b[0m\u001b[0mgpr\u001b[0m\u001b[0;34m,\u001b[0m \u001b[0mGrouper\u001b[0m\u001b[0;34m)\u001b[0m \u001b[0;32mand\u001b[0m \u001b[0mgpr\u001b[0m\u001b[0;34m.\u001b[0m\u001b[0mkey\u001b[0m \u001b[0;32mis\u001b[0m \u001b[0;32mnot\u001b[0m \u001b[0;32mNone\u001b[0m\u001b[0;34m:\u001b[0m\u001b[0;34m\u001b[0m\u001b[0;34m\u001b[0m\u001b[0m\n\u001b[1;32m    813\u001b[0m             \u001b[0;31m# Add key to exclusions\u001b[0m\u001b[0;34m\u001b[0m\u001b[0;34m\u001b[0m\u001b[0;34m\u001b[0m\u001b[0m\n",
                        "\u001b[0;31mKeyError\u001b[0m: 'MES_NC'"
                    ]
                }
            ],
            "metadata": {}
        },
        {
            "cell_type": "code",
            "execution_count": 43,
            "source": [
                "mean_mes = df.groupby(['NLOCAL_CREACION', 'MES_NC', 'CVEND_NVO'])['CAUTORIZA'].nunique().reset_index().groupby(['NLOCAL_CREACION', 'MES_NC']).mean().reset_index()"
            ],
            "outputs": [],
            "metadata": {}
        },
        {
            "cell_type": "code",
            "execution_count": 44,
            "source": [
                "fig = px.line(mean_mes, x='MES_NC', y='CAUTORIZA', color='NLOCAL_CREACION')\n",
                "fig.show()"
            ],
            "outputs": [
                {
                    "output_type": "display_data",
                    "data": {
                        "application/vnd.plotly.v1+json": {
                            "config": {
                                "plotlyServerURL": "https://plot.ly"
                            },
                            "data": [
                                {
                                    "hovertemplate": "NLOCAL_CREACION=ACQUA<br>MES_NC=%{x}<br>CAUTORIZA=%{y}<extra></extra>",
                                    "legendgroup": "ACQUA",
                                    "line": {
                                        "color": "#636efa",
                                        "dash": "solid"
                                    },
                                    "mode": "lines",
                                    "name": "ACQUA",
                                    "orientation": "v",
                                    "showlegend": true,
                                    "type": "scatter",
                                    "x": [
                                        1,
                                        2,
                                        3,
                                        4,
                                        5,
                                        6
                                    ],
                                    "xaxis": "x",
                                    "y": [
                                        32.929577464788736,
                                        29.03030303030303,
                                        22.42622950819672,
                                        13.033898305084746,
                                        13.947368421052632,
                                        20.285714285714285
                                    ],
                                    "yaxis": "y"
                                },
                                {
                                    "hovertemplate": "NLOCAL_CREACION=ADMINISTRATIVO<br>MES_NC=%{x}<br>CAUTORIZA=%{y}<extra></extra>",
                                    "legendgroup": "ADMINISTRATIVO",
                                    "line": {
                                        "color": "#EF553B",
                                        "dash": "solid"
                                    },
                                    "mode": "lines",
                                    "name": "ADMINISTRATIVO",
                                    "orientation": "v",
                                    "showlegend": true,
                                    "type": "scatter",
                                    "x": [
                                        1,
                                        2,
                                        3,
                                        4,
                                        5,
                                        6
                                    ],
                                    "xaxis": "x",
                                    "y": [
                                        8.5,
                                        3,
                                        6.5,
                                        1,
                                        1.5,
                                        3
                                    ],
                                    "yaxis": "y"
                                },
                                {
                                    "hovertemplate": "NLOCAL_CREACION=ARKADIA<br>MES_NC=%{x}<br>CAUTORIZA=%{y}<extra></extra>",
                                    "legendgroup": "ARKADIA",
                                    "line": {
                                        "color": "#00cc96",
                                        "dash": "solid"
                                    },
                                    "mode": "lines",
                                    "name": "ARKADIA",
                                    "orientation": "v",
                                    "showlegend": true,
                                    "type": "scatter",
                                    "x": [
                                        1,
                                        2,
                                        3,
                                        4,
                                        5,
                                        6
                                    ],
                                    "xaxis": "x",
                                    "y": [
                                        26.527027027027028,
                                        21.734375,
                                        20.5,
                                        13.304347826086957,
                                        23.67924528301887,
                                        31.982142857142858
                                    ],
                                    "yaxis": "y"
                                },
                                {
                                    "hovertemplate": "NLOCAL_CREACION=BUENAVISTA<br>MES_NC=%{x}<br>CAUTORIZA=%{y}<extra></extra>",
                                    "legendgroup": "BUENAVISTA",
                                    "line": {
                                        "color": "#ab63fa",
                                        "dash": "solid"
                                    },
                                    "mode": "lines",
                                    "name": "BUENAVISTA",
                                    "orientation": "v",
                                    "showlegend": true,
                                    "type": "scatter",
                                    "x": [
                                        1,
                                        2,
                                        3,
                                        4,
                                        5,
                                        6
                                    ],
                                    "xaxis": "x",
                                    "y": [
                                        22.06153846153846,
                                        18.46,
                                        16.895833333333332,
                                        13.307692307692308,
                                        18.510204081632654,
                                        23.22222222222222
                                    ],
                                    "yaxis": "y"
                                },
                                {
                                    "hovertemplate": "NLOCAL_CREACION=C&B Online ADMINISTRATIVO<br>MES_NC=%{x}<br>CAUTORIZA=%{y}<extra></extra>",
                                    "legendgroup": "C&B Online ADMINISTRATIVO",
                                    "line": {
                                        "color": "#FFA15A",
                                        "dash": "solid"
                                    },
                                    "mode": "lines",
                                    "name": "C&B Online ADMINISTRATIVO",
                                    "orientation": "v",
                                    "showlegend": true,
                                    "type": "scatter",
                                    "x": [
                                        3
                                    ],
                                    "xaxis": "x",
                                    "y": [
                                        1
                                    ],
                                    "yaxis": "y"
                                },
                                {
                                    "hovertemplate": "NLOCAL_CREACION=CACIQUE<br>MES_NC=%{x}<br>CAUTORIZA=%{y}<extra></extra>",
                                    "legendgroup": "CACIQUE",
                                    "line": {
                                        "color": "#19d3f3",
                                        "dash": "solid"
                                    },
                                    "mode": "lines",
                                    "name": "CACIQUE",
                                    "orientation": "v",
                                    "showlegend": true,
                                    "type": "scatter",
                                    "x": [
                                        1,
                                        2,
                                        3,
                                        4,
                                        5,
                                        6
                                    ],
                                    "xaxis": "x",
                                    "y": [
                                        22.081632653061224,
                                        15.307692307692308,
                                        12.9,
                                        12.755555555555556,
                                        13.692307692307692,
                                        16.051724137931036
                                    ],
                                    "yaxis": "y"
                                },
                                {
                                    "hovertemplate": "NLOCAL_CREACION=CARACOLI<br>MES_NC=%{x}<br>CAUTORIZA=%{y}<extra></extra>",
                                    "legendgroup": "CARACOLI",
                                    "line": {
                                        "color": "#FF6692",
                                        "dash": "solid"
                                    },
                                    "mode": "lines",
                                    "name": "CARACOLI",
                                    "orientation": "v",
                                    "showlegend": true,
                                    "type": "scatter",
                                    "x": [
                                        1,
                                        2,
                                        3,
                                        4,
                                        5,
                                        6
                                    ],
                                    "xaxis": "x",
                                    "y": [
                                        14.5875,
                                        13.75,
                                        12.547945205479452,
                                        11.557142857142857,
                                        12.840579710144928,
                                        15.464788732394366
                                    ],
                                    "yaxis": "y"
                                },
                                {
                                    "hovertemplate": "NLOCAL_CREACION=CENTRO MAYOR<br>MES_NC=%{x}<br>CAUTORIZA=%{y}<extra></extra>",
                                    "legendgroup": "CENTRO MAYOR",
                                    "line": {
                                        "color": "#B6E880",
                                        "dash": "solid"
                                    },
                                    "mode": "lines",
                                    "name": "CENTRO MAYOR",
                                    "orientation": "v",
                                    "showlegend": true,
                                    "type": "scatter",
                                    "x": [
                                        1,
                                        2,
                                        3,
                                        4,
                                        5,
                                        6
                                    ],
                                    "xaxis": "x",
                                    "y": [
                                        18,
                                        20.614035087719298,
                                        17.104477611940297,
                                        13.5625,
                                        17.523076923076925,
                                        19.26388888888889
                                    ],
                                    "yaxis": "y"
                                },
                                {
                                    "hovertemplate": "NLOCAL_CREACION=COLINA<br>MES_NC=%{x}<br>CAUTORIZA=%{y}<extra></extra>",
                                    "legendgroup": "COLINA",
                                    "line": {
                                        "color": "#FF97FF",
                                        "dash": "solid"
                                    },
                                    "mode": "lines",
                                    "name": "COLINA",
                                    "orientation": "v",
                                    "showlegend": true,
                                    "type": "scatter",
                                    "x": [
                                        1,
                                        2,
                                        3,
                                        4,
                                        5,
                                        6
                                    ],
                                    "xaxis": "x",
                                    "y": [
                                        26.02857142857143,
                                        29.883495145631066,
                                        31.57777777777778,
                                        21.71641791044776,
                                        36.06172839506173,
                                        36.5632183908046
                                    ],
                                    "yaxis": "y"
                                },
                                {
                                    "hovertemplate": "NLOCAL_CREACION=Crate and Barrel Colina<br>MES_NC=%{x}<br>CAUTORIZA=%{y}<extra></extra>",
                                    "legendgroup": "Crate and Barrel Colina",
                                    "line": {
                                        "color": "#FECB52",
                                        "dash": "solid"
                                    },
                                    "mode": "lines",
                                    "name": "Crate and Barrel Colina",
                                    "orientation": "v",
                                    "showlegend": true,
                                    "type": "scatter",
                                    "x": [
                                        1,
                                        2,
                                        3,
                                        4,
                                        5,
                                        6
                                    ],
                                    "xaxis": "x",
                                    "y": [
                                        6.714285714285714,
                                        6,
                                        6,
                                        3.857142857142857,
                                        5.2,
                                        9
                                    ],
                                    "yaxis": "y"
                                },
                                {
                                    "hovertemplate": "NLOCAL_CREACION=Crate and Barrel Online<br>MES_NC=%{x}<br>CAUTORIZA=%{y}<extra></extra>",
                                    "legendgroup": "Crate and Barrel Online",
                                    "line": {
                                        "color": "#636efa",
                                        "dash": "solid"
                                    },
                                    "mode": "lines",
                                    "name": "Crate and Barrel Online",
                                    "orientation": "v",
                                    "showlegend": true,
                                    "type": "scatter",
                                    "x": [
                                        1,
                                        3,
                                        4,
                                        5,
                                        6
                                    ],
                                    "xaxis": "x",
                                    "y": [
                                        1,
                                        2,
                                        3,
                                        1,
                                        2
                                    ],
                                    "yaxis": "y"
                                },
                                {
                                    "hovertemplate": "NLOCAL_CREACION=DIVER PLAZA<br>MES_NC=%{x}<br>CAUTORIZA=%{y}<extra></extra>",
                                    "legendgroup": "DIVER PLAZA",
                                    "line": {
                                        "color": "#EF553B",
                                        "dash": "solid"
                                    },
                                    "mode": "lines",
                                    "name": "DIVER PLAZA",
                                    "orientation": "v",
                                    "showlegend": true,
                                    "type": "scatter",
                                    "x": [
                                        1,
                                        2,
                                        3,
                                        4,
                                        5,
                                        6
                                    ],
                                    "xaxis": "x",
                                    "y": [
                                        9.261538461538462,
                                        13.678571428571429,
                                        13.491228070175438,
                                        9.619047619047619,
                                        15.634615384615385,
                                        17.29090909090909
                                    ],
                                    "yaxis": "y"
                                },
                                {
                                    "hovertemplate": "NLOCAL_CREACION=EL CASTILLO<br>MES_NC=%{x}<br>CAUTORIZA=%{y}<extra></extra>",
                                    "legendgroup": "EL CASTILLO",
                                    "line": {
                                        "color": "#00cc96",
                                        "dash": "solid"
                                    },
                                    "mode": "lines",
                                    "name": "EL CASTILLO",
                                    "orientation": "v",
                                    "showlegend": true,
                                    "type": "scatter",
                                    "x": [
                                        1,
                                        2,
                                        3,
                                        4,
                                        5,
                                        6
                                    ],
                                    "xaxis": "x",
                                    "y": [
                                        17.264705882352942,
                                        14.951612903225806,
                                        16.423076923076923,
                                        11.816326530612244,
                                        14.28888888888889,
                                        16.875
                                    ],
                                    "yaxis": "y"
                                },
                                {
                                    "hovertemplate": "NLOCAL_CREACION=FALABELLA. COM ALTERNO<br>MES_NC=%{x}<br>CAUTORIZA=%{y}<extra></extra>",
                                    "legendgroup": "FALABELLA. COM ALTERNO",
                                    "line": {
                                        "color": "#ab63fa",
                                        "dash": "solid"
                                    },
                                    "mode": "lines",
                                    "name": "FALABELLA. COM ALTERNO",
                                    "orientation": "v",
                                    "showlegend": true,
                                    "type": "scatter",
                                    "x": [
                                        1,
                                        2,
                                        3,
                                        4,
                                        5,
                                        6
                                    ],
                                    "xaxis": "x",
                                    "y": [
                                        42.116279069767444,
                                        39.368231046931406,
                                        30.30666666666667,
                                        20.5635593220339,
                                        22.507614213197968,
                                        24.87878787878788
                                    ],
                                    "yaxis": "y"
                                },
                                {
                                    "hovertemplate": "NLOCAL_CREACION=FONTANAR<br>MES_NC=%{x}<br>CAUTORIZA=%{y}<extra></extra>",
                                    "legendgroup": "FONTANAR",
                                    "line": {
                                        "color": "#FFA15A",
                                        "dash": "solid"
                                    },
                                    "mode": "lines",
                                    "name": "FONTANAR",
                                    "orientation": "v",
                                    "showlegend": true,
                                    "type": "scatter",
                                    "x": [
                                        1,
                                        2,
                                        3,
                                        4,
                                        5,
                                        6
                                    ],
                                    "xaxis": "x",
                                    "y": [
                                        21.479166666666668,
                                        19.125,
                                        17.942857142857143,
                                        13.25,
                                        19.420289855072465,
                                        24.642857142857142
                                    ],
                                    "yaxis": "y"
                                },
                                {
                                    "hovertemplate": "NLOCAL_CREACION=GALERIAS<br>MES_NC=%{x}<br>CAUTORIZA=%{y}<extra></extra>",
                                    "legendgroup": "GALERIAS",
                                    "line": {
                                        "color": "#19d3f3",
                                        "dash": "solid"
                                    },
                                    "mode": "lines",
                                    "name": "GALERIAS",
                                    "orientation": "v",
                                    "showlegend": true,
                                    "type": "scatter",
                                    "x": [
                                        1,
                                        2,
                                        3,
                                        4,
                                        5,
                                        6
                                    ],
                                    "xaxis": "x",
                                    "y": [
                                        19.41176470588235,
                                        22.824324324324323,
                                        21.7,
                                        12.696969696969697,
                                        19.240506329113924,
                                        23.32894736842105
                                    ],
                                    "yaxis": "y"
                                },
                                {
                                    "hovertemplate": "NLOCAL_CREACION=HAYUELOS<br>MES_NC=%{x}<br>CAUTORIZA=%{y}<extra></extra>",
                                    "legendgroup": "HAYUELOS",
                                    "line": {
                                        "color": "#FF6692",
                                        "dash": "solid"
                                    },
                                    "mode": "lines",
                                    "name": "HAYUELOS",
                                    "orientation": "v",
                                    "showlegend": true,
                                    "type": "scatter",
                                    "x": [
                                        1,
                                        2,
                                        3,
                                        4,
                                        5,
                                        6
                                    ],
                                    "xaxis": "x",
                                    "y": [
                                        11.967213114754099,
                                        20.660377358490567,
                                        19,
                                        12.617021276595745,
                                        19.775510204081634,
                                        19.666666666666668
                                    ],
                                    "yaxis": "y"
                                },
                                {
                                    "hovertemplate": "NLOCAL_CREACION=JARDIN PLAZA<br>MES_NC=%{x}<br>CAUTORIZA=%{y}<extra></extra>",
                                    "legendgroup": "JARDIN PLAZA",
                                    "line": {
                                        "color": "#B6E880",
                                        "dash": "solid"
                                    },
                                    "mode": "lines",
                                    "name": "JARDIN PLAZA",
                                    "orientation": "v",
                                    "showlegend": true,
                                    "type": "scatter",
                                    "x": [
                                        1,
                                        2,
                                        3,
                                        4,
                                        5,
                                        6
                                    ],
                                    "xaxis": "x",
                                    "y": [
                                        41.208333333333336,
                                        35.32941176470588,
                                        39,
                                        25.557377049180328,
                                        28.913793103448278,
                                        42.770270270270274
                                    ],
                                    "yaxis": "y"
                                },
                                {
                                    "hovertemplate": "NLOCAL_CREACION=LA CAROLA<br>MES_NC=%{x}<br>CAUTORIZA=%{y}<extra></extra>",
                                    "legendgroup": "LA CAROLA",
                                    "line": {
                                        "color": "#FF97FF",
                                        "dash": "solid"
                                    },
                                    "mode": "lines",
                                    "name": "LA CAROLA",
                                    "orientation": "v",
                                    "showlegend": true,
                                    "type": "scatter",
                                    "x": [
                                        1,
                                        2,
                                        3,
                                        4,
                                        5,
                                        6
                                    ],
                                    "xaxis": "x",
                                    "y": [
                                        20.21818181818182,
                                        15.375,
                                        18.105263157894736,
                                        13.363636363636363,
                                        15.714285714285714,
                                        20.19047619047619
                                    ],
                                    "yaxis": "y"
                                },
                                {
                                    "hovertemplate": "NLOCAL_CREACION=LA FELICIDAD<br>MES_NC=%{x}<br>CAUTORIZA=%{y}<extra></extra>",
                                    "legendgroup": "LA FELICIDAD",
                                    "line": {
                                        "color": "#FECB52",
                                        "dash": "solid"
                                    },
                                    "mode": "lines",
                                    "name": "LA FELICIDAD",
                                    "orientation": "v",
                                    "showlegend": true,
                                    "type": "scatter",
                                    "x": [
                                        1,
                                        2,
                                        3,
                                        4,
                                        5,
                                        6
                                    ],
                                    "xaxis": "x",
                                    "y": [
                                        16.852459016393443,
                                        16.929577464788732,
                                        13.929577464788732,
                                        9.944444444444445,
                                        15,
                                        17.863636363636363
                                    ],
                                    "yaxis": "y"
                                },
                                {
                                    "hovertemplate": "NLOCAL_CREACION=MARTINA COLINA<br>MES_NC=%{x}<br>CAUTORIZA=%{y}<extra></extra>",
                                    "legendgroup": "MARTINA COLINA",
                                    "line": {
                                        "color": "#636efa",
                                        "dash": "solid"
                                    },
                                    "mode": "lines",
                                    "name": "MARTINA COLINA",
                                    "orientation": "v",
                                    "showlegend": true,
                                    "type": "scatter",
                                    "x": [
                                        1,
                                        2,
                                        3,
                                        4,
                                        6
                                    ],
                                    "xaxis": "x",
                                    "y": [
                                        1,
                                        1,
                                        1,
                                        1,
                                        1.6666666666666667
                                    ],
                                    "yaxis": "y"
                                },
                                {
                                    "hovertemplate": "NLOCAL_CREACION=MARTINA EL TESORO<br>MES_NC=%{x}<br>CAUTORIZA=%{y}<extra></extra>",
                                    "legendgroup": "MARTINA EL TESORO",
                                    "line": {
                                        "color": "#EF553B",
                                        "dash": "solid"
                                    },
                                    "mode": "lines",
                                    "name": "MARTINA EL TESORO",
                                    "orientation": "v",
                                    "showlegend": true,
                                    "type": "scatter",
                                    "x": [
                                        1,
                                        2,
                                        6
                                    ],
                                    "xaxis": "x",
                                    "y": [
                                        1,
                                        1,
                                        2
                                    ],
                                    "yaxis": "y"
                                },
                                {
                                    "hovertemplate": "NLOCAL_CREACION=MARTINA FONTANAR<br>MES_NC=%{x}<br>CAUTORIZA=%{y}<extra></extra>",
                                    "legendgroup": "MARTINA FONTANAR",
                                    "line": {
                                        "color": "#00cc96",
                                        "dash": "solid"
                                    },
                                    "mode": "lines",
                                    "name": "MARTINA FONTANAR",
                                    "orientation": "v",
                                    "showlegend": true,
                                    "type": "scatter",
                                    "x": [
                                        1,
                                        2,
                                        3,
                                        4,
                                        5,
                                        6
                                    ],
                                    "xaxis": "x",
                                    "y": [
                                        1.5,
                                        1.3333333333333333,
                                        2,
                                        2,
                                        1,
                                        2.25
                                    ],
                                    "yaxis": "y"
                                },
                                {
                                    "hovertemplate": "NLOCAL_CREACION=PARQUE ARBOLEDA<br>MES_NC=%{x}<br>CAUTORIZA=%{y}<extra></extra>",
                                    "legendgroup": "PARQUE ARBOLEDA",
                                    "line": {
                                        "color": "#ab63fa",
                                        "dash": "solid"
                                    },
                                    "mode": "lines",
                                    "name": "PARQUE ARBOLEDA",
                                    "orientation": "v",
                                    "showlegend": true,
                                    "type": "scatter",
                                    "x": [
                                        1,
                                        2,
                                        3,
                                        4,
                                        5,
                                        6
                                    ],
                                    "xaxis": "x",
                                    "y": [
                                        16.951612903225808,
                                        12.120689655172415,
                                        11.913793103448276,
                                        9.526315789473685,
                                        11.384615384615385,
                                        16.98076923076923
                                    ],
                                    "yaxis": "y"
                                },
                                {
                                    "hovertemplate": "NLOCAL_CREACION=PLAZA CENTRAL<br>MES_NC=%{x}<br>CAUTORIZA=%{y}<extra></extra>",
                                    "legendgroup": "PLAZA CENTRAL",
                                    "line": {
                                        "color": "#FFA15A",
                                        "dash": "solid"
                                    },
                                    "mode": "lines",
                                    "name": "PLAZA CENTRAL",
                                    "orientation": "v",
                                    "showlegend": true,
                                    "type": "scatter",
                                    "x": [
                                        1,
                                        2,
                                        3,
                                        4,
                                        5,
                                        6
                                    ],
                                    "xaxis": "x",
                                    "y": [
                                        11.594202898550725,
                                        18,
                                        17.357142857142858,
                                        13.928571428571429,
                                        21.470588235294116,
                                        27.42
                                    ],
                                    "yaxis": "y"
                                },
                                {
                                    "hovertemplate": "NLOCAL_CREACION=PRIMAVERA<br>MES_NC=%{x}<br>CAUTORIZA=%{y}<extra></extra>",
                                    "legendgroup": "PRIMAVERA",
                                    "line": {
                                        "color": "#19d3f3",
                                        "dash": "solid"
                                    },
                                    "mode": "lines",
                                    "name": "PRIMAVERA",
                                    "orientation": "v",
                                    "showlegend": true,
                                    "type": "scatter",
                                    "x": [
                                        1,
                                        2,
                                        3,
                                        4,
                                        5,
                                        6
                                    ],
                                    "xaxis": "x",
                                    "y": [
                                        13.580645161290322,
                                        11.660714285714286,
                                        13.72340425531915,
                                        10.21951219512195,
                                        14.568181818181818,
                                        15.266666666666667
                                    ],
                                    "yaxis": "y"
                                },
                                {
                                    "hovertemplate": "NLOCAL_CREACION=SAN DIEGO<br>MES_NC=%{x}<br>CAUTORIZA=%{y}<extra></extra>",
                                    "legendgroup": "SAN DIEGO",
                                    "line": {
                                        "color": "#FF6692",
                                        "dash": "solid"
                                    },
                                    "mode": "lines",
                                    "name": "SAN DIEGO",
                                    "orientation": "v",
                                    "showlegend": true,
                                    "type": "scatter",
                                    "x": [
                                        1,
                                        2,
                                        3,
                                        4,
                                        5,
                                        6
                                    ],
                                    "xaxis": "x",
                                    "y": [
                                        30.92233009708738,
                                        27.240384615384617,
                                        21.90566037735849,
                                        14.439024390243903,
                                        18.893203883495147,
                                        29
                                    ],
                                    "yaxis": "y"
                                },
                                {
                                    "hovertemplate": "NLOCAL_CREACION=SANTA FE<br>MES_NC=%{x}<br>CAUTORIZA=%{y}<extra></extra>",
                                    "legendgroup": "SANTA FE",
                                    "line": {
                                        "color": "#B6E880",
                                        "dash": "solid"
                                    },
                                    "mode": "lines",
                                    "name": "SANTA FE",
                                    "orientation": "v",
                                    "showlegend": true,
                                    "type": "scatter",
                                    "x": [
                                        1,
                                        2,
                                        3,
                                        4,
                                        5,
                                        6
                                    ],
                                    "xaxis": "x",
                                    "y": [
                                        14.458333333333334,
                                        17.7,
                                        19.702380952380953,
                                        14.898550724637682,
                                        24.43421052631579,
                                        26
                                    ],
                                    "yaxis": "y"
                                },
                                {
                                    "hovertemplate": "NLOCAL_CREACION=SANTAFE MEDELLIN<br>MES_NC=%{x}<br>CAUTORIZA=%{y}<extra></extra>",
                                    "legendgroup": "SANTAFE MEDELLIN",
                                    "line": {
                                        "color": "#FF97FF",
                                        "dash": "solid"
                                    },
                                    "mode": "lines",
                                    "name": "SANTAFE MEDELLIN",
                                    "orientation": "v",
                                    "showlegend": true,
                                    "type": "scatter",
                                    "x": [
                                        1,
                                        2,
                                        3,
                                        4,
                                        5,
                                        6
                                    ],
                                    "xaxis": "x",
                                    "y": [
                                        30.81021897810219,
                                        23.23308270676692,
                                        20.26277372262774,
                                        13.89795918367347,
                                        20.504347826086956,
                                        22.90714285714286
                                    ],
                                    "yaxis": "y"
                                },
                                {
                                    "hovertemplate": "NLOCAL_CREACION=SUBA<br>MES_NC=%{x}<br>CAUTORIZA=%{y}<extra></extra>",
                                    "legendgroup": "SUBA",
                                    "line": {
                                        "color": "#FECB52",
                                        "dash": "solid"
                                    },
                                    "mode": "lines",
                                    "name": "SUBA",
                                    "orientation": "v",
                                    "showlegend": true,
                                    "type": "scatter",
                                    "x": [
                                        1,
                                        2,
                                        3,
                                        4,
                                        5,
                                        6
                                    ],
                                    "xaxis": "x",
                                    "y": [
                                        18.942528735632184,
                                        28,
                                        30.158730158730158,
                                        23.571428571428573,
                                        28.19672131147541,
                                        43.44897959183673
                                    ],
                                    "yaxis": "y"
                                },
                                {
                                    "hovertemplate": "NLOCAL_CREACION=TIENDA FALABELLA .COM<br>MES_NC=%{x}<br>CAUTORIZA=%{y}<extra></extra>",
                                    "legendgroup": "TIENDA FALABELLA .COM",
                                    "line": {
                                        "color": "#636efa",
                                        "dash": "solid"
                                    },
                                    "mode": "lines",
                                    "name": "TIENDA FALABELLA .COM",
                                    "orientation": "v",
                                    "showlegend": true,
                                    "type": "scatter",
                                    "x": [
                                        1,
                                        2,
                                        3,
                                        4,
                                        5,
                                        6
                                    ],
                                    "xaxis": "x",
                                    "y": [
                                        114.66666666666667,
                                        7.333333333333333,
                                        3,
                                        3.5,
                                        1.5,
                                        7.666666666666667
                                    ],
                                    "yaxis": "y"
                                },
                                {
                                    "hovertemplate": "NLOCAL_CREACION=TITAN<br>MES_NC=%{x}<br>CAUTORIZA=%{y}<extra></extra>",
                                    "legendgroup": "TITAN",
                                    "line": {
                                        "color": "#EF553B",
                                        "dash": "solid"
                                    },
                                    "mode": "lines",
                                    "name": "TITAN",
                                    "orientation": "v",
                                    "showlegend": true,
                                    "type": "scatter",
                                    "x": [
                                        1,
                                        2,
                                        3,
                                        4,
                                        5,
                                        6
                                    ],
                                    "xaxis": "x",
                                    "y": [
                                        21.14851485148515,
                                        19.576271186440678,
                                        22.333333333333332,
                                        14.116883116883116,
                                        21.788888888888888,
                                        22.30392156862745
                                    ],
                                    "yaxis": "y"
                                },
                                {
                                    "hovertemplate": "NLOCAL_CREACION=UNICENTRO<br>MES_NC=%{x}<br>CAUTORIZA=%{y}<extra></extra>",
                                    "legendgroup": "UNICENTRO",
                                    "line": {
                                        "color": "#00cc96",
                                        "dash": "solid"
                                    },
                                    "mode": "lines",
                                    "name": "UNICENTRO",
                                    "orientation": "v",
                                    "showlegend": true,
                                    "type": "scatter",
                                    "x": [
                                        1,
                                        2,
                                        3,
                                        4,
                                        5,
                                        6
                                    ],
                                    "xaxis": "x",
                                    "y": [
                                        19.642857142857142,
                                        19.75221238938053,
                                        20.403846153846153,
                                        16.691358024691358,
                                        25.988888888888887,
                                        27.35164835164835
                                    ],
                                    "yaxis": "y"
                                },
                                {
                                    "hovertemplate": "NLOCAL_CREACION=VENTA EMPRESA<br>MES_NC=%{x}<br>CAUTORIZA=%{y}<extra></extra>",
                                    "legendgroup": "VENTA EMPRESA",
                                    "line": {
                                        "color": "#ab63fa",
                                        "dash": "solid"
                                    },
                                    "mode": "lines",
                                    "name": "VENTA EMPRESA",
                                    "orientation": "v",
                                    "showlegend": true,
                                    "type": "scatter",
                                    "x": [
                                        1,
                                        2,
                                        3,
                                        4,
                                        5,
                                        6
                                    ],
                                    "xaxis": "x",
                                    "y": [
                                        20.214285714285715,
                                        9,
                                        13.2,
                                        8.307692307692308,
                                        12.454545454545455,
                                        15.727272727272727
                                    ],
                                    "yaxis": "y"
                                },
                                {
                                    "hovertemplate": "NLOCAL_CREACION=VILLA COUNTRY<br>MES_NC=%{x}<br>CAUTORIZA=%{y}<extra></extra>",
                                    "legendgroup": "VILLA COUNTRY",
                                    "line": {
                                        "color": "#FFA15A",
                                        "dash": "solid"
                                    },
                                    "mode": "lines",
                                    "name": "VILLA COUNTRY",
                                    "orientation": "v",
                                    "showlegend": true,
                                    "type": "scatter",
                                    "x": [
                                        1,
                                        2,
                                        3,
                                        4,
                                        5,
                                        6
                                    ],
                                    "xaxis": "x",
                                    "y": [
                                        19.05263157894737,
                                        15.84,
                                        16.048780487804876,
                                        12.342105263157896,
                                        14.72,
                                        20.26923076923077
                                    ],
                                    "yaxis": "y"
                                },
                                {
                                    "hovertemplate": "NLOCAL_CREACION=WTC CALI<br>MES_NC=%{x}<br>CAUTORIZA=%{y}<extra></extra>",
                                    "legendgroup": "WTC CALI",
                                    "line": {
                                        "color": "#19d3f3",
                                        "dash": "solid"
                                    },
                                    "mode": "lines",
                                    "name": "WTC CALI",
                                    "orientation": "v",
                                    "showlegend": true,
                                    "type": "scatter",
                                    "x": [
                                        1,
                                        2,
                                        3,
                                        4,
                                        5,
                                        6
                                    ],
                                    "xaxis": "x",
                                    "y": [
                                        30.25242718446602,
                                        27.184782608695652,
                                        28.433734939759034,
                                        16.507042253521128,
                                        18.085714285714285,
                                        29.894117647058824
                                    ],
                                    "yaxis": "y"
                                }
                            ],
                            "layout": {
                                "legend": {
                                    "title": {
                                        "text": "NLOCAL_CREACION"
                                    },
                                    "tracegroupgap": 0
                                },
                                "margin": {
                                    "t": 60
                                },
                                "template": {
                                    "data": {
                                        "bar": [
                                            {
                                                "error_x": {
                                                    "color": "#2a3f5f"
                                                },
                                                "error_y": {
                                                    "color": "#2a3f5f"
                                                },
                                                "marker": {
                                                    "line": {
                                                        "color": "#E5ECF6",
                                                        "width": 0.5
                                                    }
                                                },
                                                "type": "bar"
                                            }
                                        ],
                                        "barpolar": [
                                            {
                                                "marker": {
                                                    "line": {
                                                        "color": "#E5ECF6",
                                                        "width": 0.5
                                                    }
                                                },
                                                "type": "barpolar"
                                            }
                                        ],
                                        "carpet": [
                                            {
                                                "aaxis": {
                                                    "endlinecolor": "#2a3f5f",
                                                    "gridcolor": "white",
                                                    "linecolor": "white",
                                                    "minorgridcolor": "white",
                                                    "startlinecolor": "#2a3f5f"
                                                },
                                                "baxis": {
                                                    "endlinecolor": "#2a3f5f",
                                                    "gridcolor": "white",
                                                    "linecolor": "white",
                                                    "minorgridcolor": "white",
                                                    "startlinecolor": "#2a3f5f"
                                                },
                                                "type": "carpet"
                                            }
                                        ],
                                        "choropleth": [
                                            {
                                                "colorbar": {
                                                    "outlinewidth": 0,
                                                    "ticks": ""
                                                },
                                                "type": "choropleth"
                                            }
                                        ],
                                        "contour": [
                                            {
                                                "colorbar": {
                                                    "outlinewidth": 0,
                                                    "ticks": ""
                                                },
                                                "colorscale": [
                                                    [
                                                        0,
                                                        "#0d0887"
                                                    ],
                                                    [
                                                        0.1111111111111111,
                                                        "#46039f"
                                                    ],
                                                    [
                                                        0.2222222222222222,
                                                        "#7201a8"
                                                    ],
                                                    [
                                                        0.3333333333333333,
                                                        "#9c179e"
                                                    ],
                                                    [
                                                        0.4444444444444444,
                                                        "#bd3786"
                                                    ],
                                                    [
                                                        0.5555555555555556,
                                                        "#d8576b"
                                                    ],
                                                    [
                                                        0.6666666666666666,
                                                        "#ed7953"
                                                    ],
                                                    [
                                                        0.7777777777777778,
                                                        "#fb9f3a"
                                                    ],
                                                    [
                                                        0.8888888888888888,
                                                        "#fdca26"
                                                    ],
                                                    [
                                                        1,
                                                        "#f0f921"
                                                    ]
                                                ],
                                                "type": "contour"
                                            }
                                        ],
                                        "contourcarpet": [
                                            {
                                                "colorbar": {
                                                    "outlinewidth": 0,
                                                    "ticks": ""
                                                },
                                                "type": "contourcarpet"
                                            }
                                        ],
                                        "heatmap": [
                                            {
                                                "colorbar": {
                                                    "outlinewidth": 0,
                                                    "ticks": ""
                                                },
                                                "colorscale": [
                                                    [
                                                        0,
                                                        "#0d0887"
                                                    ],
                                                    [
                                                        0.1111111111111111,
                                                        "#46039f"
                                                    ],
                                                    [
                                                        0.2222222222222222,
                                                        "#7201a8"
                                                    ],
                                                    [
                                                        0.3333333333333333,
                                                        "#9c179e"
                                                    ],
                                                    [
                                                        0.4444444444444444,
                                                        "#bd3786"
                                                    ],
                                                    [
                                                        0.5555555555555556,
                                                        "#d8576b"
                                                    ],
                                                    [
                                                        0.6666666666666666,
                                                        "#ed7953"
                                                    ],
                                                    [
                                                        0.7777777777777778,
                                                        "#fb9f3a"
                                                    ],
                                                    [
                                                        0.8888888888888888,
                                                        "#fdca26"
                                                    ],
                                                    [
                                                        1,
                                                        "#f0f921"
                                                    ]
                                                ],
                                                "type": "heatmap"
                                            }
                                        ],
                                        "heatmapgl": [
                                            {
                                                "colorbar": {
                                                    "outlinewidth": 0,
                                                    "ticks": ""
                                                },
                                                "colorscale": [
                                                    [
                                                        0,
                                                        "#0d0887"
                                                    ],
                                                    [
                                                        0.1111111111111111,
                                                        "#46039f"
                                                    ],
                                                    [
                                                        0.2222222222222222,
                                                        "#7201a8"
                                                    ],
                                                    [
                                                        0.3333333333333333,
                                                        "#9c179e"
                                                    ],
                                                    [
                                                        0.4444444444444444,
                                                        "#bd3786"
                                                    ],
                                                    [
                                                        0.5555555555555556,
                                                        "#d8576b"
                                                    ],
                                                    [
                                                        0.6666666666666666,
                                                        "#ed7953"
                                                    ],
                                                    [
                                                        0.7777777777777778,
                                                        "#fb9f3a"
                                                    ],
                                                    [
                                                        0.8888888888888888,
                                                        "#fdca26"
                                                    ],
                                                    [
                                                        1,
                                                        "#f0f921"
                                                    ]
                                                ],
                                                "type": "heatmapgl"
                                            }
                                        ],
                                        "histogram": [
                                            {
                                                "marker": {
                                                    "colorbar": {
                                                        "outlinewidth": 0,
                                                        "ticks": ""
                                                    }
                                                },
                                                "type": "histogram"
                                            }
                                        ],
                                        "histogram2d": [
                                            {
                                                "colorbar": {
                                                    "outlinewidth": 0,
                                                    "ticks": ""
                                                },
                                                "colorscale": [
                                                    [
                                                        0,
                                                        "#0d0887"
                                                    ],
                                                    [
                                                        0.1111111111111111,
                                                        "#46039f"
                                                    ],
                                                    [
                                                        0.2222222222222222,
                                                        "#7201a8"
                                                    ],
                                                    [
                                                        0.3333333333333333,
                                                        "#9c179e"
                                                    ],
                                                    [
                                                        0.4444444444444444,
                                                        "#bd3786"
                                                    ],
                                                    [
                                                        0.5555555555555556,
                                                        "#d8576b"
                                                    ],
                                                    [
                                                        0.6666666666666666,
                                                        "#ed7953"
                                                    ],
                                                    [
                                                        0.7777777777777778,
                                                        "#fb9f3a"
                                                    ],
                                                    [
                                                        0.8888888888888888,
                                                        "#fdca26"
                                                    ],
                                                    [
                                                        1,
                                                        "#f0f921"
                                                    ]
                                                ],
                                                "type": "histogram2d"
                                            }
                                        ],
                                        "histogram2dcontour": [
                                            {
                                                "colorbar": {
                                                    "outlinewidth": 0,
                                                    "ticks": ""
                                                },
                                                "colorscale": [
                                                    [
                                                        0,
                                                        "#0d0887"
                                                    ],
                                                    [
                                                        0.1111111111111111,
                                                        "#46039f"
                                                    ],
                                                    [
                                                        0.2222222222222222,
                                                        "#7201a8"
                                                    ],
                                                    [
                                                        0.3333333333333333,
                                                        "#9c179e"
                                                    ],
                                                    [
                                                        0.4444444444444444,
                                                        "#bd3786"
                                                    ],
                                                    [
                                                        0.5555555555555556,
                                                        "#d8576b"
                                                    ],
                                                    [
                                                        0.6666666666666666,
                                                        "#ed7953"
                                                    ],
                                                    [
                                                        0.7777777777777778,
                                                        "#fb9f3a"
                                                    ],
                                                    [
                                                        0.8888888888888888,
                                                        "#fdca26"
                                                    ],
                                                    [
                                                        1,
                                                        "#f0f921"
                                                    ]
                                                ],
                                                "type": "histogram2dcontour"
                                            }
                                        ],
                                        "mesh3d": [
                                            {
                                                "colorbar": {
                                                    "outlinewidth": 0,
                                                    "ticks": ""
                                                },
                                                "type": "mesh3d"
                                            }
                                        ],
                                        "parcoords": [
                                            {
                                                "line": {
                                                    "colorbar": {
                                                        "outlinewidth": 0,
                                                        "ticks": ""
                                                    }
                                                },
                                                "type": "parcoords"
                                            }
                                        ],
                                        "pie": [
                                            {
                                                "automargin": true,
                                                "type": "pie"
                                            }
                                        ],
                                        "scatter": [
                                            {
                                                "marker": {
                                                    "colorbar": {
                                                        "outlinewidth": 0,
                                                        "ticks": ""
                                                    }
                                                },
                                                "type": "scatter"
                                            }
                                        ],
                                        "scatter3d": [
                                            {
                                                "line": {
                                                    "colorbar": {
                                                        "outlinewidth": 0,
                                                        "ticks": ""
                                                    }
                                                },
                                                "marker": {
                                                    "colorbar": {
                                                        "outlinewidth": 0,
                                                        "ticks": ""
                                                    }
                                                },
                                                "type": "scatter3d"
                                            }
                                        ],
                                        "scattercarpet": [
                                            {
                                                "marker": {
                                                    "colorbar": {
                                                        "outlinewidth": 0,
                                                        "ticks": ""
                                                    }
                                                },
                                                "type": "scattercarpet"
                                            }
                                        ],
                                        "scattergeo": [
                                            {
                                                "marker": {
                                                    "colorbar": {
                                                        "outlinewidth": 0,
                                                        "ticks": ""
                                                    }
                                                },
                                                "type": "scattergeo"
                                            }
                                        ],
                                        "scattergl": [
                                            {
                                                "marker": {
                                                    "colorbar": {
                                                        "outlinewidth": 0,
                                                        "ticks": ""
                                                    }
                                                },
                                                "type": "scattergl"
                                            }
                                        ],
                                        "scattermapbox": [
                                            {
                                                "marker": {
                                                    "colorbar": {
                                                        "outlinewidth": 0,
                                                        "ticks": ""
                                                    }
                                                },
                                                "type": "scattermapbox"
                                            }
                                        ],
                                        "scatterpolar": [
                                            {
                                                "marker": {
                                                    "colorbar": {
                                                        "outlinewidth": 0,
                                                        "ticks": ""
                                                    }
                                                },
                                                "type": "scatterpolar"
                                            }
                                        ],
                                        "scatterpolargl": [
                                            {
                                                "marker": {
                                                    "colorbar": {
                                                        "outlinewidth": 0,
                                                        "ticks": ""
                                                    }
                                                },
                                                "type": "scatterpolargl"
                                            }
                                        ],
                                        "scatterternary": [
                                            {
                                                "marker": {
                                                    "colorbar": {
                                                        "outlinewidth": 0,
                                                        "ticks": ""
                                                    }
                                                },
                                                "type": "scatterternary"
                                            }
                                        ],
                                        "surface": [
                                            {
                                                "colorbar": {
                                                    "outlinewidth": 0,
                                                    "ticks": ""
                                                },
                                                "colorscale": [
                                                    [
                                                        0,
                                                        "#0d0887"
                                                    ],
                                                    [
                                                        0.1111111111111111,
                                                        "#46039f"
                                                    ],
                                                    [
                                                        0.2222222222222222,
                                                        "#7201a8"
                                                    ],
                                                    [
                                                        0.3333333333333333,
                                                        "#9c179e"
                                                    ],
                                                    [
                                                        0.4444444444444444,
                                                        "#bd3786"
                                                    ],
                                                    [
                                                        0.5555555555555556,
                                                        "#d8576b"
                                                    ],
                                                    [
                                                        0.6666666666666666,
                                                        "#ed7953"
                                                    ],
                                                    [
                                                        0.7777777777777778,
                                                        "#fb9f3a"
                                                    ],
                                                    [
                                                        0.8888888888888888,
                                                        "#fdca26"
                                                    ],
                                                    [
                                                        1,
                                                        "#f0f921"
                                                    ]
                                                ],
                                                "type": "surface"
                                            }
                                        ],
                                        "table": [
                                            {
                                                "cells": {
                                                    "fill": {
                                                        "color": "#EBF0F8"
                                                    },
                                                    "line": {
                                                        "color": "white"
                                                    }
                                                },
                                                "header": {
                                                    "fill": {
                                                        "color": "#C8D4E3"
                                                    },
                                                    "line": {
                                                        "color": "white"
                                                    }
                                                },
                                                "type": "table"
                                            }
                                        ]
                                    },
                                    "layout": {
                                        "annotationdefaults": {
                                            "arrowcolor": "#2a3f5f",
                                            "arrowhead": 0,
                                            "arrowwidth": 1
                                        },
                                        "autotypenumbers": "strict",
                                        "coloraxis": {
                                            "colorbar": {
                                                "outlinewidth": 0,
                                                "ticks": ""
                                            }
                                        },
                                        "colorscale": {
                                            "diverging": [
                                                [
                                                    0,
                                                    "#8e0152"
                                                ],
                                                [
                                                    0.1,
                                                    "#c51b7d"
                                                ],
                                                [
                                                    0.2,
                                                    "#de77ae"
                                                ],
                                                [
                                                    0.3,
                                                    "#f1b6da"
                                                ],
                                                [
                                                    0.4,
                                                    "#fde0ef"
                                                ],
                                                [
                                                    0.5,
                                                    "#f7f7f7"
                                                ],
                                                [
                                                    0.6,
                                                    "#e6f5d0"
                                                ],
                                                [
                                                    0.7,
                                                    "#b8e186"
                                                ],
                                                [
                                                    0.8,
                                                    "#7fbc41"
                                                ],
                                                [
                                                    0.9,
                                                    "#4d9221"
                                                ],
                                                [
                                                    1,
                                                    "#276419"
                                                ]
                                            ],
                                            "sequential": [
                                                [
                                                    0,
                                                    "#0d0887"
                                                ],
                                                [
                                                    0.1111111111111111,
                                                    "#46039f"
                                                ],
                                                [
                                                    0.2222222222222222,
                                                    "#7201a8"
                                                ],
                                                [
                                                    0.3333333333333333,
                                                    "#9c179e"
                                                ],
                                                [
                                                    0.4444444444444444,
                                                    "#bd3786"
                                                ],
                                                [
                                                    0.5555555555555556,
                                                    "#d8576b"
                                                ],
                                                [
                                                    0.6666666666666666,
                                                    "#ed7953"
                                                ],
                                                [
                                                    0.7777777777777778,
                                                    "#fb9f3a"
                                                ],
                                                [
                                                    0.8888888888888888,
                                                    "#fdca26"
                                                ],
                                                [
                                                    1,
                                                    "#f0f921"
                                                ]
                                            ],
                                            "sequentialminus": [
                                                [
                                                    0,
                                                    "#0d0887"
                                                ],
                                                [
                                                    0.1111111111111111,
                                                    "#46039f"
                                                ],
                                                [
                                                    0.2222222222222222,
                                                    "#7201a8"
                                                ],
                                                [
                                                    0.3333333333333333,
                                                    "#9c179e"
                                                ],
                                                [
                                                    0.4444444444444444,
                                                    "#bd3786"
                                                ],
                                                [
                                                    0.5555555555555556,
                                                    "#d8576b"
                                                ],
                                                [
                                                    0.6666666666666666,
                                                    "#ed7953"
                                                ],
                                                [
                                                    0.7777777777777778,
                                                    "#fb9f3a"
                                                ],
                                                [
                                                    0.8888888888888888,
                                                    "#fdca26"
                                                ],
                                                [
                                                    1,
                                                    "#f0f921"
                                                ]
                                            ]
                                        },
                                        "colorway": [
                                            "#636efa",
                                            "#EF553B",
                                            "#00cc96",
                                            "#ab63fa",
                                            "#FFA15A",
                                            "#19d3f3",
                                            "#FF6692",
                                            "#B6E880",
                                            "#FF97FF",
                                            "#FECB52"
                                        ],
                                        "font": {
                                            "color": "#2a3f5f"
                                        },
                                        "geo": {
                                            "bgcolor": "white",
                                            "lakecolor": "white",
                                            "landcolor": "#E5ECF6",
                                            "showlakes": true,
                                            "showland": true,
                                            "subunitcolor": "white"
                                        },
                                        "hoverlabel": {
                                            "align": "left"
                                        },
                                        "hovermode": "closest",
                                        "mapbox": {
                                            "style": "light"
                                        },
                                        "paper_bgcolor": "white",
                                        "plot_bgcolor": "#E5ECF6",
                                        "polar": {
                                            "angularaxis": {
                                                "gridcolor": "white",
                                                "linecolor": "white",
                                                "ticks": ""
                                            },
                                            "bgcolor": "#E5ECF6",
                                            "radialaxis": {
                                                "gridcolor": "white",
                                                "linecolor": "white",
                                                "ticks": ""
                                            }
                                        },
                                        "scene": {
                                            "xaxis": {
                                                "backgroundcolor": "#E5ECF6",
                                                "gridcolor": "white",
                                                "gridwidth": 2,
                                                "linecolor": "white",
                                                "showbackground": true,
                                                "ticks": "",
                                                "zerolinecolor": "white"
                                            },
                                            "yaxis": {
                                                "backgroundcolor": "#E5ECF6",
                                                "gridcolor": "white",
                                                "gridwidth": 2,
                                                "linecolor": "white",
                                                "showbackground": true,
                                                "ticks": "",
                                                "zerolinecolor": "white"
                                            },
                                            "zaxis": {
                                                "backgroundcolor": "#E5ECF6",
                                                "gridcolor": "white",
                                                "gridwidth": 2,
                                                "linecolor": "white",
                                                "showbackground": true,
                                                "ticks": "",
                                                "zerolinecolor": "white"
                                            }
                                        },
                                        "shapedefaults": {
                                            "line": {
                                                "color": "#2a3f5f"
                                            }
                                        },
                                        "ternary": {
                                            "aaxis": {
                                                "gridcolor": "white",
                                                "linecolor": "white",
                                                "ticks": ""
                                            },
                                            "baxis": {
                                                "gridcolor": "white",
                                                "linecolor": "white",
                                                "ticks": ""
                                            },
                                            "bgcolor": "#E5ECF6",
                                            "caxis": {
                                                "gridcolor": "white",
                                                "linecolor": "white",
                                                "ticks": ""
                                            }
                                        },
                                        "title": {
                                            "x": 0.05
                                        },
                                        "xaxis": {
                                            "automargin": true,
                                            "gridcolor": "white",
                                            "linecolor": "white",
                                            "ticks": "",
                                            "title": {
                                                "standoff": 15
                                            },
                                            "zerolinecolor": "white",
                                            "zerolinewidth": 2
                                        },
                                        "yaxis": {
                                            "automargin": true,
                                            "gridcolor": "white",
                                            "linecolor": "white",
                                            "ticks": "",
                                            "title": {
                                                "standoff": 15
                                            },
                                            "zerolinecolor": "white",
                                            "zerolinewidth": 2
                                        }
                                    }
                                },
                                "xaxis": {
                                    "anchor": "y",
                                    "domain": [
                                        0,
                                        1
                                    ],
                                    "title": {
                                        "text": "MES_NC"
                                    }
                                },
                                "yaxis": {
                                    "anchor": "x",
                                    "domain": [
                                        0,
                                        1
                                    ],
                                    "title": {
                                        "text": "CAUTORIZA"
                                    }
                                }
                            }
                        }
                    },
                    "metadata": {}
                }
            ],
            "metadata": {}
        },
        {
            "cell_type": "code",
            "execution_count": 45,
            "source": [
                "mean_mes"
            ],
            "outputs": [
                {
                    "output_type": "execute_result",
                    "data": {
                        "text/plain": [
                            "    NLOCAL_CREACION  MES_NC  CAUTORIZA\n",
                            "0             ACQUA       1  32.929577\n",
                            "1             ACQUA       2  29.030303\n",
                            "2             ACQUA       3  22.426230\n",
                            "3             ACQUA       4  13.033898\n",
                            "4             ACQUA       5  13.947368\n",
                            "..              ...     ...        ...\n",
                            "201        WTC CALI       2  27.184783\n",
                            "202        WTC CALI       3  28.433735\n",
                            "203        WTC CALI       4  16.507042\n",
                            "204        WTC CALI       5  18.085714\n",
                            "205        WTC CALI       6  29.894118\n",
                            "\n",
                            "[206 rows x 3 columns]"
                        ],
                        "text/html": [
                            "<div>\n",
                            "<style scoped>\n",
                            "    .dataframe tbody tr th:only-of-type {\n",
                            "        vertical-align: middle;\n",
                            "    }\n",
                            "\n",
                            "    .dataframe tbody tr th {\n",
                            "        vertical-align: top;\n",
                            "    }\n",
                            "\n",
                            "    .dataframe thead th {\n",
                            "        text-align: right;\n",
                            "    }\n",
                            "</style>\n",
                            "<table border=\"1\" class=\"dataframe\">\n",
                            "  <thead>\n",
                            "    <tr style=\"text-align: right;\">\n",
                            "      <th></th>\n",
                            "      <th>NLOCAL_CREACION</th>\n",
                            "      <th>MES_NC</th>\n",
                            "      <th>CAUTORIZA</th>\n",
                            "    </tr>\n",
                            "  </thead>\n",
                            "  <tbody>\n",
                            "    <tr>\n",
                            "      <th>0</th>\n",
                            "      <td>ACQUA</td>\n",
                            "      <td>1</td>\n",
                            "      <td>32.929577</td>\n",
                            "    </tr>\n",
                            "    <tr>\n",
                            "      <th>1</th>\n",
                            "      <td>ACQUA</td>\n",
                            "      <td>2</td>\n",
                            "      <td>29.030303</td>\n",
                            "    </tr>\n",
                            "    <tr>\n",
                            "      <th>2</th>\n",
                            "      <td>ACQUA</td>\n",
                            "      <td>3</td>\n",
                            "      <td>22.426230</td>\n",
                            "    </tr>\n",
                            "    <tr>\n",
                            "      <th>3</th>\n",
                            "      <td>ACQUA</td>\n",
                            "      <td>4</td>\n",
                            "      <td>13.033898</td>\n",
                            "    </tr>\n",
                            "    <tr>\n",
                            "      <th>4</th>\n",
                            "      <td>ACQUA</td>\n",
                            "      <td>5</td>\n",
                            "      <td>13.947368</td>\n",
                            "    </tr>\n",
                            "    <tr>\n",
                            "      <th>...</th>\n",
                            "      <td>...</td>\n",
                            "      <td>...</td>\n",
                            "      <td>...</td>\n",
                            "    </tr>\n",
                            "    <tr>\n",
                            "      <th>201</th>\n",
                            "      <td>WTC CALI</td>\n",
                            "      <td>2</td>\n",
                            "      <td>27.184783</td>\n",
                            "    </tr>\n",
                            "    <tr>\n",
                            "      <th>202</th>\n",
                            "      <td>WTC CALI</td>\n",
                            "      <td>3</td>\n",
                            "      <td>28.433735</td>\n",
                            "    </tr>\n",
                            "    <tr>\n",
                            "      <th>203</th>\n",
                            "      <td>WTC CALI</td>\n",
                            "      <td>4</td>\n",
                            "      <td>16.507042</td>\n",
                            "    </tr>\n",
                            "    <tr>\n",
                            "      <th>204</th>\n",
                            "      <td>WTC CALI</td>\n",
                            "      <td>5</td>\n",
                            "      <td>18.085714</td>\n",
                            "    </tr>\n",
                            "    <tr>\n",
                            "      <th>205</th>\n",
                            "      <td>WTC CALI</td>\n",
                            "      <td>6</td>\n",
                            "      <td>29.894118</td>\n",
                            "    </tr>\n",
                            "  </tbody>\n",
                            "</table>\n",
                            "<p>206 rows × 3 columns</p>\n",
                            "</div>"
                        ]
                    },
                    "metadata": {},
                    "execution_count": 45
                }
            ],
            "metadata": {}
        },
        {
            "cell_type": "code",
            "execution_count": 75,
            "source": [
                "a = df.groupby(['NLOCAL_CREACION', 'MES_NC', 'CVEND_NVO'])['CAUTORIZA'].nunique().reset_index()\n",
                "a['MEAN_TIENDA_MES'] = a.groupby(['NLOCAL_CREACION','MES_NC'])['CAUTORIZA'].transform('mean')\n"
            ],
            "outputs": [],
            "metadata": {}
        },
        {
            "cell_type": "code",
            "execution_count": 83,
            "source": [
                "a[a['CAUTORIZA']>a['MEAN_TIENDA_MES']*2]"
            ],
            "outputs": [
                {
                    "output_type": "execute_result",
                    "data": {
                        "text/plain": [
                            "      NLOCAL_CREACION  MES_NC CVEND_NVO  CAUTORIZA  MEAN_TIENDA_MES\n",
                            "20              ACQUA       1    155705         68        32.929577\n",
                            "26              ACQUA       1    162507         79        32.929577\n",
                            "27              ACQUA       1    168688        102        32.929577\n",
                            "44              ACQUA       1    910538        168        32.929577\n",
                            "45              ACQUA       1    910562        124        32.929577\n",
                            "...               ...     ...       ...        ...              ...\n",
                            "12403        WTC CALI       6    897361        168        29.894118\n",
                            "12404        WTC CALI       6    904414        298        29.894118\n",
                            "12407        WTC CALI       6    918458        234        29.894118\n",
                            "12409        WTC CALI       6    923567        103        29.894118\n",
                            "12410        WTC CALI       6    928852        195        29.894118\n",
                            "\n",
                            "[1739 rows x 5 columns]"
                        ],
                        "text/html": [
                            "<div>\n",
                            "<style scoped>\n",
                            "    .dataframe tbody tr th:only-of-type {\n",
                            "        vertical-align: middle;\n",
                            "    }\n",
                            "\n",
                            "    .dataframe tbody tr th {\n",
                            "        vertical-align: top;\n",
                            "    }\n",
                            "\n",
                            "    .dataframe thead th {\n",
                            "        text-align: right;\n",
                            "    }\n",
                            "</style>\n",
                            "<table border=\"1\" class=\"dataframe\">\n",
                            "  <thead>\n",
                            "    <tr style=\"text-align: right;\">\n",
                            "      <th></th>\n",
                            "      <th>NLOCAL_CREACION</th>\n",
                            "      <th>MES_NC</th>\n",
                            "      <th>CVEND_NVO</th>\n",
                            "      <th>CAUTORIZA</th>\n",
                            "      <th>MEAN_TIENDA_MES</th>\n",
                            "    </tr>\n",
                            "  </thead>\n",
                            "  <tbody>\n",
                            "    <tr>\n",
                            "      <th>20</th>\n",
                            "      <td>ACQUA</td>\n",
                            "      <td>1</td>\n",
                            "      <td>155705</td>\n",
                            "      <td>68</td>\n",
                            "      <td>32.929577</td>\n",
                            "    </tr>\n",
                            "    <tr>\n",
                            "      <th>26</th>\n",
                            "      <td>ACQUA</td>\n",
                            "      <td>1</td>\n",
                            "      <td>162507</td>\n",
                            "      <td>79</td>\n",
                            "      <td>32.929577</td>\n",
                            "    </tr>\n",
                            "    <tr>\n",
                            "      <th>27</th>\n",
                            "      <td>ACQUA</td>\n",
                            "      <td>1</td>\n",
                            "      <td>168688</td>\n",
                            "      <td>102</td>\n",
                            "      <td>32.929577</td>\n",
                            "    </tr>\n",
                            "    <tr>\n",
                            "      <th>44</th>\n",
                            "      <td>ACQUA</td>\n",
                            "      <td>1</td>\n",
                            "      <td>910538</td>\n",
                            "      <td>168</td>\n",
                            "      <td>32.929577</td>\n",
                            "    </tr>\n",
                            "    <tr>\n",
                            "      <th>45</th>\n",
                            "      <td>ACQUA</td>\n",
                            "      <td>1</td>\n",
                            "      <td>910562</td>\n",
                            "      <td>124</td>\n",
                            "      <td>32.929577</td>\n",
                            "    </tr>\n",
                            "    <tr>\n",
                            "      <th>...</th>\n",
                            "      <td>...</td>\n",
                            "      <td>...</td>\n",
                            "      <td>...</td>\n",
                            "      <td>...</td>\n",
                            "      <td>...</td>\n",
                            "    </tr>\n",
                            "    <tr>\n",
                            "      <th>12403</th>\n",
                            "      <td>WTC CALI</td>\n",
                            "      <td>6</td>\n",
                            "      <td>897361</td>\n",
                            "      <td>168</td>\n",
                            "      <td>29.894118</td>\n",
                            "    </tr>\n",
                            "    <tr>\n",
                            "      <th>12404</th>\n",
                            "      <td>WTC CALI</td>\n",
                            "      <td>6</td>\n",
                            "      <td>904414</td>\n",
                            "      <td>298</td>\n",
                            "      <td>29.894118</td>\n",
                            "    </tr>\n",
                            "    <tr>\n",
                            "      <th>12407</th>\n",
                            "      <td>WTC CALI</td>\n",
                            "      <td>6</td>\n",
                            "      <td>918458</td>\n",
                            "      <td>234</td>\n",
                            "      <td>29.894118</td>\n",
                            "    </tr>\n",
                            "    <tr>\n",
                            "      <th>12409</th>\n",
                            "      <td>WTC CALI</td>\n",
                            "      <td>6</td>\n",
                            "      <td>923567</td>\n",
                            "      <td>103</td>\n",
                            "      <td>29.894118</td>\n",
                            "    </tr>\n",
                            "    <tr>\n",
                            "      <th>12410</th>\n",
                            "      <td>WTC CALI</td>\n",
                            "      <td>6</td>\n",
                            "      <td>928852</td>\n",
                            "      <td>195</td>\n",
                            "      <td>29.894118</td>\n",
                            "    </tr>\n",
                            "  </tbody>\n",
                            "</table>\n",
                            "<p>1739 rows × 5 columns</p>\n",
                            "</div>"
                        ]
                    },
                    "metadata": {},
                    "execution_count": 83
                }
            ],
            "metadata": {}
        },
        {
            "cell_type": "code",
            "execution_count": 101,
            "source": [
                "a[(a['NLOCAL_CREACION']=='ACQUA')&(a['CAUTORIZA']>a['MEAN_TIENDA_MES']*2)].groupby('MES_NC')['CAUTORIZA'].nlargest(3)"
            ],
            "outputs": [
                {
                    "output_type": "execute_result",
                    "data": {
                        "text/plain": [
                            "MES_NC     \n",
                            "1       44     168\n",
                            "        69     151\n",
                            "        62     146\n",
                            "2       114    161\n",
                            "        126    118\n",
                            "        127    112\n",
                            "3       175    108\n",
                            "        172     91\n",
                            "        187     88\n",
                            "4       221     54\n",
                            "        216     52\n",
                            "        236     49\n",
                            "5       280     62\n",
                            "        292     45\n",
                            "        277     41\n",
                            "6       332    106\n",
                            "        348     79\n",
                            "        358     71\n",
                            "Name: CAUTORIZA, dtype: int64"
                        ]
                    },
                    "metadata": {},
                    "execution_count": 101
                }
            ],
            "metadata": {}
        },
        {
            "cell_type": "code",
            "execution_count": 109,
            "source": [
                "a[(a['NLOCAL_CREACION']=='ACQUA')&(a['CAUTORIZA']>a['MEAN_TIENDA_MES']*2)]"
            ],
            "outputs": [
                {
                    "output_type": "execute_result",
                    "data": {
                        "text/plain": [
                            "    NLOCAL_CREACION  MES_NC CVEND_NVO  CAUTORIZA  MEAN_TIENDA_MES\n",
                            "20            ACQUA       1    155705         68        32.929577\n",
                            "26            ACQUA       1    162507         79        32.929577\n",
                            "27            ACQUA       1    168688        102        32.929577\n",
                            "44            ACQUA       1    910538        168        32.929577\n",
                            "45            ACQUA       1    910562        124        32.929577\n",
                            "..              ...     ...       ...        ...              ...\n",
                            "360           ACQUA       6    974234         46        20.285714\n",
                            "361           ACQUA       6    974242         47        20.285714\n",
                            "363           ACQUA       6    977373         57        20.285714\n",
                            "365           ACQUA       6    981850         50        20.285714\n",
                            "368           ACQUA       6    997269         50        20.285714\n",
                            "\n",
                            "[65 rows x 5 columns]"
                        ],
                        "text/html": [
                            "<div>\n",
                            "<style scoped>\n",
                            "    .dataframe tbody tr th:only-of-type {\n",
                            "        vertical-align: middle;\n",
                            "    }\n",
                            "\n",
                            "    .dataframe tbody tr th {\n",
                            "        vertical-align: top;\n",
                            "    }\n",
                            "\n",
                            "    .dataframe thead th {\n",
                            "        text-align: right;\n",
                            "    }\n",
                            "</style>\n",
                            "<table border=\"1\" class=\"dataframe\">\n",
                            "  <thead>\n",
                            "    <tr style=\"text-align: right;\">\n",
                            "      <th></th>\n",
                            "      <th>NLOCAL_CREACION</th>\n",
                            "      <th>MES_NC</th>\n",
                            "      <th>CVEND_NVO</th>\n",
                            "      <th>CAUTORIZA</th>\n",
                            "      <th>MEAN_TIENDA_MES</th>\n",
                            "    </tr>\n",
                            "  </thead>\n",
                            "  <tbody>\n",
                            "    <tr>\n",
                            "      <th>20</th>\n",
                            "      <td>ACQUA</td>\n",
                            "      <td>1</td>\n",
                            "      <td>155705</td>\n",
                            "      <td>68</td>\n",
                            "      <td>32.929577</td>\n",
                            "    </tr>\n",
                            "    <tr>\n",
                            "      <th>26</th>\n",
                            "      <td>ACQUA</td>\n",
                            "      <td>1</td>\n",
                            "      <td>162507</td>\n",
                            "      <td>79</td>\n",
                            "      <td>32.929577</td>\n",
                            "    </tr>\n",
                            "    <tr>\n",
                            "      <th>27</th>\n",
                            "      <td>ACQUA</td>\n",
                            "      <td>1</td>\n",
                            "      <td>168688</td>\n",
                            "      <td>102</td>\n",
                            "      <td>32.929577</td>\n",
                            "    </tr>\n",
                            "    <tr>\n",
                            "      <th>44</th>\n",
                            "      <td>ACQUA</td>\n",
                            "      <td>1</td>\n",
                            "      <td>910538</td>\n",
                            "      <td>168</td>\n",
                            "      <td>32.929577</td>\n",
                            "    </tr>\n",
                            "    <tr>\n",
                            "      <th>45</th>\n",
                            "      <td>ACQUA</td>\n",
                            "      <td>1</td>\n",
                            "      <td>910562</td>\n",
                            "      <td>124</td>\n",
                            "      <td>32.929577</td>\n",
                            "    </tr>\n",
                            "    <tr>\n",
                            "      <th>...</th>\n",
                            "      <td>...</td>\n",
                            "      <td>...</td>\n",
                            "      <td>...</td>\n",
                            "      <td>...</td>\n",
                            "      <td>...</td>\n",
                            "    </tr>\n",
                            "    <tr>\n",
                            "      <th>360</th>\n",
                            "      <td>ACQUA</td>\n",
                            "      <td>6</td>\n",
                            "      <td>974234</td>\n",
                            "      <td>46</td>\n",
                            "      <td>20.285714</td>\n",
                            "    </tr>\n",
                            "    <tr>\n",
                            "      <th>361</th>\n",
                            "      <td>ACQUA</td>\n",
                            "      <td>6</td>\n",
                            "      <td>974242</td>\n",
                            "      <td>47</td>\n",
                            "      <td>20.285714</td>\n",
                            "    </tr>\n",
                            "    <tr>\n",
                            "      <th>363</th>\n",
                            "      <td>ACQUA</td>\n",
                            "      <td>6</td>\n",
                            "      <td>977373</td>\n",
                            "      <td>57</td>\n",
                            "      <td>20.285714</td>\n",
                            "    </tr>\n",
                            "    <tr>\n",
                            "      <th>365</th>\n",
                            "      <td>ACQUA</td>\n",
                            "      <td>6</td>\n",
                            "      <td>981850</td>\n",
                            "      <td>50</td>\n",
                            "      <td>20.285714</td>\n",
                            "    </tr>\n",
                            "    <tr>\n",
                            "      <th>368</th>\n",
                            "      <td>ACQUA</td>\n",
                            "      <td>6</td>\n",
                            "      <td>997269</td>\n",
                            "      <td>50</td>\n",
                            "      <td>20.285714</td>\n",
                            "    </tr>\n",
                            "  </tbody>\n",
                            "</table>\n",
                            "<p>65 rows × 5 columns</p>\n",
                            "</div>"
                        ]
                    },
                    "metadata": {},
                    "execution_count": 109
                }
            ],
            "metadata": {}
        },
        {
            "cell_type": "code",
            "execution_count": 108,
            "source": [
                "a[(a['NLOCAL_CREACION']=='UNICENTRO')&(a['MES_NC']==2)].describe()"
            ],
            "outputs": [
                {
                    "output_type": "execute_result",
                    "data": {
                        "text/plain": [
                            "       MES_NC   CAUTORIZA  MEAN_TIENDA_MES\n",
                            "count   113.0  113.000000       113.000000\n",
                            "mean      2.0   19.752212        19.752212\n",
                            "std       0.0   50.855455         0.000000\n",
                            "min       2.0    1.000000        19.752212\n",
                            "25%       2.0    2.000000        19.752212\n",
                            "50%       2.0    5.000000        19.752212\n",
                            "75%       2.0   13.000000        19.752212\n",
                            "max       2.0  473.000000        19.752212"
                        ],
                        "text/html": [
                            "<div>\n",
                            "<style scoped>\n",
                            "    .dataframe tbody tr th:only-of-type {\n",
                            "        vertical-align: middle;\n",
                            "    }\n",
                            "\n",
                            "    .dataframe tbody tr th {\n",
                            "        vertical-align: top;\n",
                            "    }\n",
                            "\n",
                            "    .dataframe thead th {\n",
                            "        text-align: right;\n",
                            "    }\n",
                            "</style>\n",
                            "<table border=\"1\" class=\"dataframe\">\n",
                            "  <thead>\n",
                            "    <tr style=\"text-align: right;\">\n",
                            "      <th></th>\n",
                            "      <th>MES_NC</th>\n",
                            "      <th>CAUTORIZA</th>\n",
                            "      <th>MEAN_TIENDA_MES</th>\n",
                            "    </tr>\n",
                            "  </thead>\n",
                            "  <tbody>\n",
                            "    <tr>\n",
                            "      <th>count</th>\n",
                            "      <td>113.0</td>\n",
                            "      <td>113.000000</td>\n",
                            "      <td>113.000000</td>\n",
                            "    </tr>\n",
                            "    <tr>\n",
                            "      <th>mean</th>\n",
                            "      <td>2.0</td>\n",
                            "      <td>19.752212</td>\n",
                            "      <td>19.752212</td>\n",
                            "    </tr>\n",
                            "    <tr>\n",
                            "      <th>std</th>\n",
                            "      <td>0.0</td>\n",
                            "      <td>50.855455</td>\n",
                            "      <td>0.000000</td>\n",
                            "    </tr>\n",
                            "    <tr>\n",
                            "      <th>min</th>\n",
                            "      <td>2.0</td>\n",
                            "      <td>1.000000</td>\n",
                            "      <td>19.752212</td>\n",
                            "    </tr>\n",
                            "    <tr>\n",
                            "      <th>25%</th>\n",
                            "      <td>2.0</td>\n",
                            "      <td>2.000000</td>\n",
                            "      <td>19.752212</td>\n",
                            "    </tr>\n",
                            "    <tr>\n",
                            "      <th>50%</th>\n",
                            "      <td>2.0</td>\n",
                            "      <td>5.000000</td>\n",
                            "      <td>19.752212</td>\n",
                            "    </tr>\n",
                            "    <tr>\n",
                            "      <th>75%</th>\n",
                            "      <td>2.0</td>\n",
                            "      <td>13.000000</td>\n",
                            "      <td>19.752212</td>\n",
                            "    </tr>\n",
                            "    <tr>\n",
                            "      <th>max</th>\n",
                            "      <td>2.0</td>\n",
                            "      <td>473.000000</td>\n",
                            "      <td>19.752212</td>\n",
                            "    </tr>\n",
                            "  </tbody>\n",
                            "</table>\n",
                            "</div>"
                        ]
                    },
                    "metadata": {},
                    "execution_count": 108
                }
            ],
            "metadata": {}
        },
        {
            "cell_type": "code",
            "execution_count": 88,
            "source": [
                "a.NLOCAL_CREACION.unique()"
            ],
            "outputs": [
                {
                    "output_type": "execute_result",
                    "data": {
                        "text/plain": [
                            "array(['ACQUA', 'ADMINISTRATIVO', 'ARKADIA', 'BUENAVISTA',\n",
                            "       'C&B Online ADMINISTRATIVO', 'CACIQUE', 'CARACOLI', 'CENTRO MAYOR',\n",
                            "       'COLINA', 'Crate and Barrel Colina', 'Crate and Barrel Online',\n",
                            "       'DIVER PLAZA', 'EL CASTILLO', 'FALABELLA. COM ALTERNO', 'FONTANAR',\n",
                            "       'GALERIAS', 'HAYUELOS', 'JARDIN PLAZA', 'LA CAROLA',\n",
                            "       'LA FELICIDAD', 'MARTINA COLINA', 'MARTINA EL TESORO',\n",
                            "       'MARTINA FONTANAR', 'PARQUE ARBOLEDA', 'PLAZA CENTRAL',\n",
                            "       'PRIMAVERA', 'SAN DIEGO', 'SANTA FE', 'SANTAFE MEDELLIN', 'SUBA',\n",
                            "       'TIENDA FALABELLA .COM', 'TITAN', 'UNICENTRO', 'VENTA EMPRESA',\n",
                            "       'VILLA COUNTRY', 'WTC CALI'], dtype=object)"
                        ]
                    },
                    "metadata": {},
                    "execution_count": 88
                }
            ],
            "metadata": {}
        },
        {
            "cell_type": "code",
            "execution_count": 104,
            "source": [
                "a[(a['NLOCAL_CREACION']=='ACQUA')&(a['CAUTORIZA']>a['MEAN_TIENDA_MES']*2)].groupby('MES_NC')['CAUTORIZA'].nlargest(2)"
            ],
            "outputs": [
                {
                    "output_type": "execute_result",
                    "data": {
                        "text/plain": [
                            "MES_NC     \n",
                            "1       44     168\n",
                            "        69     151\n",
                            "2       114    161\n",
                            "        126    118\n",
                            "3       175    108\n",
                            "        172     91\n",
                            "4       221     54\n",
                            "        216     52\n",
                            "5       280     62\n",
                            "        292     45\n",
                            "6       332    106\n",
                            "        348     79\n",
                            "Name: CAUTORIZA, dtype: int64"
                        ]
                    },
                    "metadata": {},
                    "execution_count": 104
                }
            ],
            "metadata": {}
        },
        {
            "cell_type": "code",
            "execution_count": null,
            "source": [],
            "outputs": [],
            "metadata": {}
        }
    ],
    "metadata": {
        "orig_nbformat": 4,
        "language_info": {
            "name": "python",
            "version": "3.9.5",
            "mimetype": "text/x-python",
            "codemirror_mode": {
                "name": "ipython",
                "version": 3
            },
            "pygments_lexer": "ipython3",
            "nbconvert_exporter": "python",
            "file_extension": ".py"
        },
        "kernelspec": {
            "name": "python3",
            "display_name": "Python 3.9.5 64-bit ('fala': conda)"
        },
        "interpreter": {
            "hash": "183aa361c541b3ff48c3a79812959f5d5be773975acbe832fca49e0113764b3a"
        }
    },
    "nbformat": 4,
    "nbformat_minor": 2
}