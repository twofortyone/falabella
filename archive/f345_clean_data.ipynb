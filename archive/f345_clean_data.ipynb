{
 "cells": [
  {
   "cell_type": "code",
   "execution_count": 5,
   "source": [
    "import pandas as pd \r\n",
    "from cl_cleaning import CleaningText as ct \r\n",
    "pd.set_option('float_format', '{:,.2f}'.format)\r\n",
    "pd.set_option('display.max_columns', 70)"
   ],
   "outputs": [],
   "metadata": {}
  },
  {
   "cell_type": "code",
   "execution_count": 87,
   "source": [
    "f3 = pd.read_excel('input/db-pbi/Seguimiento_F3-pap.xlsx', sheet_name='DATA_F3',  dtype='object')"
   ],
   "outputs": [],
   "metadata": {}
  },
  {
   "cell_type": "code",
   "execution_count": 88,
   "source": [
    "f3 = ct.norm_header(f3)\r\n",
    "path_intermedio = f'output/db-pbi/210823-data_f3-inter.csv'\r\n",
    "f3.to_csv(path_intermedio, sep=';', index=False) "
   ],
   "outputs": [],
   "metadata": {}
  },
  {
   "cell_type": "code",
   "execution_count": 96,
   "source": [
    "f3 = pd.read_csv('output/db-pbi/210823-data_f3-inter.csv', sep=';', dtype='object')"
   ],
   "outputs": [],
   "metadata": {}
  },
  {
   "cell_type": "code",
   "execution_count": 14,
   "source": [
    "def drop_except(df, cols):\r\n",
    "    df.drop(df.columns.difference(cols), axis=1, inplace=True)\r\n",
    "    return df "
   ],
   "outputs": [],
   "metadata": {}
  },
  {
   "cell_type": "code",
   "execution_count": 97,
   "source": [
    "req_lista = ['nro_devolucion', 'nro_guia', 'tipo_producto', 'prd_upc', 'desc_linea',\r\n",
    "       'desc_sclase', 'sku', 'desc_sku', 'rut_proveedor', 'dv_proveedor',\r\n",
    "       'razon_social', 'local_envio', 'desc_local_envio', 'estado', 'fecha_reserva', \r\n",
    "       'fecha_envio', 'cantidad', 'cant_costo', 'cant_venta', 'tipo_documento_para_dev', \r\n",
    "       'folio_f11', 'folio_f12', 'antiguedad_reservado', 'antiguedad_enviado', 'dias', 'antiguedad', 'fecha_corte', 'grupo']\r\n",
    "\r\n",
    "text_lista = ['tipo_producto', 'desc_linea', 'desc_sclase', 'desc_sku', 'razon_social', \r\n",
    "       'desc_local_envio',  'estado', 'tipo_documento_para_dev','antiguedad', 'grupo']\r\n",
    "\r\n",
    "fnum_lista = ['nro_devolucion', 'nro_guia', 'prd_upc', 'sku', 'rut_proveedor', 'dv_proveedor', 'local_envio', 'folio_f11', 'folio_f12', 'antiguedad_reservado', \r\n",
    "       'antiguedad_enviado',  'dias']\r\n",
    "\r\n",
    "fechas = [ 'fecha_reserva', 'fecha_aprobacion', 'fecha_envio', 'fecha_corte']\r\n",
    "\r\n",
    "# 'cantidad', 'cant_costo', 'cant_venta',"
   ],
   "outputs": [],
   "metadata": {}
  },
  {
   "cell_type": "code",
   "execution_count": 98,
   "source": [
    "f3 = drop_except(f3, req_lista)"
   ],
   "outputs": [],
   "metadata": {}
  },
  {
   "cell_type": "code",
   "execution_count": 99,
   "source": [
    "print('Limpiando texto en columnas')\r\n",
    "f3.loc[:, text_lista] = f3.loc[:, text_lista].apply(ct.clean_str)"
   ],
   "outputs": [
    {
     "output_type": "stream",
     "name": "stdout",
     "text": [
      "Limpiando texto en columnas\n"
     ]
    }
   ],
   "metadata": {}
  },
  {
   "cell_type": "code",
   "execution_count": 100,
   "source": [
    "print('Convirtiendo a número parte 1')\r\n",
    "f3.loc[:, fnum_lista] = f3.loc[:, fnum_lista].apply(ct.clean_fnum)"
   ],
   "outputs": [
    {
     "output_type": "stream",
     "name": "stdout",
     "text": [
      "Convirtiendo a número parte 1\n"
     ]
    }
   ],
   "metadata": {}
  },
  {
   "cell_type": "code",
   "execution_count": 103,
   "source": [
    "f3.fecha_corte =  pd.to_datetime(f3.fecha_corte, format='%Y-%m-%d')"
   ],
   "outputs": [],
   "metadata": {}
  },
  {
   "cell_type": "code",
   "execution_count": 105,
   "source": [
    "f3.cant_costo = pd.to_numeric(f3.cant_costo)\r\n",
    "f3.cant_costo = round(f3.cant_costo)\r\n",
    "f3.cant_costo = f3.cant_costo.astype(int)"
   ],
   "outputs": [],
   "metadata": {}
  },
  {
   "cell_type": "code",
   "execution_count": 106,
   "source": [
    "f3.cantidad = pd.to_numeric(f3.cantidad)\r\n",
    "f3.cantidad = round(f3.cantidad)\r\n",
    "f3.cantidad = f3.cantidad.fillna(0)\r\n",
    "f3.cantidad = f3.cantidad.astype(int)"
   ],
   "outputs": [],
   "metadata": {}
  },
  {
   "cell_type": "code",
   "execution_count": 107,
   "source": [
    "f3.cant_venta = pd.to_numeric(f3.cant_venta)\r\n",
    "f3.cant_venta = round(f3.cant_venta)\r\n",
    "f3.cant_venta = f3.cant_venta.fillna(0)\r\n",
    "f3.cant_venta = f3.cant_venta.astype(int)"
   ],
   "outputs": [],
   "metadata": {}
  },
  {
   "cell_type": "code",
   "execution_count": 55,
   "source": [
    "f3.cantidad.isna().sum()"
   ],
   "outputs": [
    {
     "output_type": "execute_result",
     "data": {
      "text/plain": [
       "0"
      ]
     },
     "metadata": {},
     "execution_count": 55
    }
   ],
   "metadata": {}
  },
  {
   "cell_type": "code",
   "execution_count": 56,
   "source": [
    "f3.to_csv('output/210812-1535-data_f3.csv', sep=';', index=False) "
   ],
   "outputs": [],
   "metadata": {}
  },
  {
   "cell_type": "markdown",
   "source": [
    "# F4"
   ],
   "metadata": {}
  },
  {
   "cell_type": "code",
   "execution_count": 6,
   "source": [
    "import pandas as pd \r\n",
    "from cl_cleaning import CleaningText as ct \r\n",
    "from datetime import datetime\r\n",
    "\r\n",
    "dt_string = datetime.now().strftime('%y%m%d-%H%M')\r\n",
    "\r\n",
    "f4 = pd.read_excel('input/Seguimiento_F4.xlsx', sheet_name='DATA',  dtype='object')\r\n",
    "path_intermedio = f'output/db-pbi/{dt_string}-data_f4-inter.csv'\r\n",
    "f4 = ct.norm_header(f4)\r\n",
    "f4.to_csv(path_intermedio, sep=';', index=False) "
   ],
   "outputs": [
    {
     "output_type": "error",
     "ename": "KeyboardInterrupt",
     "evalue": "",
     "traceback": [
      "\u001b[1;31m---------------------------------------------------------------------------\u001b[0m",
      "\u001b[1;31mKeyboardInterrupt\u001b[0m                         Traceback (most recent call last)",
      "\u001b[1;32m<ipython-input-6-b4b866ab4533>\u001b[0m in \u001b[0;36m<module>\u001b[1;34m\u001b[0m\n\u001b[0;32m      5\u001b[0m \u001b[0mdt_string\u001b[0m \u001b[1;33m=\u001b[0m \u001b[0mdatetime\u001b[0m\u001b[1;33m.\u001b[0m\u001b[0mnow\u001b[0m\u001b[1;33m(\u001b[0m\u001b[1;33m)\u001b[0m\u001b[1;33m.\u001b[0m\u001b[0mstrftime\u001b[0m\u001b[1;33m(\u001b[0m\u001b[1;34m'%y%m%d-%H%M'\u001b[0m\u001b[1;33m)\u001b[0m\u001b[1;33m\u001b[0m\u001b[1;33m\u001b[0m\u001b[0m\n\u001b[0;32m      6\u001b[0m \u001b[1;33m\u001b[0m\u001b[0m\n\u001b[1;32m----> 7\u001b[1;33m \u001b[0mf4\u001b[0m \u001b[1;33m=\u001b[0m \u001b[0mpd\u001b[0m\u001b[1;33m.\u001b[0m\u001b[0mread_excel\u001b[0m\u001b[1;33m(\u001b[0m\u001b[1;34m'input/Seguimiento_F4.xlsx'\u001b[0m\u001b[1;33m,\u001b[0m \u001b[0msheet_name\u001b[0m\u001b[1;33m=\u001b[0m\u001b[1;34m'DATA'\u001b[0m\u001b[1;33m,\u001b[0m  \u001b[0mdtype\u001b[0m\u001b[1;33m=\u001b[0m\u001b[1;34m'object'\u001b[0m\u001b[1;33m)\u001b[0m\u001b[1;33m\u001b[0m\u001b[1;33m\u001b[0m\u001b[0m\n\u001b[0m\u001b[0;32m      8\u001b[0m \u001b[0mpath_intermedio\u001b[0m \u001b[1;33m=\u001b[0m \u001b[1;34mf'output/db-pbi/{dt_string}-data_f4-inter.csv'\u001b[0m\u001b[1;33m\u001b[0m\u001b[1;33m\u001b[0m\u001b[0m\n\u001b[0;32m      9\u001b[0m \u001b[0mf4\u001b[0m \u001b[1;33m=\u001b[0m \u001b[0mct\u001b[0m\u001b[1;33m.\u001b[0m\u001b[0mnorm_header\u001b[0m\u001b[1;33m(\u001b[0m\u001b[0mf4\u001b[0m\u001b[1;33m)\u001b[0m\u001b[1;33m\u001b[0m\u001b[1;33m\u001b[0m\u001b[0m\n",
      "\u001b[1;32m~\\Anaconda3\\lib\\site-packages\\pandas\\util\\_decorators.py\u001b[0m in \u001b[0;36mwrapper\u001b[1;34m(*args, **kwargs)\u001b[0m\n\u001b[0;32m    297\u001b[0m                 )\n\u001b[0;32m    298\u001b[0m                 \u001b[0mwarnings\u001b[0m\u001b[1;33m.\u001b[0m\u001b[0mwarn\u001b[0m\u001b[1;33m(\u001b[0m\u001b[0mmsg\u001b[0m\u001b[1;33m,\u001b[0m \u001b[0mFutureWarning\u001b[0m\u001b[1;33m,\u001b[0m \u001b[0mstacklevel\u001b[0m\u001b[1;33m=\u001b[0m\u001b[0mstacklevel\u001b[0m\u001b[1;33m)\u001b[0m\u001b[1;33m\u001b[0m\u001b[1;33m\u001b[0m\u001b[0m\n\u001b[1;32m--> 299\u001b[1;33m             \u001b[1;32mreturn\u001b[0m \u001b[0mfunc\u001b[0m\u001b[1;33m(\u001b[0m\u001b[1;33m*\u001b[0m\u001b[0margs\u001b[0m\u001b[1;33m,\u001b[0m \u001b[1;33m**\u001b[0m\u001b[0mkwargs\u001b[0m\u001b[1;33m)\u001b[0m\u001b[1;33m\u001b[0m\u001b[1;33m\u001b[0m\u001b[0m\n\u001b[0m\u001b[0;32m    300\u001b[0m \u001b[1;33m\u001b[0m\u001b[0m\n\u001b[0;32m    301\u001b[0m         \u001b[1;32mreturn\u001b[0m \u001b[0mwrapper\u001b[0m\u001b[1;33m\u001b[0m\u001b[1;33m\u001b[0m\u001b[0m\n",
      "\u001b[1;32m~\\Anaconda3\\lib\\site-packages\\pandas\\io\\excel\\_base.py\u001b[0m in \u001b[0;36mread_excel\u001b[1;34m(io, sheet_name, header, names, index_col, usecols, squeeze, dtype, engine, converters, true_values, false_values, skiprows, nrows, na_values, keep_default_na, na_filter, verbose, parse_dates, date_parser, thousands, comment, skipfooter, convert_float, mangle_dupe_cols, storage_options)\u001b[0m\n\u001b[0;32m    342\u001b[0m \u001b[1;33m\u001b[0m\u001b[0m\n\u001b[0;32m    343\u001b[0m     \u001b[1;32mtry\u001b[0m\u001b[1;33m:\u001b[0m\u001b[1;33m\u001b[0m\u001b[1;33m\u001b[0m\u001b[0m\n\u001b[1;32m--> 344\u001b[1;33m         data = io.parse(\n\u001b[0m\u001b[0;32m    345\u001b[0m             \u001b[0msheet_name\u001b[0m\u001b[1;33m=\u001b[0m\u001b[0msheet_name\u001b[0m\u001b[1;33m,\u001b[0m\u001b[1;33m\u001b[0m\u001b[1;33m\u001b[0m\u001b[0m\n\u001b[0;32m    346\u001b[0m             \u001b[0mheader\u001b[0m\u001b[1;33m=\u001b[0m\u001b[0mheader\u001b[0m\u001b[1;33m,\u001b[0m\u001b[1;33m\u001b[0m\u001b[1;33m\u001b[0m\u001b[0m\n",
      "\u001b[1;32m~\\Anaconda3\\lib\\site-packages\\pandas\\io\\excel\\_base.py\u001b[0m in \u001b[0;36mparse\u001b[1;34m(self, sheet_name, header, names, index_col, usecols, squeeze, converters, true_values, false_values, skiprows, nrows, na_values, parse_dates, date_parser, thousands, comment, skipfooter, convert_float, mangle_dupe_cols, **kwds)\u001b[0m\n\u001b[0;32m   1168\u001b[0m             \u001b[0mDataFrame\u001b[0m \u001b[1;32mfrom\u001b[0m \u001b[0mthe\u001b[0m \u001b[0mpassed\u001b[0m \u001b[1;32min\u001b[0m \u001b[0mExcel\u001b[0m \u001b[0mfile\u001b[0m\u001b[1;33m.\u001b[0m\u001b[1;33m\u001b[0m\u001b[1;33m\u001b[0m\u001b[0m\n\u001b[0;32m   1169\u001b[0m         \"\"\"\n\u001b[1;32m-> 1170\u001b[1;33m         return self._reader.parse(\n\u001b[0m\u001b[0;32m   1171\u001b[0m             \u001b[0msheet_name\u001b[0m\u001b[1;33m=\u001b[0m\u001b[0msheet_name\u001b[0m\u001b[1;33m,\u001b[0m\u001b[1;33m\u001b[0m\u001b[1;33m\u001b[0m\u001b[0m\n\u001b[0;32m   1172\u001b[0m             \u001b[0mheader\u001b[0m\u001b[1;33m=\u001b[0m\u001b[0mheader\u001b[0m\u001b[1;33m,\u001b[0m\u001b[1;33m\u001b[0m\u001b[1;33m\u001b[0m\u001b[0m\n",
      "\u001b[1;32m~\\Anaconda3\\lib\\site-packages\\pandas\\io\\excel\\_base.py\u001b[0m in \u001b[0;36mparse\u001b[1;34m(self, sheet_name, header, names, index_col, usecols, squeeze, dtype, true_values, false_values, skiprows, nrows, na_values, verbose, parse_dates, date_parser, thousands, comment, skipfooter, convert_float, mangle_dupe_cols, **kwds)\u001b[0m\n\u001b[0;32m    490\u001b[0m                 \u001b[0msheet\u001b[0m \u001b[1;33m=\u001b[0m \u001b[0mself\u001b[0m\u001b[1;33m.\u001b[0m\u001b[0mget_sheet_by_index\u001b[0m\u001b[1;33m(\u001b[0m\u001b[0masheetname\u001b[0m\u001b[1;33m)\u001b[0m\u001b[1;33m\u001b[0m\u001b[1;33m\u001b[0m\u001b[0m\n\u001b[0;32m    491\u001b[0m \u001b[1;33m\u001b[0m\u001b[0m\n\u001b[1;32m--> 492\u001b[1;33m             \u001b[0mdata\u001b[0m \u001b[1;33m=\u001b[0m \u001b[0mself\u001b[0m\u001b[1;33m.\u001b[0m\u001b[0mget_sheet_data\u001b[0m\u001b[1;33m(\u001b[0m\u001b[0msheet\u001b[0m\u001b[1;33m,\u001b[0m \u001b[0mconvert_float\u001b[0m\u001b[1;33m)\u001b[0m\u001b[1;33m\u001b[0m\u001b[1;33m\u001b[0m\u001b[0m\n\u001b[0m\u001b[0;32m    493\u001b[0m             \u001b[0musecols\u001b[0m \u001b[1;33m=\u001b[0m \u001b[0mmaybe_convert_usecols\u001b[0m\u001b[1;33m(\u001b[0m\u001b[0musecols\u001b[0m\u001b[1;33m)\u001b[0m\u001b[1;33m\u001b[0m\u001b[1;33m\u001b[0m\u001b[0m\n\u001b[0;32m    494\u001b[0m \u001b[1;33m\u001b[0m\u001b[0m\n",
      "\u001b[1;32m~\\Anaconda3\\lib\\site-packages\\pandas\\io\\excel\\_openpyxl.py\u001b[0m in \u001b[0;36mget_sheet_data\u001b[1;34m(self, sheet, convert_float)\u001b[0m\n\u001b[0;32m    546\u001b[0m         \u001b[0mdata\u001b[0m\u001b[1;33m:\u001b[0m \u001b[0mList\u001b[0m\u001b[1;33m[\u001b[0m\u001b[0mList\u001b[0m\u001b[1;33m[\u001b[0m\u001b[0mScalar\u001b[0m\u001b[1;33m]\u001b[0m\u001b[1;33m]\u001b[0m \u001b[1;33m=\u001b[0m \u001b[1;33m[\u001b[0m\u001b[1;33m]\u001b[0m\u001b[1;33m\u001b[0m\u001b[1;33m\u001b[0m\u001b[0m\n\u001b[0;32m    547\u001b[0m         \u001b[0mlast_row_with_data\u001b[0m \u001b[1;33m=\u001b[0m \u001b[1;33m-\u001b[0m\u001b[1;36m1\u001b[0m\u001b[1;33m\u001b[0m\u001b[1;33m\u001b[0m\u001b[0m\n\u001b[1;32m--> 548\u001b[1;33m         \u001b[1;32mfor\u001b[0m \u001b[0mrow_number\u001b[0m\u001b[1;33m,\u001b[0m \u001b[0mrow\u001b[0m \u001b[1;32min\u001b[0m \u001b[0menumerate\u001b[0m\u001b[1;33m(\u001b[0m\u001b[0msheet\u001b[0m\u001b[1;33m.\u001b[0m\u001b[0mrows\u001b[0m\u001b[1;33m)\u001b[0m\u001b[1;33m:\u001b[0m\u001b[1;33m\u001b[0m\u001b[1;33m\u001b[0m\u001b[0m\n\u001b[0m\u001b[0;32m    549\u001b[0m             \u001b[0mconverted_row\u001b[0m \u001b[1;33m=\u001b[0m \u001b[1;33m[\u001b[0m\u001b[0mself\u001b[0m\u001b[1;33m.\u001b[0m\u001b[0m_convert_cell\u001b[0m\u001b[1;33m(\u001b[0m\u001b[0mcell\u001b[0m\u001b[1;33m,\u001b[0m \u001b[0mconvert_float\u001b[0m\u001b[1;33m)\u001b[0m \u001b[1;32mfor\u001b[0m \u001b[0mcell\u001b[0m \u001b[1;32min\u001b[0m \u001b[0mrow\u001b[0m\u001b[1;33m]\u001b[0m\u001b[1;33m\u001b[0m\u001b[1;33m\u001b[0m\u001b[0m\n\u001b[0;32m    550\u001b[0m             \u001b[1;32mif\u001b[0m \u001b[1;32mnot\u001b[0m \u001b[0mall\u001b[0m\u001b[1;33m(\u001b[0m\u001b[0mcell\u001b[0m \u001b[1;33m==\u001b[0m \u001b[1;34m\"\"\u001b[0m \u001b[1;32mfor\u001b[0m \u001b[0mcell\u001b[0m \u001b[1;32min\u001b[0m \u001b[0mconverted_row\u001b[0m\u001b[1;33m)\u001b[0m\u001b[1;33m:\u001b[0m\u001b[1;33m\u001b[0m\u001b[1;33m\u001b[0m\u001b[0m\n",
      "\u001b[1;32m~\\Anaconda3\\lib\\site-packages\\openpyxl\\worksheet\\_read_only.py\u001b[0m in \u001b[0;36m_cells_by_row\u001b[1;34m(self, min_col, min_row, max_col, max_row, values_only)\u001b[0m\n\u001b[0;32m     77\u001b[0m                                  \u001b[0mdata_only\u001b[0m\u001b[1;33m=\u001b[0m\u001b[0mself\u001b[0m\u001b[1;33m.\u001b[0m\u001b[0mparent\u001b[0m\u001b[1;33m.\u001b[0m\u001b[0mdata_only\u001b[0m\u001b[1;33m,\u001b[0m \u001b[0mepoch\u001b[0m\u001b[1;33m=\u001b[0m\u001b[0mself\u001b[0m\u001b[1;33m.\u001b[0m\u001b[0mparent\u001b[0m\u001b[1;33m.\u001b[0m\u001b[0mepoch\u001b[0m\u001b[1;33m,\u001b[0m\u001b[1;33m\u001b[0m\u001b[1;33m\u001b[0m\u001b[0m\n\u001b[0;32m     78\u001b[0m                                  date_formats=self.parent._date_formats)\n\u001b[1;32m---> 79\u001b[1;33m         \u001b[1;32mfor\u001b[0m \u001b[0midx\u001b[0m\u001b[1;33m,\u001b[0m \u001b[0mrow\u001b[0m \u001b[1;32min\u001b[0m \u001b[0mparser\u001b[0m\u001b[1;33m.\u001b[0m\u001b[0mparse\u001b[0m\u001b[1;33m(\u001b[0m\u001b[1;33m)\u001b[0m\u001b[1;33m:\u001b[0m\u001b[1;33m\u001b[0m\u001b[1;33m\u001b[0m\u001b[0m\n\u001b[0m\u001b[0;32m     80\u001b[0m             \u001b[1;32mif\u001b[0m \u001b[0mmax_row\u001b[0m \u001b[1;32mis\u001b[0m \u001b[1;32mnot\u001b[0m \u001b[1;32mNone\u001b[0m \u001b[1;32mand\u001b[0m \u001b[0midx\u001b[0m \u001b[1;33m>\u001b[0m \u001b[0mmax_row\u001b[0m\u001b[1;33m:\u001b[0m\u001b[1;33m\u001b[0m\u001b[1;33m\u001b[0m\u001b[0m\n\u001b[0;32m     81\u001b[0m                 \u001b[1;32mbreak\u001b[0m\u001b[1;33m\u001b[0m\u001b[1;33m\u001b[0m\u001b[0m\n",
      "\u001b[1;32m~\\Anaconda3\\lib\\site-packages\\openpyxl\\worksheet\\_reader.py\u001b[0m in \u001b[0;36mparse\u001b[1;34m(self)\u001b[0m\n\u001b[0;32m    142\u001b[0m         \u001b[0mit\u001b[0m \u001b[1;33m=\u001b[0m \u001b[0miterparse\u001b[0m\u001b[1;33m(\u001b[0m\u001b[0mself\u001b[0m\u001b[1;33m.\u001b[0m\u001b[0msource\u001b[0m\u001b[1;33m)\u001b[0m \u001b[1;31m# add a finaliser to close the source when this becomes possible\u001b[0m\u001b[1;33m\u001b[0m\u001b[1;33m\u001b[0m\u001b[0m\n\u001b[0;32m    143\u001b[0m \u001b[1;33m\u001b[0m\u001b[0m\n\u001b[1;32m--> 144\u001b[1;33m         \u001b[1;32mfor\u001b[0m \u001b[0m_\u001b[0m\u001b[1;33m,\u001b[0m \u001b[0melement\u001b[0m \u001b[1;32min\u001b[0m \u001b[0mit\u001b[0m\u001b[1;33m:\u001b[0m\u001b[1;33m\u001b[0m\u001b[1;33m\u001b[0m\u001b[0m\n\u001b[0m\u001b[0;32m    145\u001b[0m             \u001b[0mtag_name\u001b[0m \u001b[1;33m=\u001b[0m \u001b[0melement\u001b[0m\u001b[1;33m.\u001b[0m\u001b[0mtag\u001b[0m\u001b[1;33m\u001b[0m\u001b[1;33m\u001b[0m\u001b[0m\n\u001b[0;32m    146\u001b[0m             \u001b[1;32mif\u001b[0m \u001b[0mtag_name\u001b[0m \u001b[1;32min\u001b[0m \u001b[0mdispatcher\u001b[0m\u001b[1;33m:\u001b[0m\u001b[1;33m\u001b[0m\u001b[1;33m\u001b[0m\u001b[0m\n",
      "\u001b[1;32m~\\Anaconda3\\lib\\xml\\etree\\ElementTree.py\u001b[0m in \u001b[0;36miterator\u001b[1;34m()\u001b[0m\n\u001b[0;32m   1227\u001b[0m                 \u001b[1;32myield\u001b[0m \u001b[1;32mfrom\u001b[0m \u001b[0mpullparser\u001b[0m\u001b[1;33m.\u001b[0m\u001b[0mread_events\u001b[0m\u001b[1;33m(\u001b[0m\u001b[1;33m)\u001b[0m\u001b[1;33m\u001b[0m\u001b[1;33m\u001b[0m\u001b[0m\n\u001b[0;32m   1228\u001b[0m                 \u001b[1;31m# load event buffer\u001b[0m\u001b[1;33m\u001b[0m\u001b[1;33m\u001b[0m\u001b[1;33m\u001b[0m\u001b[0m\n\u001b[1;32m-> 1229\u001b[1;33m                 \u001b[0mdata\u001b[0m \u001b[1;33m=\u001b[0m \u001b[0msource\u001b[0m\u001b[1;33m.\u001b[0m\u001b[0mread\u001b[0m\u001b[1;33m(\u001b[0m\u001b[1;36m16\u001b[0m \u001b[1;33m*\u001b[0m \u001b[1;36m1024\u001b[0m\u001b[1;33m)\u001b[0m\u001b[1;33m\u001b[0m\u001b[1;33m\u001b[0m\u001b[0m\n\u001b[0m\u001b[0;32m   1230\u001b[0m                 \u001b[1;32mif\u001b[0m \u001b[1;32mnot\u001b[0m \u001b[0mdata\u001b[0m\u001b[1;33m:\u001b[0m\u001b[1;33m\u001b[0m\u001b[1;33m\u001b[0m\u001b[0m\n\u001b[0;32m   1231\u001b[0m                     \u001b[1;32mbreak\u001b[0m\u001b[1;33m\u001b[0m\u001b[1;33m\u001b[0m\u001b[0m\n",
      "\u001b[1;32m~\\Anaconda3\\lib\\zipfile.py\u001b[0m in \u001b[0;36mread\u001b[1;34m(self, n)\u001b[0m\n\u001b[0;32m    938\u001b[0m         \u001b[0mself\u001b[0m\u001b[1;33m.\u001b[0m\u001b[0m_offset\u001b[0m \u001b[1;33m=\u001b[0m \u001b[1;36m0\u001b[0m\u001b[1;33m\u001b[0m\u001b[1;33m\u001b[0m\u001b[0m\n\u001b[0;32m    939\u001b[0m         \u001b[1;32mwhile\u001b[0m \u001b[0mn\u001b[0m \u001b[1;33m>\u001b[0m \u001b[1;36m0\u001b[0m \u001b[1;32mand\u001b[0m \u001b[1;32mnot\u001b[0m \u001b[0mself\u001b[0m\u001b[1;33m.\u001b[0m\u001b[0m_eof\u001b[0m\u001b[1;33m:\u001b[0m\u001b[1;33m\u001b[0m\u001b[1;33m\u001b[0m\u001b[0m\n\u001b[1;32m--> 940\u001b[1;33m             \u001b[0mdata\u001b[0m \u001b[1;33m=\u001b[0m \u001b[0mself\u001b[0m\u001b[1;33m.\u001b[0m\u001b[0m_read1\u001b[0m\u001b[1;33m(\u001b[0m\u001b[0mn\u001b[0m\u001b[1;33m)\u001b[0m\u001b[1;33m\u001b[0m\u001b[1;33m\u001b[0m\u001b[0m\n\u001b[0m\u001b[0;32m    941\u001b[0m             \u001b[1;32mif\u001b[0m \u001b[0mn\u001b[0m \u001b[1;33m<\u001b[0m \u001b[0mlen\u001b[0m\u001b[1;33m(\u001b[0m\u001b[0mdata\u001b[0m\u001b[1;33m)\u001b[0m\u001b[1;33m:\u001b[0m\u001b[1;33m\u001b[0m\u001b[1;33m\u001b[0m\u001b[0m\n\u001b[0;32m    942\u001b[0m                 \u001b[0mself\u001b[0m\u001b[1;33m.\u001b[0m\u001b[0m_readbuffer\u001b[0m \u001b[1;33m=\u001b[0m \u001b[0mdata\u001b[0m\u001b[1;33m\u001b[0m\u001b[1;33m\u001b[0m\u001b[0m\n",
      "\u001b[1;32m~\\Anaconda3\\lib\\zipfile.py\u001b[0m in \u001b[0;36m_read1\u001b[1;34m(self, n)\u001b[0m\n\u001b[0;32m   1014\u001b[0m         \u001b[1;32melif\u001b[0m \u001b[0mself\u001b[0m\u001b[1;33m.\u001b[0m\u001b[0m_compress_type\u001b[0m \u001b[1;33m==\u001b[0m \u001b[0mZIP_DEFLATED\u001b[0m\u001b[1;33m:\u001b[0m\u001b[1;33m\u001b[0m\u001b[1;33m\u001b[0m\u001b[0m\n\u001b[0;32m   1015\u001b[0m             \u001b[0mn\u001b[0m \u001b[1;33m=\u001b[0m \u001b[0mmax\u001b[0m\u001b[1;33m(\u001b[0m\u001b[0mn\u001b[0m\u001b[1;33m,\u001b[0m \u001b[0mself\u001b[0m\u001b[1;33m.\u001b[0m\u001b[0mMIN_READ_SIZE\u001b[0m\u001b[1;33m)\u001b[0m\u001b[1;33m\u001b[0m\u001b[1;33m\u001b[0m\u001b[0m\n\u001b[1;32m-> 1016\u001b[1;33m             \u001b[0mdata\u001b[0m \u001b[1;33m=\u001b[0m \u001b[0mself\u001b[0m\u001b[1;33m.\u001b[0m\u001b[0m_decompressor\u001b[0m\u001b[1;33m.\u001b[0m\u001b[0mdecompress\u001b[0m\u001b[1;33m(\u001b[0m\u001b[0mdata\u001b[0m\u001b[1;33m,\u001b[0m \u001b[0mn\u001b[0m\u001b[1;33m)\u001b[0m\u001b[1;33m\u001b[0m\u001b[1;33m\u001b[0m\u001b[0m\n\u001b[0m\u001b[0;32m   1017\u001b[0m             self._eof = (self._decompressor.eof or\n\u001b[0;32m   1018\u001b[0m                          \u001b[0mself\u001b[0m\u001b[1;33m.\u001b[0m\u001b[0m_compress_left\u001b[0m \u001b[1;33m<=\u001b[0m \u001b[1;36m0\u001b[0m \u001b[1;32mand\u001b[0m\u001b[1;33m\u001b[0m\u001b[1;33m\u001b[0m\u001b[0m\n",
      "\u001b[1;31mKeyboardInterrupt\u001b[0m: "
     ]
    }
   ],
   "metadata": {}
  },
  {
   "cell_type": "code",
   "execution_count": 37,
   "source": [
    "path_intermedio = f'output/db-pbi/210812-1604-data_f4-inter.csv'\r\n",
    "f4 = pd.read_csv(path_intermedio, sep=';', dtype='object')"
   ],
   "outputs": [],
   "metadata": {}
  },
  {
   "cell_type": "code",
   "execution_count": 38,
   "source": [
    "f4.columns"
   ],
   "outputs": [
    {
     "output_type": "execute_result",
     "data": {
      "text/plain": [
       "Index(['nro_red_inventario', 'local', 'desc_local', 'estado', 'tipo_redinv',\n",
       "       'fecha_creacion', 'usuario_creacion', 'fecha_reserva',\n",
       "       'usuario_reserva', 'fecha_envio', 'usuario_envio', 'destino',\n",
       "       'rut_destino', 'centro_de_costos', 'desccentro_e_costo', 'linea',\n",
       "       'descripcion_linea', 'subclase', 'descripcion_subclase', 'nro_producto',\n",
       "       'descripcion_producto', 'upc', 'cantidad', 'precio_vta', 'precio_costo',\n",
       "       'total_precio_vta', 'total_precio_costo', 'fecha_corte',\n",
       "       'posible_causa', 'aplica', 'fecha_inventario', 'validar', 'validar_2',\n",
       "       'observacion', 'grupo_tipo_f4', 'grupo'],\n",
       "      dtype='object')"
      ]
     },
     "metadata": {},
     "execution_count": 38
    }
   ],
   "metadata": {}
  },
  {
   "cell_type": "code",
   "execution_count": 39,
   "source": [
    "req_lista = ['nro_red_inventario', 'local', 'desc_local', 'estado', 'tipo_redinv',\r\n",
    "       'fecha_creacion', 'usuario_creacion', 'fecha_reserva',\r\n",
    "       'usuario_reserva', 'fecha_envio', 'usuario_envio', 'destino',\r\n",
    "       'rut_destino', 'centro_de_costos', 'desccentro_e_costo', 'linea',\r\n",
    "       'descripcion_linea', 'subclase', 'descripcion_subclase', 'nro_producto',\r\n",
    "       'descripcion_producto', 'upc', 'cantidad', 'precio_vta', 'precio_costo',\r\n",
    "       'total_precio_vta', 'total_precio_costo', 'fecha_corte',\r\n",
    "       'posible_causa', 'fecha_inventario', 'observacion', 'grupo_tipo_f4', 'grupo']\r\n",
    "\r\n",
    "text_lista = ['desc_local', 'estado', 'tipo_redinv', 'usuario_creacion', 'usuario_reserva', \r\n",
    "    'usuario_envio', 'destino', 'desccentro_e_costo', 'linea','descripcion_linea', 'subclase', \r\n",
    "    'descripcion_subclase',  'descripcion_producto', 'posible_causa',  'observacion', 'grupo_tipo_f4', 'grupo']\r\n",
    "\r\n",
    "fnum_lista = ['nro_red_inventario',  'local',  'rut_destino', 'centro_de_costos', 'nro_producto', 'upc', 'cantidad', ]\r\n",
    "\r\n",
    "fechas = [ 'fecha_creacion', 'fecha_reserva', 'fecha_envio', 'fecha_corte']\r\n",
    "\r\n",
    "# 'fecha_inventario' \r\n",
    "\r\n",
    "# 'validar', 'validar_2'\r\n",
    "\r\n",
    "# 'precio_vta', 'precio_costo', 'total_precio_vta', 'total_precio_costo',"
   ],
   "outputs": [],
   "metadata": {}
  },
  {
   "cell_type": "code",
   "execution_count": 40,
   "source": [
    "f4 = drop_except(f4, req_lista)"
   ],
   "outputs": [],
   "metadata": {}
  },
  {
   "cell_type": "code",
   "execution_count": 41,
   "source": [
    "print('Limpiando texto en columnas')\r\n",
    "f4.loc[:, text_lista] = f4.loc[:, text_lista].apply(ct.clean_str)\r\n",
    "\r\n",
    "print('Convirtiendo a número parte 1')\r\n",
    "f4.loc[:, fnum_lista] = f4.loc[:, fnum_lista].apply(ct.clean_fnum)"
   ],
   "outputs": [
    {
     "output_type": "stream",
     "name": "stdout",
     "text": [
      "Limpiando texto en columnas\n",
      "Convirtiendo a número parte 1\n"
     ]
    }
   ],
   "metadata": {}
  },
  {
   "cell_type": "code",
   "execution_count": 12,
   "source": [
    "def replace_date(col):\r\n",
    "    col = col.str.replace('ene', '01')\r\n",
    "    col = col.str.replace('feb', '02')\r\n",
    "    col = col.str.replace('mar', '03')\r\n",
    "    col = col.str.replace('abr', '04')\r\n",
    "    col = col.str.replace('may', '05')\r\n",
    "    col = col.str.replace('jun', '06')\r\n",
    "    col = col.str.replace('jul', '07')\r\n",
    "    col = col.str.replace('ago', '08')\r\n",
    "    col = col.str.replace('sep', '09')\r\n",
    "    col = col.str.replace('oct', '10')\r\n",
    "    col = col.str.replace('nov', '11')\r\n",
    "    col = col.str.replace('dic', '12')\r\n",
    "    return col "
   ],
   "outputs": [],
   "metadata": {}
  },
  {
   "cell_type": "code",
   "execution_count": 13,
   "source": [
    "def na_date(col):\r\n",
    "    col.fillna('01-01-1990', inplace = True)\r\n",
    "    return col "
   ],
   "outputs": [],
   "metadata": {}
  },
  {
   "cell_type": "code",
   "execution_count": 14,
   "source": [
    "def to_date_format1(col):\r\n",
    "    col = pd.to_datetime(col, format='%Y-%m-%d')\r\n",
    "    return col "
   ],
   "outputs": [],
   "metadata": {}
  },
  {
   "cell_type": "code",
   "execution_count": 14,
   "source": [
    "def to_date_format2(col):\r\n",
    "    col = pd.to_datetime(col, format='%d-%m-%Y')\r\n",
    "    return col "
   ],
   "outputs": [],
   "metadata": {}
  },
  {
   "cell_type": "code",
   "execution_count": 15,
   "source": [
    "f4.loc[:, fechas] = f4.loc[:, fechas].apply(na_date)"
   ],
   "outputs": [],
   "metadata": {}
  },
  {
   "cell_type": "code",
   "execution_count": 16,
   "source": [
    "f4.loc[:, fechas] = f4.loc[:, fechas].apply(replace_date)"
   ],
   "outputs": [],
   "metadata": {}
  },
  {
   "cell_type": "code",
   "execution_count": 17,
   "source": [
    "f4aux = f4.copy()"
   ],
   "outputs": [],
   "metadata": {}
  },
  {
   "cell_type": "code",
   "execution_count": null,
   "source": [
    "f4.fecha_creacion = pd.to_datetime(f4.fecha_creacion)\r\n",
    "f4.fecha_reserva = pd.to_datetime(f4.fecha_reserva)\r\n",
    "f4.fecha_envio = pd.to_datetime(f4.fecha_envio)\r\n",
    "f4.fecha_corte = pd.to_datetime(f4.fecha_corte)\r\n",
    "f4.fecha_inventario = pd.to_datetime(f4.fecha_inventario)"
   ],
   "outputs": [],
   "metadata": {}
  },
  {
   "cell_type": "code",
   "execution_count": 39,
   "source": [
    "f4.to_csv('output/data_seguimiento_f4.csv', sep=';', index=False)"
   ],
   "outputs": [],
   "metadata": {}
  },
  {
   "cell_type": "markdown",
   "source": [
    "F4 planilla\r\n"
   ],
   "metadata": {}
  },
  {
   "cell_type": "code",
   "execution_count": 7,
   "source": [
    "lista_f4s = []"
   ],
   "outputs": [],
   "metadata": {}
  },
  {
   "cell_type": "code",
   "execution_count": 9,
   "source": [
    "req_lista = ['nro_red_inventario', 'local', 'desc_local', 'estado', 'tipo_redinv',\r\n",
    "       'fecha_creacion', 'usuario_creacion', 'fecha_reserva',\r\n",
    "       'usuario_reserva', 'fecha_envio', 'usuario_envio', 'destino',\r\n",
    "       'rut_destino', 'centro_de_costos', 'desccentro_e_costo', 'linea',\r\n",
    "       'descripcion_linea', 'subclase', 'descripcion_subclase', 'nro_producto',\r\n",
    "       'descripcion_producto', 'upc', 'cantidad', 'precio_vta', 'precio_costo',\r\n",
    "       'total_precio_vta', 'total_precio_costo']"
   ],
   "outputs": [],
   "metadata": {}
  },
  {
   "cell_type": "code",
   "execution_count": 31,
   "source": [
    "cua = pd.read_csv('input/f4/210823-2208-f4-output-23.csv', sep=';', dtype='object')\r\n",
    "\r\n",
    "cua = drop_except(cua, req_lista)\r\n",
    "\r\n",
    "cua['fecha_corte'] = '2021-08-23'\r\n",
    "\r\n",
    "cua.loc[:, fechas] = cua.loc[:, fechas].apply(na_date)\r\n",
    "cua.loc[:, fechas] = cua.loc[:, fechas].apply(replace_date)\r\n",
    "\r\n",
    "tiendas = ['72', '18', '93', '36', '25', '53', '50', '35', '123', '45', '131', '43', '56', '101', '98', '85',\r\n",
    "'19', '108', '183', '60', '82', '6', '138', '96', '38', '13', '37', '5', '322', '141']\r\n",
    "cd = ['9903', '2000', '9951', '2001', '2002', '9921', '9961', '3000', '9919', '9970', '9905']\r\n",
    "\r\n",
    "cua.loc[cua.local.isin(tiendas), 'grupo'] = 'tienda'\r\n",
    "cua.loc[cua.local.isin(cd), 'grupo'] = 'cd'\r\n",
    "\r\n",
    "cua.loc[cua.local =='9911', 'grupo'] = 'bodega producto en proceso'\r\n",
    "cua.loc[cua.local =='3001', 'grupo'] = 'dvd administrativo'\r\n",
    "cua.loc[cua.local =='3004', 'grupo'] = 'express'\r\n",
    "cua.loc[cua.local =='11', 'grupo'] = 'venta empresa'\r\n",
    "\r\n",
    "cua.loc[cua.local =='99', 'grupo'] = 'administrativo'\r\n",
    "cua.loc[cua.local =='9910', 'grupo'] = 'bodega mavesa'\r\n",
    "\r\n",
    "lista_f4s.append(cua)"
   ],
   "outputs": [],
   "metadata": {}
  },
  {
   "cell_type": "code",
   "execution_count": 22,
   "source": [
    "cua.head()"
   ],
   "outputs": [
    {
     "output_type": "execute_result",
     "data": {
      "text/plain": [
       "  nro_red_inventario local desc_local     estado    tipo_redinv  \\\n",
       "0           46056474   108       suba  reservado   dado de baja   \n",
       "1           46056474   108       suba  reservado   dado de baja   \n",
       "2           46056474   108       suba  reservado   dado de baja   \n",
       "3           46056474   108       suba  reservado   dado de baja   \n",
       "4           46056177    93    cacique    enviado  gasto externo   \n",
       "\n",
       "  fecha_creacion               usuario_creacion fecha_reserva  \\\n",
       "0     02-01-2021  miryam nelsy martinez borrero    02-01-2021   \n",
       "1     02-01-2021  miryam nelsy martinez borrero    02-01-2021   \n",
       "2     02-01-2021  miryam nelsy martinez borrero    02-01-2021   \n",
       "3     02-01-2021  miryam nelsy martinez borrero    02-01-2021   \n",
       "4     02-01-2021       yesenia cespedes pereira    02-01-2021   \n",
       "\n",
       "                 usuario_reserva fecha_envio             usuario_envio  \\\n",
       "0  miryam nelsy martinez borrero  01-01-1990                       NaN   \n",
       "1  miryam nelsy martinez borrero  01-01-1990                       NaN   \n",
       "2  miryam nelsy martinez borrero  01-01-1990                       NaN   \n",
       "3  miryam nelsy martinez borrero  01-01-1990                       NaN   \n",
       "4       yesenia cespedes pereira  02-01-2021  yesenia cespedes pereira   \n",
       "\n",
       "          destino rut_destino centro_de_costos desccentro_e_costo linea  \\\n",
       "0  falabella suba  9000174478             2320     cc tienda suba   j17   \n",
       "1  falabella suba  9000174478             2320     cc tienda suba   j09   \n",
       "2  falabella suba  9000174478             2320     cc tienda suba   j09   \n",
       "3  falabella suba  9000174478             2320     cc tienda suba   j09   \n",
       "4       falabella  9000174478            41301                mkp   j11   \n",
       "\n",
       "  descripcion_linea   subclase   descripcion_subclase nro_producto  \\\n",
       "0           regalos  j17010203      candelabro vidrio    881742585   \n",
       "1             ninos  j09092005  rc drones y voladores    881252920   \n",
       "2             ninos  j09130102     lanzadores de aire      3801231   \n",
       "3             ninos  j09092005  rc drones y voladores    880898904   \n",
       "4     electro hogar  j11010202  plasmas 50 o mas pulg      5065102   \n",
       "\n",
       "                                descripcion_producto            upc cantidad  \\\n",
       "0                            candelabro plata 8x30cm  2998817425858        1   \n",
       "1                                   drone camara vga  2998812529209        1   \n",
       "2                                      nerfzombienai   630509733064        1   \n",
       "3                                  drone con luz bcc  2998808989048        1   \n",
       "4  televisor lg 50 pulgadas 50um7300 smart tv uhd 4k  2005065102001        1   \n",
       "\n",
       "  precio_vta precio_costo total_precio_vta total_precio_costo fecha_corte  \\\n",
       "0      19990         8304            19990               8304  2021-08-04   \n",
       "1     299990        86711           299990              86711  2021-08-04   \n",
       "2     129900        73435           129900              73435  2021-08-04   \n",
       "3     149990        59080           149990              59080  2021-08-04   \n",
       "4    2199900      2199900          2199900            2199900  2021-08-04   \n",
       "\n",
       "    grupo  \n",
       "0  tienda  \n",
       "1  tienda  \n",
       "2  tienda  \n",
       "3  tienda  \n",
       "4  tienda  "
      ],
      "text/html": [
       "<div>\n",
       "<style scoped>\n",
       "    .dataframe tbody tr th:only-of-type {\n",
       "        vertical-align: middle;\n",
       "    }\n",
       "\n",
       "    .dataframe tbody tr th {\n",
       "        vertical-align: top;\n",
       "    }\n",
       "\n",
       "    .dataframe thead th {\n",
       "        text-align: right;\n",
       "    }\n",
       "</style>\n",
       "<table border=\"1\" class=\"dataframe\">\n",
       "  <thead>\n",
       "    <tr style=\"text-align: right;\">\n",
       "      <th></th>\n",
       "      <th>nro_red_inventario</th>\n",
       "      <th>local</th>\n",
       "      <th>desc_local</th>\n",
       "      <th>estado</th>\n",
       "      <th>tipo_redinv</th>\n",
       "      <th>fecha_creacion</th>\n",
       "      <th>usuario_creacion</th>\n",
       "      <th>fecha_reserva</th>\n",
       "      <th>usuario_reserva</th>\n",
       "      <th>fecha_envio</th>\n",
       "      <th>usuario_envio</th>\n",
       "      <th>destino</th>\n",
       "      <th>rut_destino</th>\n",
       "      <th>centro_de_costos</th>\n",
       "      <th>desccentro_e_costo</th>\n",
       "      <th>linea</th>\n",
       "      <th>descripcion_linea</th>\n",
       "      <th>subclase</th>\n",
       "      <th>descripcion_subclase</th>\n",
       "      <th>nro_producto</th>\n",
       "      <th>descripcion_producto</th>\n",
       "      <th>upc</th>\n",
       "      <th>cantidad</th>\n",
       "      <th>precio_vta</th>\n",
       "      <th>precio_costo</th>\n",
       "      <th>total_precio_vta</th>\n",
       "      <th>total_precio_costo</th>\n",
       "      <th>fecha_corte</th>\n",
       "      <th>grupo</th>\n",
       "    </tr>\n",
       "  </thead>\n",
       "  <tbody>\n",
       "    <tr>\n",
       "      <th>0</th>\n",
       "      <td>46056474</td>\n",
       "      <td>108</td>\n",
       "      <td>suba</td>\n",
       "      <td>reservado</td>\n",
       "      <td>dado de baja</td>\n",
       "      <td>02-01-2021</td>\n",
       "      <td>miryam nelsy martinez borrero</td>\n",
       "      <td>02-01-2021</td>\n",
       "      <td>miryam nelsy martinez borrero</td>\n",
       "      <td>01-01-1990</td>\n",
       "      <td>NaN</td>\n",
       "      <td>falabella suba</td>\n",
       "      <td>9000174478</td>\n",
       "      <td>2320</td>\n",
       "      <td>cc tienda suba</td>\n",
       "      <td>j17</td>\n",
       "      <td>regalos</td>\n",
       "      <td>j17010203</td>\n",
       "      <td>candelabro vidrio</td>\n",
       "      <td>881742585</td>\n",
       "      <td>candelabro plata 8x30cm</td>\n",
       "      <td>2998817425858</td>\n",
       "      <td>1</td>\n",
       "      <td>19990</td>\n",
       "      <td>8304</td>\n",
       "      <td>19990</td>\n",
       "      <td>8304</td>\n",
       "      <td>2021-08-04</td>\n",
       "      <td>tienda</td>\n",
       "    </tr>\n",
       "    <tr>\n",
       "      <th>1</th>\n",
       "      <td>46056474</td>\n",
       "      <td>108</td>\n",
       "      <td>suba</td>\n",
       "      <td>reservado</td>\n",
       "      <td>dado de baja</td>\n",
       "      <td>02-01-2021</td>\n",
       "      <td>miryam nelsy martinez borrero</td>\n",
       "      <td>02-01-2021</td>\n",
       "      <td>miryam nelsy martinez borrero</td>\n",
       "      <td>01-01-1990</td>\n",
       "      <td>NaN</td>\n",
       "      <td>falabella suba</td>\n",
       "      <td>9000174478</td>\n",
       "      <td>2320</td>\n",
       "      <td>cc tienda suba</td>\n",
       "      <td>j09</td>\n",
       "      <td>ninos</td>\n",
       "      <td>j09092005</td>\n",
       "      <td>rc drones y voladores</td>\n",
       "      <td>881252920</td>\n",
       "      <td>drone camara vga</td>\n",
       "      <td>2998812529209</td>\n",
       "      <td>1</td>\n",
       "      <td>299990</td>\n",
       "      <td>86711</td>\n",
       "      <td>299990</td>\n",
       "      <td>86711</td>\n",
       "      <td>2021-08-04</td>\n",
       "      <td>tienda</td>\n",
       "    </tr>\n",
       "    <tr>\n",
       "      <th>2</th>\n",
       "      <td>46056474</td>\n",
       "      <td>108</td>\n",
       "      <td>suba</td>\n",
       "      <td>reservado</td>\n",
       "      <td>dado de baja</td>\n",
       "      <td>02-01-2021</td>\n",
       "      <td>miryam nelsy martinez borrero</td>\n",
       "      <td>02-01-2021</td>\n",
       "      <td>miryam nelsy martinez borrero</td>\n",
       "      <td>01-01-1990</td>\n",
       "      <td>NaN</td>\n",
       "      <td>falabella suba</td>\n",
       "      <td>9000174478</td>\n",
       "      <td>2320</td>\n",
       "      <td>cc tienda suba</td>\n",
       "      <td>j09</td>\n",
       "      <td>ninos</td>\n",
       "      <td>j09130102</td>\n",
       "      <td>lanzadores de aire</td>\n",
       "      <td>3801231</td>\n",
       "      <td>nerfzombienai</td>\n",
       "      <td>630509733064</td>\n",
       "      <td>1</td>\n",
       "      <td>129900</td>\n",
       "      <td>73435</td>\n",
       "      <td>129900</td>\n",
       "      <td>73435</td>\n",
       "      <td>2021-08-04</td>\n",
       "      <td>tienda</td>\n",
       "    </tr>\n",
       "    <tr>\n",
       "      <th>3</th>\n",
       "      <td>46056474</td>\n",
       "      <td>108</td>\n",
       "      <td>suba</td>\n",
       "      <td>reservado</td>\n",
       "      <td>dado de baja</td>\n",
       "      <td>02-01-2021</td>\n",
       "      <td>miryam nelsy martinez borrero</td>\n",
       "      <td>02-01-2021</td>\n",
       "      <td>miryam nelsy martinez borrero</td>\n",
       "      <td>01-01-1990</td>\n",
       "      <td>NaN</td>\n",
       "      <td>falabella suba</td>\n",
       "      <td>9000174478</td>\n",
       "      <td>2320</td>\n",
       "      <td>cc tienda suba</td>\n",
       "      <td>j09</td>\n",
       "      <td>ninos</td>\n",
       "      <td>j09092005</td>\n",
       "      <td>rc drones y voladores</td>\n",
       "      <td>880898904</td>\n",
       "      <td>drone con luz bcc</td>\n",
       "      <td>2998808989048</td>\n",
       "      <td>1</td>\n",
       "      <td>149990</td>\n",
       "      <td>59080</td>\n",
       "      <td>149990</td>\n",
       "      <td>59080</td>\n",
       "      <td>2021-08-04</td>\n",
       "      <td>tienda</td>\n",
       "    </tr>\n",
       "    <tr>\n",
       "      <th>4</th>\n",
       "      <td>46056177</td>\n",
       "      <td>93</td>\n",
       "      <td>cacique</td>\n",
       "      <td>enviado</td>\n",
       "      <td>gasto externo</td>\n",
       "      <td>02-01-2021</td>\n",
       "      <td>yesenia cespedes pereira</td>\n",
       "      <td>02-01-2021</td>\n",
       "      <td>yesenia cespedes pereira</td>\n",
       "      <td>02-01-2021</td>\n",
       "      <td>yesenia cespedes pereira</td>\n",
       "      <td>falabella</td>\n",
       "      <td>9000174478</td>\n",
       "      <td>41301</td>\n",
       "      <td>mkp</td>\n",
       "      <td>j11</td>\n",
       "      <td>electro hogar</td>\n",
       "      <td>j11010202</td>\n",
       "      <td>plasmas 50 o mas pulg</td>\n",
       "      <td>5065102</td>\n",
       "      <td>televisor lg 50 pulgadas 50um7300 smart tv uhd 4k</td>\n",
       "      <td>2005065102001</td>\n",
       "      <td>1</td>\n",
       "      <td>2199900</td>\n",
       "      <td>2199900</td>\n",
       "      <td>2199900</td>\n",
       "      <td>2199900</td>\n",
       "      <td>2021-08-04</td>\n",
       "      <td>tienda</td>\n",
       "    </tr>\n",
       "  </tbody>\n",
       "</table>\n",
       "</div>"
      ]
     },
     "metadata": {},
     "execution_count": 22
    }
   ],
   "metadata": {}
  },
  {
   "cell_type": "code",
   "execution_count": 32,
   "source": [
    "f4s = pd.concat(lista_f4s, axis=0)"
   ],
   "outputs": [],
   "metadata": {}
  },
  {
   "cell_type": "code",
   "execution_count": 34,
   "source": [
    "f4s = f4s.loc[f4s.estado!='anulado']"
   ],
   "outputs": [],
   "metadata": {}
  },
  {
   "cell_type": "code",
   "execution_count": 35,
   "source": [
    "f4s.loc[f4s.local =='99', 'grupo'] = 'administrativo'\r\n",
    "f4s.loc[f4s.local =='9910', 'grupo'] = 'bodega mavesa'"
   ],
   "outputs": [],
   "metadata": {}
  },
  {
   "cell_type": "code",
   "execution_count": 36,
   "source": [
    "f4s.to_csv('output/210823-data_seguimiento_f4.csv', sep=';', index=False)"
   ],
   "outputs": [],
   "metadata": {}
  },
  {
   "cell_type": "markdown",
   "source": [],
   "metadata": {}
  },
  {
   "cell_type": "code",
   "execution_count": 46,
   "source": [
    "f4.fecha_corte.unique()"
   ],
   "outputs": [
    {
     "output_type": "execute_result",
     "data": {
      "text/plain": [
       "array(['2021-01-31', '2021-02-21', '2021-03-30', '2021-04-28',\n",
       "       '2021-05-26', '2021-06-26', '2021-07-29'], dtype=object)"
      ]
     },
     "metadata": {},
     "execution_count": 46
    }
   ],
   "metadata": {}
  },
  {
   "cell_type": "code",
   "execution_count": 45,
   "source": [
    "f4 = f4.loc[f4.fecha_corte!='2021-08-03']"
   ],
   "outputs": [],
   "metadata": {}
  },
  {
   "cell_type": "code",
   "execution_count": 47,
   "source": [
    "fsave = pd.concat([f4, f4s], axis=0)"
   ],
   "outputs": [],
   "metadata": {}
  },
  {
   "cell_type": "code",
   "execution_count": 84,
   "source": [
    "fsave.to_csv('output/210824_data_seguimiento_f4.csv', sep=';', index=False)"
   ],
   "outputs": [],
   "metadata": {}
  },
  {
   "cell_type": "code",
   "execution_count": 49,
   "source": [
    "fsave.to_excel('output/210824-data_seguimiento_f4.xlsx', index=False)"
   ],
   "outputs": [],
   "metadata": {}
  },
  {
   "cell_type": "markdown",
   "source": [
    "causas"
   ],
   "metadata": {}
  },
  {
   "cell_type": "code",
   "execution_count": 50,
   "source": [
    "pc = pd.read_excel('input/f4_posible_cas.xlsx', sheet_name='Hoja1',  dtype='object')"
   ],
   "outputs": [],
   "metadata": {}
  },
  {
   "cell_type": "code",
   "execution_count": 70,
   "source": [
    "pc.to_csv('output/pc.csv', sep=';', index=False)"
   ],
   "outputs": [],
   "metadata": {}
  },
  {
   "cell_type": "code",
   "execution_count": 71,
   "source": [
    "dos = pd.read_csv('output/pc.csv', sep=';', dtype='object')"
   ],
   "outputs": [],
   "metadata": {}
  },
  {
   "cell_type": "code",
   "execution_count": 56,
   "source": [
    "pc[['posible causa']] = pc[['posible causa']].apply(ct.clean_str)"
   ],
   "outputs": [],
   "metadata": {}
  },
  {
   "cell_type": "code",
   "execution_count": 72,
   "source": [
    "dos.head()"
   ],
   "outputs": [
    {
     "output_type": "execute_result",
     "data": {
      "text/plain": [
       "  nro_red_inventario         posible causa\n",
       "0           46056474  mermaaveria - tienda\n",
       "1           46056474  mermaaveria - tienda\n",
       "2           46056474  mermaaveria - tienda\n",
       "3           46056474  mermaaveria - tienda\n",
       "4           46056245  mermaaveria - tienda"
      ],
      "text/html": [
       "<div>\n",
       "<style scoped>\n",
       "    .dataframe tbody tr th:only-of-type {\n",
       "        vertical-align: middle;\n",
       "    }\n",
       "\n",
       "    .dataframe tbody tr th {\n",
       "        vertical-align: top;\n",
       "    }\n",
       "\n",
       "    .dataframe thead th {\n",
       "        text-align: right;\n",
       "    }\n",
       "</style>\n",
       "<table border=\"1\" class=\"dataframe\">\n",
       "  <thead>\n",
       "    <tr style=\"text-align: right;\">\n",
       "      <th></th>\n",
       "      <th>nro_red_inventario</th>\n",
       "      <th>posible causa</th>\n",
       "    </tr>\n",
       "  </thead>\n",
       "  <tbody>\n",
       "    <tr>\n",
       "      <th>0</th>\n",
       "      <td>46056474</td>\n",
       "      <td>mermaaveria - tienda</td>\n",
       "    </tr>\n",
       "    <tr>\n",
       "      <th>1</th>\n",
       "      <td>46056474</td>\n",
       "      <td>mermaaveria - tienda</td>\n",
       "    </tr>\n",
       "    <tr>\n",
       "      <th>2</th>\n",
       "      <td>46056474</td>\n",
       "      <td>mermaaveria - tienda</td>\n",
       "    </tr>\n",
       "    <tr>\n",
       "      <th>3</th>\n",
       "      <td>46056474</td>\n",
       "      <td>mermaaveria - tienda</td>\n",
       "    </tr>\n",
       "    <tr>\n",
       "      <th>4</th>\n",
       "      <td>46056245</td>\n",
       "      <td>mermaaveria - tienda</td>\n",
       "    </tr>\n",
       "  </tbody>\n",
       "</table>\n",
       "</div>"
      ]
     },
     "metadata": {},
     "execution_count": 72
    }
   ],
   "metadata": {}
  },
  {
   "cell_type": "code",
   "execution_count": 58,
   "source": [
    "pc = pc[['nro_red_inventario', 'posible causa']]"
   ],
   "outputs": [],
   "metadata": {}
  },
  {
   "cell_type": "code",
   "execution_count": 73,
   "source": [
    "un = fsave.merge(dos, how='left', on=['nro_red_inventario'])"
   ],
   "outputs": [],
   "metadata": {}
  },
  {
   "cell_type": "code",
   "execution_count": 79,
   "source": [
    "un[un['posible causa'].notna()]"
   ],
   "outputs": [
    {
     "output_type": "error",
     "ename": "KeyboardInterrupt",
     "evalue": "",
     "traceback": [
      "\u001b[1;31m---------------------------------------------------------------------------\u001b[0m",
      "\u001b[1;31mKeyboardInterrupt\u001b[0m                         Traceback (most recent call last)",
      "\u001b[1;32m<ipython-input-79-39171cf08487>\u001b[0m in \u001b[0;36m<module>\u001b[1;34m\u001b[0m\n\u001b[1;32m----> 1\u001b[1;33m \u001b[0mun\u001b[0m\u001b[1;33m[\u001b[0m\u001b[0mun\u001b[0m\u001b[1;33m[\u001b[0m\u001b[1;34m'posible causa'\u001b[0m\u001b[1;33m]\u001b[0m\u001b[1;33m.\u001b[0m\u001b[0mnotna\u001b[0m\u001b[1;33m(\u001b[0m\u001b[1;33m)\u001b[0m\u001b[1;33m]\u001b[0m\u001b[1;33m\u001b[0m\u001b[1;33m\u001b[0m\u001b[0m\n\u001b[0m",
      "\u001b[1;32m~\\Anaconda3\\lib\\site-packages\\pandas\\core\\frame.py\u001b[0m in \u001b[0;36m__getitem__\u001b[1;34m(self, key)\u001b[0m\n\u001b[0;32m   3013\u001b[0m         \u001b[1;31m# Do we have a (boolean) 1d indexer?\u001b[0m\u001b[1;33m\u001b[0m\u001b[1;33m\u001b[0m\u001b[1;33m\u001b[0m\u001b[0m\n\u001b[0;32m   3014\u001b[0m         \u001b[1;32mif\u001b[0m \u001b[0mcom\u001b[0m\u001b[1;33m.\u001b[0m\u001b[0mis_bool_indexer\u001b[0m\u001b[1;33m(\u001b[0m\u001b[0mkey\u001b[0m\u001b[1;33m)\u001b[0m\u001b[1;33m:\u001b[0m\u001b[1;33m\u001b[0m\u001b[1;33m\u001b[0m\u001b[0m\n\u001b[1;32m-> 3015\u001b[1;33m             \u001b[1;32mreturn\u001b[0m \u001b[0mself\u001b[0m\u001b[1;33m.\u001b[0m\u001b[0m_getitem_bool_array\u001b[0m\u001b[1;33m(\u001b[0m\u001b[0mkey\u001b[0m\u001b[1;33m)\u001b[0m\u001b[1;33m\u001b[0m\u001b[1;33m\u001b[0m\u001b[0m\n\u001b[0m\u001b[0;32m   3016\u001b[0m \u001b[1;33m\u001b[0m\u001b[0m\n\u001b[0;32m   3017\u001b[0m         \u001b[1;31m# We are left with two options: a single key, and a collection of keys,\u001b[0m\u001b[1;33m\u001b[0m\u001b[1;33m\u001b[0m\u001b[1;33m\u001b[0m\u001b[0m\n",
      "\u001b[1;32m~\\Anaconda3\\lib\\site-packages\\pandas\\core\\frame.py\u001b[0m in \u001b[0;36m_getitem_bool_array\u001b[1;34m(self, key)\u001b[0m\n\u001b[0;32m   3068\u001b[0m         \u001b[0mkey\u001b[0m \u001b[1;33m=\u001b[0m \u001b[0mcheck_bool_indexer\u001b[0m\u001b[1;33m(\u001b[0m\u001b[0mself\u001b[0m\u001b[1;33m.\u001b[0m\u001b[0mindex\u001b[0m\u001b[1;33m,\u001b[0m \u001b[0mkey\u001b[0m\u001b[1;33m)\u001b[0m\u001b[1;33m\u001b[0m\u001b[1;33m\u001b[0m\u001b[0m\n\u001b[0;32m   3069\u001b[0m         \u001b[0mindexer\u001b[0m \u001b[1;33m=\u001b[0m \u001b[0mkey\u001b[0m\u001b[1;33m.\u001b[0m\u001b[0mnonzero\u001b[0m\u001b[1;33m(\u001b[0m\u001b[1;33m)\u001b[0m\u001b[1;33m[\u001b[0m\u001b[1;36m0\u001b[0m\u001b[1;33m]\u001b[0m\u001b[1;33m\u001b[0m\u001b[1;33m\u001b[0m\u001b[0m\n\u001b[1;32m-> 3070\u001b[1;33m         \u001b[1;32mreturn\u001b[0m \u001b[0mself\u001b[0m\u001b[1;33m.\u001b[0m\u001b[0m_take_with_is_copy\u001b[0m\u001b[1;33m(\u001b[0m\u001b[0mindexer\u001b[0m\u001b[1;33m,\u001b[0m \u001b[0maxis\u001b[0m\u001b[1;33m=\u001b[0m\u001b[1;36m0\u001b[0m\u001b[1;33m)\u001b[0m\u001b[1;33m\u001b[0m\u001b[1;33m\u001b[0m\u001b[0m\n\u001b[0m\u001b[0;32m   3071\u001b[0m \u001b[1;33m\u001b[0m\u001b[0m\n\u001b[0;32m   3072\u001b[0m     \u001b[1;32mdef\u001b[0m \u001b[0m_getitem_multilevel\u001b[0m\u001b[1;33m(\u001b[0m\u001b[0mself\u001b[0m\u001b[1;33m,\u001b[0m \u001b[0mkey\u001b[0m\u001b[1;33m)\u001b[0m\u001b[1;33m:\u001b[0m\u001b[1;33m\u001b[0m\u001b[1;33m\u001b[0m\u001b[0m\n",
      "\u001b[1;32m~\\Anaconda3\\lib\\site-packages\\pandas\\core\\generic.py\u001b[0m in \u001b[0;36m_take_with_is_copy\u001b[1;34m(self, indices, axis)\u001b[0m\n\u001b[0;32m   3598\u001b[0m         \u001b[0mSee\u001b[0m \u001b[0mthe\u001b[0m \u001b[0mdocstring\u001b[0m \u001b[0mof\u001b[0m\u001b[0;31m \u001b[0m\u001b[0;31m`\u001b[0m\u001b[0mtake\u001b[0m\u001b[0;31m`\u001b[0m \u001b[1;32mfor\u001b[0m \u001b[0mfull\u001b[0m \u001b[0mexplanation\u001b[0m \u001b[0mof\u001b[0m \u001b[0mthe\u001b[0m \u001b[0mparameters\u001b[0m\u001b[1;33m.\u001b[0m\u001b[1;33m\u001b[0m\u001b[1;33m\u001b[0m\u001b[0m\n\u001b[0;32m   3599\u001b[0m         \"\"\"\n\u001b[1;32m-> 3600\u001b[1;33m         \u001b[0mresult\u001b[0m \u001b[1;33m=\u001b[0m \u001b[0mself\u001b[0m\u001b[1;33m.\u001b[0m\u001b[0mtake\u001b[0m\u001b[1;33m(\u001b[0m\u001b[0mindices\u001b[0m\u001b[1;33m=\u001b[0m\u001b[0mindices\u001b[0m\u001b[1;33m,\u001b[0m \u001b[0maxis\u001b[0m\u001b[1;33m=\u001b[0m\u001b[0maxis\u001b[0m\u001b[1;33m)\u001b[0m\u001b[1;33m\u001b[0m\u001b[1;33m\u001b[0m\u001b[0m\n\u001b[0m\u001b[0;32m   3601\u001b[0m         \u001b[1;31m# Maybe set copy if we didn't actually change the index.\u001b[0m\u001b[1;33m\u001b[0m\u001b[1;33m\u001b[0m\u001b[1;33m\u001b[0m\u001b[0m\n\u001b[0;32m   3602\u001b[0m         \u001b[1;32mif\u001b[0m \u001b[1;32mnot\u001b[0m \u001b[0mresult\u001b[0m\u001b[1;33m.\u001b[0m\u001b[0m_get_axis\u001b[0m\u001b[1;33m(\u001b[0m\u001b[0maxis\u001b[0m\u001b[1;33m)\u001b[0m\u001b[1;33m.\u001b[0m\u001b[0mequals\u001b[0m\u001b[1;33m(\u001b[0m\u001b[0mself\u001b[0m\u001b[1;33m.\u001b[0m\u001b[0m_get_axis\u001b[0m\u001b[1;33m(\u001b[0m\u001b[0maxis\u001b[0m\u001b[1;33m)\u001b[0m\u001b[1;33m)\u001b[0m\u001b[1;33m:\u001b[0m\u001b[1;33m\u001b[0m\u001b[1;33m\u001b[0m\u001b[0m\n",
      "\u001b[1;32m~\\Anaconda3\\lib\\site-packages\\pandas\\core\\generic.py\u001b[0m in \u001b[0;36mtake\u001b[1;34m(self, indices, axis, is_copy, **kwargs)\u001b[0m\n\u001b[0;32m   3582\u001b[0m         \u001b[0mnv\u001b[0m\u001b[1;33m.\u001b[0m\u001b[0mvalidate_take\u001b[0m\u001b[1;33m(\u001b[0m\u001b[1;33m(\u001b[0m\u001b[1;33m)\u001b[0m\u001b[1;33m,\u001b[0m \u001b[0mkwargs\u001b[0m\u001b[1;33m)\u001b[0m\u001b[1;33m\u001b[0m\u001b[1;33m\u001b[0m\u001b[0m\n\u001b[0;32m   3583\u001b[0m \u001b[1;33m\u001b[0m\u001b[0m\n\u001b[1;32m-> 3584\u001b[1;33m         \u001b[0mself\u001b[0m\u001b[1;33m.\u001b[0m\u001b[0m_consolidate_inplace\u001b[0m\u001b[1;33m(\u001b[0m\u001b[1;33m)\u001b[0m\u001b[1;33m\u001b[0m\u001b[1;33m\u001b[0m\u001b[0m\n\u001b[0m\u001b[0;32m   3585\u001b[0m \u001b[1;33m\u001b[0m\u001b[0m\n\u001b[0;32m   3586\u001b[0m         new_data = self._mgr.take(\n",
      "\u001b[1;32m~\\Anaconda3\\lib\\site-packages\\pandas\\core\\generic.py\u001b[0m in \u001b[0;36m_consolidate_inplace\u001b[1;34m(self)\u001b[0m\n\u001b[0;32m   5539\u001b[0m             \u001b[0mself\u001b[0m\u001b[1;33m.\u001b[0m\u001b[0m_mgr\u001b[0m \u001b[1;33m=\u001b[0m \u001b[0mself\u001b[0m\u001b[1;33m.\u001b[0m\u001b[0m_mgr\u001b[0m\u001b[1;33m.\u001b[0m\u001b[0mconsolidate\u001b[0m\u001b[1;33m(\u001b[0m\u001b[1;33m)\u001b[0m\u001b[1;33m\u001b[0m\u001b[1;33m\u001b[0m\u001b[0m\n\u001b[0;32m   5540\u001b[0m \u001b[1;33m\u001b[0m\u001b[0m\n\u001b[1;32m-> 5541\u001b[1;33m         \u001b[0mself\u001b[0m\u001b[1;33m.\u001b[0m\u001b[0m_protect_consolidate\u001b[0m\u001b[1;33m(\u001b[0m\u001b[0mf\u001b[0m\u001b[1;33m)\u001b[0m\u001b[1;33m\u001b[0m\u001b[1;33m\u001b[0m\u001b[0m\n\u001b[0m\u001b[0;32m   5542\u001b[0m \u001b[1;33m\u001b[0m\u001b[0m\n\u001b[0;32m   5543\u001b[0m     \u001b[1;33m@\u001b[0m\u001b[0mfinal\u001b[0m\u001b[1;33m\u001b[0m\u001b[1;33m\u001b[0m\u001b[0m\n",
      "\u001b[1;32m~\\Anaconda3\\lib\\site-packages\\pandas\\core\\generic.py\u001b[0m in \u001b[0;36m_protect_consolidate\u001b[1;34m(self, f)\u001b[0m\n\u001b[0;32m   5527\u001b[0m         \"\"\"\n\u001b[0;32m   5528\u001b[0m         \u001b[0mblocks_before\u001b[0m \u001b[1;33m=\u001b[0m \u001b[0mlen\u001b[0m\u001b[1;33m(\u001b[0m\u001b[0mself\u001b[0m\u001b[1;33m.\u001b[0m\u001b[0m_mgr\u001b[0m\u001b[1;33m.\u001b[0m\u001b[0mblocks\u001b[0m\u001b[1;33m)\u001b[0m\u001b[1;33m\u001b[0m\u001b[1;33m\u001b[0m\u001b[0m\n\u001b[1;32m-> 5529\u001b[1;33m         \u001b[0mresult\u001b[0m \u001b[1;33m=\u001b[0m \u001b[0mf\u001b[0m\u001b[1;33m(\u001b[0m\u001b[1;33m)\u001b[0m\u001b[1;33m\u001b[0m\u001b[1;33m\u001b[0m\u001b[0m\n\u001b[0m\u001b[0;32m   5530\u001b[0m         \u001b[1;32mif\u001b[0m \u001b[0mlen\u001b[0m\u001b[1;33m(\u001b[0m\u001b[0mself\u001b[0m\u001b[1;33m.\u001b[0m\u001b[0m_mgr\u001b[0m\u001b[1;33m.\u001b[0m\u001b[0mblocks\u001b[0m\u001b[1;33m)\u001b[0m \u001b[1;33m!=\u001b[0m \u001b[0mblocks_before\u001b[0m\u001b[1;33m:\u001b[0m\u001b[1;33m\u001b[0m\u001b[1;33m\u001b[0m\u001b[0m\n\u001b[0;32m   5531\u001b[0m             \u001b[0mself\u001b[0m\u001b[1;33m.\u001b[0m\u001b[0m_clear_item_cache\u001b[0m\u001b[1;33m(\u001b[0m\u001b[1;33m)\u001b[0m\u001b[1;33m\u001b[0m\u001b[1;33m\u001b[0m\u001b[0m\n",
      "\u001b[1;32m~\\Anaconda3\\lib\\site-packages\\pandas\\core\\generic.py\u001b[0m in \u001b[0;36mf\u001b[1;34m()\u001b[0m\n\u001b[0;32m   5537\u001b[0m \u001b[1;33m\u001b[0m\u001b[0m\n\u001b[0;32m   5538\u001b[0m         \u001b[1;32mdef\u001b[0m \u001b[0mf\u001b[0m\u001b[1;33m(\u001b[0m\u001b[1;33m)\u001b[0m\u001b[1;33m:\u001b[0m\u001b[1;33m\u001b[0m\u001b[1;33m\u001b[0m\u001b[0m\n\u001b[1;32m-> 5539\u001b[1;33m             \u001b[0mself\u001b[0m\u001b[1;33m.\u001b[0m\u001b[0m_mgr\u001b[0m \u001b[1;33m=\u001b[0m \u001b[0mself\u001b[0m\u001b[1;33m.\u001b[0m\u001b[0m_mgr\u001b[0m\u001b[1;33m.\u001b[0m\u001b[0mconsolidate\u001b[0m\u001b[1;33m(\u001b[0m\u001b[1;33m)\u001b[0m\u001b[1;33m\u001b[0m\u001b[1;33m\u001b[0m\u001b[0m\n\u001b[0m\u001b[0;32m   5540\u001b[0m \u001b[1;33m\u001b[0m\u001b[0m\n\u001b[0;32m   5541\u001b[0m         \u001b[0mself\u001b[0m\u001b[1;33m.\u001b[0m\u001b[0m_protect_consolidate\u001b[0m\u001b[1;33m(\u001b[0m\u001b[0mf\u001b[0m\u001b[1;33m)\u001b[0m\u001b[1;33m\u001b[0m\u001b[1;33m\u001b[0m\u001b[0m\n",
      "\u001b[1;32m~\\Anaconda3\\lib\\site-packages\\pandas\\core\\internals\\managers.py\u001b[0m in \u001b[0;36mconsolidate\u001b[1;34m(self)\u001b[0m\n\u001b[0;32m    986\u001b[0m         \u001b[0mbm\u001b[0m \u001b[1;33m=\u001b[0m \u001b[0mtype\u001b[0m\u001b[1;33m(\u001b[0m\u001b[0mself\u001b[0m\u001b[1;33m)\u001b[0m\u001b[1;33m(\u001b[0m\u001b[0mself\u001b[0m\u001b[1;33m.\u001b[0m\u001b[0mblocks\u001b[0m\u001b[1;33m,\u001b[0m \u001b[0mself\u001b[0m\u001b[1;33m.\u001b[0m\u001b[0maxes\u001b[0m\u001b[1;33m)\u001b[0m\u001b[1;33m\u001b[0m\u001b[1;33m\u001b[0m\u001b[0m\n\u001b[0;32m    987\u001b[0m         \u001b[0mbm\u001b[0m\u001b[1;33m.\u001b[0m\u001b[0m_is_consolidated\u001b[0m \u001b[1;33m=\u001b[0m \u001b[1;32mFalse\u001b[0m\u001b[1;33m\u001b[0m\u001b[1;33m\u001b[0m\u001b[0m\n\u001b[1;32m--> 988\u001b[1;33m         \u001b[0mbm\u001b[0m\u001b[1;33m.\u001b[0m\u001b[0m_consolidate_inplace\u001b[0m\u001b[1;33m(\u001b[0m\u001b[1;33m)\u001b[0m\u001b[1;33m\u001b[0m\u001b[1;33m\u001b[0m\u001b[0m\n\u001b[0m\u001b[0;32m    989\u001b[0m         \u001b[1;32mreturn\u001b[0m \u001b[0mbm\u001b[0m\u001b[1;33m\u001b[0m\u001b[1;33m\u001b[0m\u001b[0m\n\u001b[0;32m    990\u001b[0m \u001b[1;33m\u001b[0m\u001b[0m\n",
      "\u001b[1;32m~\\Anaconda3\\lib\\site-packages\\pandas\\core\\internals\\managers.py\u001b[0m in \u001b[0;36m_consolidate_inplace\u001b[1;34m(self)\u001b[0m\n\u001b[0;32m    991\u001b[0m     \u001b[1;32mdef\u001b[0m \u001b[0m_consolidate_inplace\u001b[0m\u001b[1;33m(\u001b[0m\u001b[0mself\u001b[0m\u001b[1;33m)\u001b[0m \u001b[1;33m->\u001b[0m \u001b[1;32mNone\u001b[0m\u001b[1;33m:\u001b[0m\u001b[1;33m\u001b[0m\u001b[1;33m\u001b[0m\u001b[0m\n\u001b[0;32m    992\u001b[0m         \u001b[1;32mif\u001b[0m \u001b[1;32mnot\u001b[0m \u001b[0mself\u001b[0m\u001b[1;33m.\u001b[0m\u001b[0mis_consolidated\u001b[0m\u001b[1;33m(\u001b[0m\u001b[1;33m)\u001b[0m\u001b[1;33m:\u001b[0m\u001b[1;33m\u001b[0m\u001b[1;33m\u001b[0m\u001b[0m\n\u001b[1;32m--> 993\u001b[1;33m             \u001b[0mself\u001b[0m\u001b[1;33m.\u001b[0m\u001b[0mblocks\u001b[0m \u001b[1;33m=\u001b[0m \u001b[0mtuple\u001b[0m\u001b[1;33m(\u001b[0m\u001b[0m_consolidate\u001b[0m\u001b[1;33m(\u001b[0m\u001b[0mself\u001b[0m\u001b[1;33m.\u001b[0m\u001b[0mblocks\u001b[0m\u001b[1;33m)\u001b[0m\u001b[1;33m)\u001b[0m\u001b[1;33m\u001b[0m\u001b[1;33m\u001b[0m\u001b[0m\n\u001b[0m\u001b[0;32m    994\u001b[0m             \u001b[0mself\u001b[0m\u001b[1;33m.\u001b[0m\u001b[0m_is_consolidated\u001b[0m \u001b[1;33m=\u001b[0m \u001b[1;32mTrue\u001b[0m\u001b[1;33m\u001b[0m\u001b[1;33m\u001b[0m\u001b[0m\n\u001b[0;32m    995\u001b[0m             \u001b[0mself\u001b[0m\u001b[1;33m.\u001b[0m\u001b[0m_known_consolidated\u001b[0m \u001b[1;33m=\u001b[0m \u001b[1;32mTrue\u001b[0m\u001b[1;33m\u001b[0m\u001b[1;33m\u001b[0m\u001b[0m\n",
      "\u001b[1;32m~\\Anaconda3\\lib\\site-packages\\pandas\\core\\internals\\managers.py\u001b[0m in \u001b[0;36m_consolidate\u001b[1;34m(blocks)\u001b[0m\n\u001b[0;32m   1914\u001b[0m     \u001b[0mnew_blocks\u001b[0m\u001b[1;33m:\u001b[0m \u001b[0mList\u001b[0m\u001b[1;33m[\u001b[0m\u001b[0mBlock\u001b[0m\u001b[1;33m]\u001b[0m \u001b[1;33m=\u001b[0m \u001b[1;33m[\u001b[0m\u001b[1;33m]\u001b[0m\u001b[1;33m\u001b[0m\u001b[1;33m\u001b[0m\u001b[0m\n\u001b[0;32m   1915\u001b[0m     \u001b[1;32mfor\u001b[0m \u001b[1;33m(\u001b[0m\u001b[0m_can_consolidate\u001b[0m\u001b[1;33m,\u001b[0m \u001b[0mdtype\u001b[0m\u001b[1;33m)\u001b[0m\u001b[1;33m,\u001b[0m \u001b[0mgroup_blocks\u001b[0m \u001b[1;32min\u001b[0m \u001b[0mgrouper\u001b[0m\u001b[1;33m:\u001b[0m\u001b[1;33m\u001b[0m\u001b[1;33m\u001b[0m\u001b[0m\n\u001b[1;32m-> 1916\u001b[1;33m         merged_blocks = _merge_blocks(\n\u001b[0m\u001b[0;32m   1917\u001b[0m             \u001b[0mlist\u001b[0m\u001b[1;33m(\u001b[0m\u001b[0mgroup_blocks\u001b[0m\u001b[1;33m)\u001b[0m\u001b[1;33m,\u001b[0m \u001b[0mdtype\u001b[0m\u001b[1;33m=\u001b[0m\u001b[0mdtype\u001b[0m\u001b[1;33m,\u001b[0m \u001b[0mcan_consolidate\u001b[0m\u001b[1;33m=\u001b[0m\u001b[0m_can_consolidate\u001b[0m\u001b[1;33m\u001b[0m\u001b[1;33m\u001b[0m\u001b[0m\n\u001b[0;32m   1918\u001b[0m         )\n",
      "\u001b[1;32m~\\Anaconda3\\lib\\site-packages\\pandas\\core\\internals\\managers.py\u001b[0m in \u001b[0;36m_merge_blocks\u001b[1;34m(blocks, dtype, can_consolidate)\u001b[0m\n\u001b[0;32m   1939\u001b[0m         \u001b[0mnew_values\u001b[0m \u001b[1;33m=\u001b[0m \u001b[0mnp\u001b[0m\u001b[1;33m.\u001b[0m\u001b[0mvstack\u001b[0m\u001b[1;33m(\u001b[0m\u001b[1;33m[\u001b[0m\u001b[0mb\u001b[0m\u001b[1;33m.\u001b[0m\u001b[0mvalues\u001b[0m \u001b[1;32mfor\u001b[0m \u001b[0mb\u001b[0m \u001b[1;32min\u001b[0m \u001b[0mblocks\u001b[0m\u001b[1;33m]\u001b[0m\u001b[1;33m)\u001b[0m\u001b[1;33m\u001b[0m\u001b[1;33m\u001b[0m\u001b[0m\n\u001b[0;32m   1940\u001b[0m \u001b[1;33m\u001b[0m\u001b[0m\n\u001b[1;32m-> 1941\u001b[1;33m         \u001b[0margsort\u001b[0m \u001b[1;33m=\u001b[0m \u001b[0mnp\u001b[0m\u001b[1;33m.\u001b[0m\u001b[0margsort\u001b[0m\u001b[1;33m(\u001b[0m\u001b[0mnew_mgr_locs\u001b[0m\u001b[1;33m)\u001b[0m\u001b[1;33m\u001b[0m\u001b[1;33m\u001b[0m\u001b[0m\n\u001b[0m\u001b[0;32m   1942\u001b[0m         \u001b[0mnew_values\u001b[0m \u001b[1;33m=\u001b[0m \u001b[0mnew_values\u001b[0m\u001b[1;33m[\u001b[0m\u001b[0margsort\u001b[0m\u001b[1;33m]\u001b[0m\u001b[1;33m\u001b[0m\u001b[1;33m\u001b[0m\u001b[0m\n\u001b[0;32m   1943\u001b[0m         \u001b[0mnew_mgr_locs\u001b[0m \u001b[1;33m=\u001b[0m \u001b[0mnew_mgr_locs\u001b[0m\u001b[1;33m[\u001b[0m\u001b[0margsort\u001b[0m\u001b[1;33m]\u001b[0m\u001b[1;33m\u001b[0m\u001b[1;33m\u001b[0m\u001b[0m\n",
      "\u001b[1;32m<__array_function__ internals>\u001b[0m in \u001b[0;36margsort\u001b[1;34m(*args, **kwargs)\u001b[0m\n",
      "\u001b[1;32m~\\Anaconda3\\lib\\site-packages\\numpy\\core\\fromnumeric.py\u001b[0m in \u001b[0;36margsort\u001b[1;34m(a, axis, kind, order)\u001b[0m\n\u001b[0;32m   1110\u001b[0m \u001b[1;33m\u001b[0m\u001b[0m\n\u001b[0;32m   1111\u001b[0m     \"\"\"\n\u001b[1;32m-> 1112\u001b[1;33m     \u001b[1;32mreturn\u001b[0m \u001b[0m_wrapfunc\u001b[0m\u001b[1;33m(\u001b[0m\u001b[0ma\u001b[0m\u001b[1;33m,\u001b[0m \u001b[1;34m'argsort'\u001b[0m\u001b[1;33m,\u001b[0m \u001b[0maxis\u001b[0m\u001b[1;33m=\u001b[0m\u001b[0maxis\u001b[0m\u001b[1;33m,\u001b[0m \u001b[0mkind\u001b[0m\u001b[1;33m=\u001b[0m\u001b[0mkind\u001b[0m\u001b[1;33m,\u001b[0m \u001b[0morder\u001b[0m\u001b[1;33m=\u001b[0m\u001b[0morder\u001b[0m\u001b[1;33m)\u001b[0m\u001b[1;33m\u001b[0m\u001b[1;33m\u001b[0m\u001b[0m\n\u001b[0m\u001b[0;32m   1113\u001b[0m \u001b[1;33m\u001b[0m\u001b[0m\n\u001b[0;32m   1114\u001b[0m \u001b[1;33m\u001b[0m\u001b[0m\n",
      "\u001b[1;32m~\\Anaconda3\\lib\\site-packages\\numpy\\core\\fromnumeric.py\u001b[0m in \u001b[0;36m_wrapfunc\u001b[1;34m(obj, method, *args, **kwds)\u001b[0m\n\u001b[0;32m     56\u001b[0m \u001b[1;33m\u001b[0m\u001b[0m\n\u001b[0;32m     57\u001b[0m     \u001b[1;32mtry\u001b[0m\u001b[1;33m:\u001b[0m\u001b[1;33m\u001b[0m\u001b[1;33m\u001b[0m\u001b[0m\n\u001b[1;32m---> 58\u001b[1;33m         \u001b[1;32mreturn\u001b[0m \u001b[0mbound\u001b[0m\u001b[1;33m(\u001b[0m\u001b[1;33m*\u001b[0m\u001b[0margs\u001b[0m\u001b[1;33m,\u001b[0m \u001b[1;33m**\u001b[0m\u001b[0mkwds\u001b[0m\u001b[1;33m)\u001b[0m\u001b[1;33m\u001b[0m\u001b[1;33m\u001b[0m\u001b[0m\n\u001b[0m\u001b[0;32m     59\u001b[0m     \u001b[1;32mexcept\u001b[0m \u001b[0mTypeError\u001b[0m\u001b[1;33m:\u001b[0m\u001b[1;33m\u001b[0m\u001b[1;33m\u001b[0m\u001b[0m\n\u001b[0;32m     60\u001b[0m         \u001b[1;31m# A TypeError occurs if the object does have such a method in its\u001b[0m\u001b[1;33m\u001b[0m\u001b[1;33m\u001b[0m\u001b[1;33m\u001b[0m\u001b[0m\n",
      "\u001b[1;31mKeyboardInterrupt\u001b[0m: "
     ]
    }
   ],
   "metadata": {}
  },
  {
   "cell_type": "code",
   "execution_count": 77,
   "source": [
    "un.tail()"
   ],
   "outputs": [
    {
     "output_type": "execute_result",
     "data": {
      "text/plain": [
       "         nro_red_inventario local              desc_local     estado  \\\n",
       "24787350           46471352    50               primavera  reservado   \n",
       "24787351           46471352    50               primavera  reservado   \n",
       "24787352           46471352    50               primavera  reservado   \n",
       "24787353           46471352    50               primavera  reservado   \n",
       "24787354           46471345  3000  falabella. com alterno  reservado   \n",
       "\n",
       "           tipo_redinv fecha_creacion             usuario_creacion  \\\n",
       "24787350  dado de baja     23-08-2021  jenith marcela gomez suarez   \n",
       "24787351  dado de baja     23-08-2021  jenith marcela gomez suarez   \n",
       "24787352  dado de baja     23-08-2021  jenith marcela gomez suarez   \n",
       "24787353  dado de baja     23-08-2021  jenith marcela gomez suarez   \n",
       "24787354  dado de baja     23-08-2021    fenny gineth ramirez diaz   \n",
       "\n",
       "         fecha_reserva              usuario_reserva fecha_envio usuario_envio  \\\n",
       "24787350    23-08-2021  jenith marcela gomez suarez  01-01-1990           NaN   \n",
       "24787351    23-08-2021  jenith marcela gomez suarez  01-01-1990           NaN   \n",
       "24787352    23-08-2021  jenith marcela gomez suarez  01-01-1990           NaN   \n",
       "24787353    23-08-2021  jenith marcela gomez suarez  01-01-1990           NaN   \n",
       "24787354    23-08-2021    fenny gineth ramirez diaz  01-01-1990           NaN   \n",
       "\n",
       "                               destino rut_destino centro_de_costos  \\\n",
       "24787350           falabella primavera  9000174478             2570   \n",
       "24787351           falabella primavera  9000174478             2570   \n",
       "24787352           falabella primavera  9000174478             2570   \n",
       "24787353           falabella primavera  9000174478             2570   \n",
       "24787354  producto en poder de cliente  9000174478             2440   \n",
       "\n",
       "           desccentro_e_costo linea descripcion_linea   subclase  \\\n",
       "24787350  cc tienda primavera   j04           mujeres  j04060201   \n",
       "24787351  cc tienda primavera   j04           mujeres  j04060201   \n",
       "24787352  cc tienda primavera   j12            blanco  j12010504   \n",
       "24787353  cc tienda primavera   j12            blanco  j12010504   \n",
       "24787354      venta distancia   j11     electro hogar  j11010307   \n",
       "\n",
       "                descripcion_subclase nro_producto  \\\n",
       "24787350  camiseta estampada ml y 34    881858182   \n",
       "24787351  camiseta estampada ml y 34    881858182   \n",
       "24787352       cubrecama promocional    881999498   \n",
       "24787353       cubrecama promocional    881999498   \n",
       "24787354           lcd 65 o mas pulg      7146168   \n",
       "\n",
       "                                      descripcion_producto            upc  \\\n",
       "24787350  polera estampad hvmpou205g off white and white s  2998818581829   \n",
       "24787351  polera estampad hvmpou205g off white and white s  2998818581829   \n",
       "24787352                           cubrelecho patch mor sc  2998819994987   \n",
       "24787353                           cubrelecho patch mor sc  2998819994987   \n",
       "24787354                     led 65 samsung uhd un65tu8500  8806090343353   \n",
       "\n",
       "         cantidad precio_vta precio_costo total_precio_vta total_precio_costo  \\\n",
       "24787350        1      69990        22309            69990              22309   \n",
       "24787351        1      69990        22309            69990              22309   \n",
       "24787352        2     119990        31622           239980              63244   \n",
       "24787353        2     119990        31622           239980              63244   \n",
       "24787354        1    4999900      2343364          4999900            2343364   \n",
       "\n",
       "         fecha_corte posible_causa fecha_inventario observacion grupo_tipo_f4  \\\n",
       "24787350  2021-08-23           NaN              NaN         NaN           NaN   \n",
       "24787351  2021-08-23           NaN              NaN         NaN           NaN   \n",
       "24787352  2021-08-23           NaN              NaN         NaN           NaN   \n",
       "24787353  2021-08-23           NaN              NaN         NaN           NaN   \n",
       "24787354  2021-08-23           NaN              NaN         NaN           NaN   \n",
       "\n",
       "           grupo                 posible causa  \n",
       "24787350  tienda          mermaaveria - tienda  \n",
       "24787351  tienda          mermaaveria - tienda  \n",
       "24787352  tienda          mermaaveria - tienda  \n",
       "24787353  tienda          mermaaveria - tienda  \n",
       "24787354      cd  producto entregado a cliente  "
      ],
      "text/html": [
       "<div>\n",
       "<style scoped>\n",
       "    .dataframe tbody tr th:only-of-type {\n",
       "        vertical-align: middle;\n",
       "    }\n",
       "\n",
       "    .dataframe tbody tr th {\n",
       "        vertical-align: top;\n",
       "    }\n",
       "\n",
       "    .dataframe thead th {\n",
       "        text-align: right;\n",
       "    }\n",
       "</style>\n",
       "<table border=\"1\" class=\"dataframe\">\n",
       "  <thead>\n",
       "    <tr style=\"text-align: right;\">\n",
       "      <th></th>\n",
       "      <th>nro_red_inventario</th>\n",
       "      <th>local</th>\n",
       "      <th>desc_local</th>\n",
       "      <th>estado</th>\n",
       "      <th>tipo_redinv</th>\n",
       "      <th>fecha_creacion</th>\n",
       "      <th>usuario_creacion</th>\n",
       "      <th>fecha_reserva</th>\n",
       "      <th>usuario_reserva</th>\n",
       "      <th>fecha_envio</th>\n",
       "      <th>usuario_envio</th>\n",
       "      <th>destino</th>\n",
       "      <th>rut_destino</th>\n",
       "      <th>centro_de_costos</th>\n",
       "      <th>desccentro_e_costo</th>\n",
       "      <th>linea</th>\n",
       "      <th>descripcion_linea</th>\n",
       "      <th>subclase</th>\n",
       "      <th>descripcion_subclase</th>\n",
       "      <th>nro_producto</th>\n",
       "      <th>descripcion_producto</th>\n",
       "      <th>upc</th>\n",
       "      <th>cantidad</th>\n",
       "      <th>precio_vta</th>\n",
       "      <th>precio_costo</th>\n",
       "      <th>total_precio_vta</th>\n",
       "      <th>total_precio_costo</th>\n",
       "      <th>fecha_corte</th>\n",
       "      <th>posible_causa</th>\n",
       "      <th>fecha_inventario</th>\n",
       "      <th>observacion</th>\n",
       "      <th>grupo_tipo_f4</th>\n",
       "      <th>grupo</th>\n",
       "      <th>posible causa</th>\n",
       "    </tr>\n",
       "  </thead>\n",
       "  <tbody>\n",
       "    <tr>\n",
       "      <th>24787350</th>\n",
       "      <td>46471352</td>\n",
       "      <td>50</td>\n",
       "      <td>primavera</td>\n",
       "      <td>reservado</td>\n",
       "      <td>dado de baja</td>\n",
       "      <td>23-08-2021</td>\n",
       "      <td>jenith marcela gomez suarez</td>\n",
       "      <td>23-08-2021</td>\n",
       "      <td>jenith marcela gomez suarez</td>\n",
       "      <td>01-01-1990</td>\n",
       "      <td>NaN</td>\n",
       "      <td>falabella primavera</td>\n",
       "      <td>9000174478</td>\n",
       "      <td>2570</td>\n",
       "      <td>cc tienda primavera</td>\n",
       "      <td>j04</td>\n",
       "      <td>mujeres</td>\n",
       "      <td>j04060201</td>\n",
       "      <td>camiseta estampada ml y 34</td>\n",
       "      <td>881858182</td>\n",
       "      <td>polera estampad hvmpou205g off white and white s</td>\n",
       "      <td>2998818581829</td>\n",
       "      <td>1</td>\n",
       "      <td>69990</td>\n",
       "      <td>22309</td>\n",
       "      <td>69990</td>\n",
       "      <td>22309</td>\n",
       "      <td>2021-08-23</td>\n",
       "      <td>NaN</td>\n",
       "      <td>NaN</td>\n",
       "      <td>NaN</td>\n",
       "      <td>NaN</td>\n",
       "      <td>tienda</td>\n",
       "      <td>mermaaveria - tienda</td>\n",
       "    </tr>\n",
       "    <tr>\n",
       "      <th>24787351</th>\n",
       "      <td>46471352</td>\n",
       "      <td>50</td>\n",
       "      <td>primavera</td>\n",
       "      <td>reservado</td>\n",
       "      <td>dado de baja</td>\n",
       "      <td>23-08-2021</td>\n",
       "      <td>jenith marcela gomez suarez</td>\n",
       "      <td>23-08-2021</td>\n",
       "      <td>jenith marcela gomez suarez</td>\n",
       "      <td>01-01-1990</td>\n",
       "      <td>NaN</td>\n",
       "      <td>falabella primavera</td>\n",
       "      <td>9000174478</td>\n",
       "      <td>2570</td>\n",
       "      <td>cc tienda primavera</td>\n",
       "      <td>j04</td>\n",
       "      <td>mujeres</td>\n",
       "      <td>j04060201</td>\n",
       "      <td>camiseta estampada ml y 34</td>\n",
       "      <td>881858182</td>\n",
       "      <td>polera estampad hvmpou205g off white and white s</td>\n",
       "      <td>2998818581829</td>\n",
       "      <td>1</td>\n",
       "      <td>69990</td>\n",
       "      <td>22309</td>\n",
       "      <td>69990</td>\n",
       "      <td>22309</td>\n",
       "      <td>2021-08-23</td>\n",
       "      <td>NaN</td>\n",
       "      <td>NaN</td>\n",
       "      <td>NaN</td>\n",
       "      <td>NaN</td>\n",
       "      <td>tienda</td>\n",
       "      <td>mermaaveria - tienda</td>\n",
       "    </tr>\n",
       "    <tr>\n",
       "      <th>24787352</th>\n",
       "      <td>46471352</td>\n",
       "      <td>50</td>\n",
       "      <td>primavera</td>\n",
       "      <td>reservado</td>\n",
       "      <td>dado de baja</td>\n",
       "      <td>23-08-2021</td>\n",
       "      <td>jenith marcela gomez suarez</td>\n",
       "      <td>23-08-2021</td>\n",
       "      <td>jenith marcela gomez suarez</td>\n",
       "      <td>01-01-1990</td>\n",
       "      <td>NaN</td>\n",
       "      <td>falabella primavera</td>\n",
       "      <td>9000174478</td>\n",
       "      <td>2570</td>\n",
       "      <td>cc tienda primavera</td>\n",
       "      <td>j12</td>\n",
       "      <td>blanco</td>\n",
       "      <td>j12010504</td>\n",
       "      <td>cubrecama promocional</td>\n",
       "      <td>881999498</td>\n",
       "      <td>cubrelecho patch mor sc</td>\n",
       "      <td>2998819994987</td>\n",
       "      <td>2</td>\n",
       "      <td>119990</td>\n",
       "      <td>31622</td>\n",
       "      <td>239980</td>\n",
       "      <td>63244</td>\n",
       "      <td>2021-08-23</td>\n",
       "      <td>NaN</td>\n",
       "      <td>NaN</td>\n",
       "      <td>NaN</td>\n",
       "      <td>NaN</td>\n",
       "      <td>tienda</td>\n",
       "      <td>mermaaveria - tienda</td>\n",
       "    </tr>\n",
       "    <tr>\n",
       "      <th>24787353</th>\n",
       "      <td>46471352</td>\n",
       "      <td>50</td>\n",
       "      <td>primavera</td>\n",
       "      <td>reservado</td>\n",
       "      <td>dado de baja</td>\n",
       "      <td>23-08-2021</td>\n",
       "      <td>jenith marcela gomez suarez</td>\n",
       "      <td>23-08-2021</td>\n",
       "      <td>jenith marcela gomez suarez</td>\n",
       "      <td>01-01-1990</td>\n",
       "      <td>NaN</td>\n",
       "      <td>falabella primavera</td>\n",
       "      <td>9000174478</td>\n",
       "      <td>2570</td>\n",
       "      <td>cc tienda primavera</td>\n",
       "      <td>j12</td>\n",
       "      <td>blanco</td>\n",
       "      <td>j12010504</td>\n",
       "      <td>cubrecama promocional</td>\n",
       "      <td>881999498</td>\n",
       "      <td>cubrelecho patch mor sc</td>\n",
       "      <td>2998819994987</td>\n",
       "      <td>2</td>\n",
       "      <td>119990</td>\n",
       "      <td>31622</td>\n",
       "      <td>239980</td>\n",
       "      <td>63244</td>\n",
       "      <td>2021-08-23</td>\n",
       "      <td>NaN</td>\n",
       "      <td>NaN</td>\n",
       "      <td>NaN</td>\n",
       "      <td>NaN</td>\n",
       "      <td>tienda</td>\n",
       "      <td>mermaaveria - tienda</td>\n",
       "    </tr>\n",
       "    <tr>\n",
       "      <th>24787354</th>\n",
       "      <td>46471345</td>\n",
       "      <td>3000</td>\n",
       "      <td>falabella. com alterno</td>\n",
       "      <td>reservado</td>\n",
       "      <td>dado de baja</td>\n",
       "      <td>23-08-2021</td>\n",
       "      <td>fenny gineth ramirez diaz</td>\n",
       "      <td>23-08-2021</td>\n",
       "      <td>fenny gineth ramirez diaz</td>\n",
       "      <td>01-01-1990</td>\n",
       "      <td>NaN</td>\n",
       "      <td>producto en poder de cliente</td>\n",
       "      <td>9000174478</td>\n",
       "      <td>2440</td>\n",
       "      <td>venta distancia</td>\n",
       "      <td>j11</td>\n",
       "      <td>electro hogar</td>\n",
       "      <td>j11010307</td>\n",
       "      <td>lcd 65 o mas pulg</td>\n",
       "      <td>7146168</td>\n",
       "      <td>led 65 samsung uhd un65tu8500</td>\n",
       "      <td>8806090343353</td>\n",
       "      <td>1</td>\n",
       "      <td>4999900</td>\n",
       "      <td>2343364</td>\n",
       "      <td>4999900</td>\n",
       "      <td>2343364</td>\n",
       "      <td>2021-08-23</td>\n",
       "      <td>NaN</td>\n",
       "      <td>NaN</td>\n",
       "      <td>NaN</td>\n",
       "      <td>NaN</td>\n",
       "      <td>cd</td>\n",
       "      <td>producto entregado a cliente</td>\n",
       "    </tr>\n",
       "  </tbody>\n",
       "</table>\n",
       "</div>"
      ]
     },
     "metadata": {},
     "execution_count": 77
    }
   ],
   "metadata": {}
  },
  {
   "cell_type": "code",
   "execution_count": 80,
   "source": [
    "un['posible causa'].values"
   ],
   "outputs": [
    {
     "output_type": "execute_result",
     "data": {
      "text/plain": [
       "array([nan, nan, nan, ..., 'mermaaveria - tienda', 'mermaaveria - tienda',\n",
       "       'producto entregado a cliente'], dtype=object)"
      ]
     },
     "metadata": {},
     "execution_count": 80
    }
   ],
   "metadata": {}
  },
  {
   "cell_type": "code",
   "execution_count": 82,
   "source": [
    "fsave.loc[:, 'posible_causa'] = un['posible causa']"
   ],
   "outputs": [],
   "metadata": {}
  },
  {
   "cell_type": "code",
   "execution_count": 83,
   "source": [
    "fsave.head()"
   ],
   "outputs": [
    {
     "output_type": "execute_result",
     "data": {
      "text/plain": [
       "  nro_red_inventario local desc_local   estado    tipo_redinv fecha_creacion  \\\n",
       "0           46056177    93    cacique  enviado  gasto externo     2021-01-02   \n",
       "1           46056177    93    cacique  enviado  gasto externo     2021-01-02   \n",
       "2           46056177    93    cacique  enviado  gasto externo     2021-01-02   \n",
       "3           46056368    25   fontanar  enviado  gasto externo     2021-01-02   \n",
       "4           46056368    25   fontanar  enviado  gasto externo     2021-01-02   \n",
       "\n",
       "                      usuario_creacion fecha_reserva  \\\n",
       "0             yesenia cespedes pereira   02-ene-2021   \n",
       "1             yesenia cespedes pereira   02-ene-2021   \n",
       "2             yesenia cespedes pereira   02-ene-2021   \n",
       "3  mayra  alejandra bohorquez gonzalez   02-ene-2021   \n",
       "4  mayra  alejandra bohorquez gonzalez   02-ene-2021   \n",
       "\n",
       "                       usuario_reserva  fecha_envio  \\\n",
       "0             yesenia cespedes pereira  02-ene-2021   \n",
       "1             yesenia cespedes pereira  02-ene-2021   \n",
       "2             yesenia cespedes pereira  02-ene-2021   \n",
       "3  mayra  alejandra bohorquez gonzalez  02-ene-2021   \n",
       "4  mayra  alejandra bohorquez gonzalez  02-ene-2021   \n",
       "\n",
       "                         usuario_envio                    destino rut_destino  \\\n",
       "0             yesenia cespedes pereira                  falabella  9000174478   \n",
       "1             yesenia cespedes pereira                  falabella  9000174478   \n",
       "2             yesenia cespedes pereira                  falabella  9000174478   \n",
       "3  mayra  alejandra bohorquez gonzalez  falabella de colombia s.a  9000174478   \n",
       "4  mayra  alejandra bohorquez gonzalez  falabella de colombia s.a  9000174478   \n",
       "\n",
       "  centro_de_costos desccentro_e_costo linea descripcion_linea   subclase  \\\n",
       "0            41301                mkp   j11     electro hogar  j11010202   \n",
       "1            41301                mkp   j11     electro hogar  j11021301   \n",
       "2            41301                mkp   j11     electro hogar  j11140406   \n",
       "3            41301                mkp   j11     electro hogar  j11021301   \n",
       "4            41301                mkp   j16        decoracion  j16040203   \n",
       "\n",
       "        descripcion_subclase nro_producto  \\\n",
       "0      plasmas 50 o mas pulg      5065102   \n",
       "1        audifonos bluetooth      9347735   \n",
       "2                     drones      4964221   \n",
       "3        audifonos bluetooth      4964011   \n",
       "4  organizacion refrigerador      4079214   \n",
       "\n",
       "                                descripcion_producto            upc cantidad  \\\n",
       "0  televisor lg 50 pulgadas 50um7300 smart tv uhd 4k  2005065102001        1   \n",
       "1         audifonos motorola  earbuds pace 105 negro  5012786038493        2   \n",
       "2    mini drone control camara hd wifi led storm 033  4885016893886        1   \n",
       "3      audifonos bluetooth inalambricos cargador i9s   635414205156        4   \n",
       "4  purificador de agua filtro bioenergetico biowater   658939618362        1   \n",
       "\n",
       "  precio_vta precio_costo total_precio_vta total_precio_costo fecha_corte  \\\n",
       "0    2199900      2199900          2199900            2199900  2021-01-31   \n",
       "1      25900        25900            51800              51800  2021-01-31   \n",
       "2     159900       159900           159900             159900  2021-01-31   \n",
       "3      44900        44900           179600             179600  2021-01-31   \n",
       "4     299800       299800           299800             299800  2021-01-31   \n",
       "\n",
       "  posible_causa     fecha_inventario          observacion  grupo_tipo_f4  \\\n",
       "0           NaN  2021-01-13 00:00:00  antes de inventario  gasto externo   \n",
       "1           NaN  2021-01-13 00:00:00  antes de inventario  gasto externo   \n",
       "2           NaN  2021-01-13 00:00:00  antes de inventario  gasto externo   \n",
       "3           NaN  2021-01-08 00:00:00  antes de inventario  gasto externo   \n",
       "4           NaN  2021-01-08 00:00:00  antes de inventario  gasto externo   \n",
       "\n",
       "    grupo  \n",
       "0  tienda  \n",
       "1  tienda  \n",
       "2  tienda  \n",
       "3  tienda  \n",
       "4  tienda  "
      ],
      "text/html": [
       "<div>\n",
       "<style scoped>\n",
       "    .dataframe tbody tr th:only-of-type {\n",
       "        vertical-align: middle;\n",
       "    }\n",
       "\n",
       "    .dataframe tbody tr th {\n",
       "        vertical-align: top;\n",
       "    }\n",
       "\n",
       "    .dataframe thead th {\n",
       "        text-align: right;\n",
       "    }\n",
       "</style>\n",
       "<table border=\"1\" class=\"dataframe\">\n",
       "  <thead>\n",
       "    <tr style=\"text-align: right;\">\n",
       "      <th></th>\n",
       "      <th>nro_red_inventario</th>\n",
       "      <th>local</th>\n",
       "      <th>desc_local</th>\n",
       "      <th>estado</th>\n",
       "      <th>tipo_redinv</th>\n",
       "      <th>fecha_creacion</th>\n",
       "      <th>usuario_creacion</th>\n",
       "      <th>fecha_reserva</th>\n",
       "      <th>usuario_reserva</th>\n",
       "      <th>fecha_envio</th>\n",
       "      <th>usuario_envio</th>\n",
       "      <th>destino</th>\n",
       "      <th>rut_destino</th>\n",
       "      <th>centro_de_costos</th>\n",
       "      <th>desccentro_e_costo</th>\n",
       "      <th>linea</th>\n",
       "      <th>descripcion_linea</th>\n",
       "      <th>subclase</th>\n",
       "      <th>descripcion_subclase</th>\n",
       "      <th>nro_producto</th>\n",
       "      <th>descripcion_producto</th>\n",
       "      <th>upc</th>\n",
       "      <th>cantidad</th>\n",
       "      <th>precio_vta</th>\n",
       "      <th>precio_costo</th>\n",
       "      <th>total_precio_vta</th>\n",
       "      <th>total_precio_costo</th>\n",
       "      <th>fecha_corte</th>\n",
       "      <th>posible_causa</th>\n",
       "      <th>fecha_inventario</th>\n",
       "      <th>observacion</th>\n",
       "      <th>grupo_tipo_f4</th>\n",
       "      <th>grupo</th>\n",
       "    </tr>\n",
       "  </thead>\n",
       "  <tbody>\n",
       "    <tr>\n",
       "      <th>0</th>\n",
       "      <td>46056177</td>\n",
       "      <td>93</td>\n",
       "      <td>cacique</td>\n",
       "      <td>enviado</td>\n",
       "      <td>gasto externo</td>\n",
       "      <td>2021-01-02</td>\n",
       "      <td>yesenia cespedes pereira</td>\n",
       "      <td>02-ene-2021</td>\n",
       "      <td>yesenia cespedes pereira</td>\n",
       "      <td>02-ene-2021</td>\n",
       "      <td>yesenia cespedes pereira</td>\n",
       "      <td>falabella</td>\n",
       "      <td>9000174478</td>\n",
       "      <td>41301</td>\n",
       "      <td>mkp</td>\n",
       "      <td>j11</td>\n",
       "      <td>electro hogar</td>\n",
       "      <td>j11010202</td>\n",
       "      <td>plasmas 50 o mas pulg</td>\n",
       "      <td>5065102</td>\n",
       "      <td>televisor lg 50 pulgadas 50um7300 smart tv uhd 4k</td>\n",
       "      <td>2005065102001</td>\n",
       "      <td>1</td>\n",
       "      <td>2199900</td>\n",
       "      <td>2199900</td>\n",
       "      <td>2199900</td>\n",
       "      <td>2199900</td>\n",
       "      <td>2021-01-31</td>\n",
       "      <td>NaN</td>\n",
       "      <td>2021-01-13 00:00:00</td>\n",
       "      <td>antes de inventario</td>\n",
       "      <td>gasto externo</td>\n",
       "      <td>tienda</td>\n",
       "    </tr>\n",
       "    <tr>\n",
       "      <th>1</th>\n",
       "      <td>46056177</td>\n",
       "      <td>93</td>\n",
       "      <td>cacique</td>\n",
       "      <td>enviado</td>\n",
       "      <td>gasto externo</td>\n",
       "      <td>2021-01-02</td>\n",
       "      <td>yesenia cespedes pereira</td>\n",
       "      <td>02-ene-2021</td>\n",
       "      <td>yesenia cespedes pereira</td>\n",
       "      <td>02-ene-2021</td>\n",
       "      <td>yesenia cespedes pereira</td>\n",
       "      <td>falabella</td>\n",
       "      <td>9000174478</td>\n",
       "      <td>41301</td>\n",
       "      <td>mkp</td>\n",
       "      <td>j11</td>\n",
       "      <td>electro hogar</td>\n",
       "      <td>j11021301</td>\n",
       "      <td>audifonos bluetooth</td>\n",
       "      <td>9347735</td>\n",
       "      <td>audifonos motorola  earbuds pace 105 negro</td>\n",
       "      <td>5012786038493</td>\n",
       "      <td>2</td>\n",
       "      <td>25900</td>\n",
       "      <td>25900</td>\n",
       "      <td>51800</td>\n",
       "      <td>51800</td>\n",
       "      <td>2021-01-31</td>\n",
       "      <td>NaN</td>\n",
       "      <td>2021-01-13 00:00:00</td>\n",
       "      <td>antes de inventario</td>\n",
       "      <td>gasto externo</td>\n",
       "      <td>tienda</td>\n",
       "    </tr>\n",
       "    <tr>\n",
       "      <th>2</th>\n",
       "      <td>46056177</td>\n",
       "      <td>93</td>\n",
       "      <td>cacique</td>\n",
       "      <td>enviado</td>\n",
       "      <td>gasto externo</td>\n",
       "      <td>2021-01-02</td>\n",
       "      <td>yesenia cespedes pereira</td>\n",
       "      <td>02-ene-2021</td>\n",
       "      <td>yesenia cespedes pereira</td>\n",
       "      <td>02-ene-2021</td>\n",
       "      <td>yesenia cespedes pereira</td>\n",
       "      <td>falabella</td>\n",
       "      <td>9000174478</td>\n",
       "      <td>41301</td>\n",
       "      <td>mkp</td>\n",
       "      <td>j11</td>\n",
       "      <td>electro hogar</td>\n",
       "      <td>j11140406</td>\n",
       "      <td>drones</td>\n",
       "      <td>4964221</td>\n",
       "      <td>mini drone control camara hd wifi led storm 033</td>\n",
       "      <td>4885016893886</td>\n",
       "      <td>1</td>\n",
       "      <td>159900</td>\n",
       "      <td>159900</td>\n",
       "      <td>159900</td>\n",
       "      <td>159900</td>\n",
       "      <td>2021-01-31</td>\n",
       "      <td>NaN</td>\n",
       "      <td>2021-01-13 00:00:00</td>\n",
       "      <td>antes de inventario</td>\n",
       "      <td>gasto externo</td>\n",
       "      <td>tienda</td>\n",
       "    </tr>\n",
       "    <tr>\n",
       "      <th>3</th>\n",
       "      <td>46056368</td>\n",
       "      <td>25</td>\n",
       "      <td>fontanar</td>\n",
       "      <td>enviado</td>\n",
       "      <td>gasto externo</td>\n",
       "      <td>2021-01-02</td>\n",
       "      <td>mayra  alejandra bohorquez gonzalez</td>\n",
       "      <td>02-ene-2021</td>\n",
       "      <td>mayra  alejandra bohorquez gonzalez</td>\n",
       "      <td>02-ene-2021</td>\n",
       "      <td>mayra  alejandra bohorquez gonzalez</td>\n",
       "      <td>falabella de colombia s.a</td>\n",
       "      <td>9000174478</td>\n",
       "      <td>41301</td>\n",
       "      <td>mkp</td>\n",
       "      <td>j11</td>\n",
       "      <td>electro hogar</td>\n",
       "      <td>j11021301</td>\n",
       "      <td>audifonos bluetooth</td>\n",
       "      <td>4964011</td>\n",
       "      <td>audifonos bluetooth inalambricos cargador i9s</td>\n",
       "      <td>635414205156</td>\n",
       "      <td>4</td>\n",
       "      <td>44900</td>\n",
       "      <td>44900</td>\n",
       "      <td>179600</td>\n",
       "      <td>179600</td>\n",
       "      <td>2021-01-31</td>\n",
       "      <td>NaN</td>\n",
       "      <td>2021-01-08 00:00:00</td>\n",
       "      <td>antes de inventario</td>\n",
       "      <td>gasto externo</td>\n",
       "      <td>tienda</td>\n",
       "    </tr>\n",
       "    <tr>\n",
       "      <th>4</th>\n",
       "      <td>46056368</td>\n",
       "      <td>25</td>\n",
       "      <td>fontanar</td>\n",
       "      <td>enviado</td>\n",
       "      <td>gasto externo</td>\n",
       "      <td>2021-01-02</td>\n",
       "      <td>mayra  alejandra bohorquez gonzalez</td>\n",
       "      <td>02-ene-2021</td>\n",
       "      <td>mayra  alejandra bohorquez gonzalez</td>\n",
       "      <td>02-ene-2021</td>\n",
       "      <td>mayra  alejandra bohorquez gonzalez</td>\n",
       "      <td>falabella de colombia s.a</td>\n",
       "      <td>9000174478</td>\n",
       "      <td>41301</td>\n",
       "      <td>mkp</td>\n",
       "      <td>j16</td>\n",
       "      <td>decoracion</td>\n",
       "      <td>j16040203</td>\n",
       "      <td>organizacion refrigerador</td>\n",
       "      <td>4079214</td>\n",
       "      <td>purificador de agua filtro bioenergetico biowater</td>\n",
       "      <td>658939618362</td>\n",
       "      <td>1</td>\n",
       "      <td>299800</td>\n",
       "      <td>299800</td>\n",
       "      <td>299800</td>\n",
       "      <td>299800</td>\n",
       "      <td>2021-01-31</td>\n",
       "      <td>NaN</td>\n",
       "      <td>2021-01-08 00:00:00</td>\n",
       "      <td>antes de inventario</td>\n",
       "      <td>gasto externo</td>\n",
       "      <td>tienda</td>\n",
       "    </tr>\n",
       "  </tbody>\n",
       "</table>\n",
       "</div>"
      ]
     },
     "metadata": {},
     "execution_count": 83
    }
   ],
   "metadata": {}
  },
  {
   "cell_type": "markdown",
   "source": [
    "## F3 planilla"
   ],
   "metadata": {}
  },
  {
   "cell_type": "code",
   "execution_count": 65,
   "source": [
    "lista_f3s =[]"
   ],
   "outputs": [],
   "metadata": {}
  },
  {
   "cell_type": "code",
   "execution_count": 82,
   "source": [
    "tre = pd.read_csv('input/f3/210823-1718-f3-output-23.csv', sep=';', dtype='object')\r\n",
    "\r\n",
    "tre = tre.rename(columns={'upc':'prd_upc', 'descripcion':'desc_sku' , 'descripcion1':'desc_sclase', 'descripcion4':'desc_linea', \r\n",
    "       'proveedor':'razon_social', 'local':'local_envio', 'descripcion5':'desc_local_envio', 'estado':'estado_num', \r\n",
    "       'descripcion6':'estado', 'cant*costo':'cant_costo', 'cant*precio':'cant_venta' })"
   ],
   "outputs": [],
   "metadata": {}
  },
  {
   "cell_type": "code",
   "execution_count": 6,
   "source": [
    "req_lista = ['nro_devolucion', 'nro_guia', 'tipo_producto', 'prd_upc', 'desc_linea',\r\n",
    "       'desc_sclase', 'sku', 'desc_sku', 'rut_proveedor', 'dv_proveedor',\r\n",
    "       'razon_social', 'local_envio', 'desc_local_envio', 'estado', 'fecha_reserva', \r\n",
    "       'fecha_envio', 'cantidad', 'cant_costo', 'cant_venta', 'tipo_documento_para_dev', \r\n",
    "       'folio_f11', 'folio_f12']\r\n",
    "\r\n",
    "text_lista = ['tipo_producto', 'desc_linea', 'desc_sclase', 'desc_sku', 'razon_social', \r\n",
    "       'desc_local_envio',  'estado', 'tipo_documento_para_dev']\r\n",
    "\r\n",
    "fnum_lista = ['nro_devolucion', 'nro_guia', 'prd_upc', 'sku', 'rut_proveedor', 'local_envio', 'folio_f11', 'folio_f12']\r\n",
    "\r\n",
    "\r\n",
    "\r\n",
    "# 'cantidad', 'cant_costo', 'cant_venta',"
   ],
   "outputs": [],
   "metadata": {}
  },
  {
   "cell_type": "code",
   "execution_count": 83,
   "source": [
    "tre = drop_except(tre, req_lista)\r\n",
    "tre = tre.loc[(tre.estado=='reservado') | (tre.estado=='enviado') ]\r\n",
    "tre['fecha_corte'] = '2021-08-23'\r\n",
    "tre.fecha_corte = pd.to_datetime(tre.fecha_corte)\r\n",
    "tre.loc[:, fechas] = tre.loc[:, fechas].apply(na_date)\r\n",
    "tre.loc[:, fechas] = tre.loc[:, fechas].apply(replace_date)\r\n",
    "tre.fecha_reserva = pd.to_datetime(tre.fecha_reserva, format='%d-%m-%Y')\r\n",
    "tre.fecha_envio = pd.to_datetime(tre.fecha_envio, format='%d-%m-%Y')\r\n",
    "delta_reservado = tre.fecha_corte - tre.fecha_reserva \r\n",
    "delta_envio = tre.fecha_corte - tre.fecha_envio\r\n",
    "tre['antiguedad_reservado'] =  delta_reservado.dt.days\r\n",
    "tre['antiguedad_enviado'] = delta_envio.dt.days"
   ],
   "outputs": [],
   "metadata": {}
  },
  {
   "cell_type": "code",
   "execution_count": 26,
   "source": [
    "def get_antiguedad(celda):\r\n",
    "\r\n",
    "    if (celda>=0) & (celda<16):\r\n",
    "        return'1. entre 0 y 15 dias'\r\n",
    "    elif (celda>=16) & (celda<31):\r\n",
    "        return '2.entre 16 y 30 dias'\r\n",
    "    elif (celda>=31) & (celda<61):\r\n",
    "        return '3.entre 31 y 60 dias'\r\n",
    "    elif (celda>=61) & (celda<91):\r\n",
    "        return '4.entre 61 y 90 dias'\r\n",
    "    elif (celda>=91) & (celda<181):\r\n",
    "        return '5.entre 91 y 180 dias'\r\n",
    "    elif (celda>=181) & (celda<361):\r\n",
    "        return '6.entre 181 y 360 dias'\r\n",
    "    else:\r\n",
    "        return '7.mas de 360 dias'\r\n"
   ],
   "outputs": [],
   "metadata": {}
  },
  {
   "cell_type": "code",
   "execution_count": 84,
   "source": [
    "tre.loc[tre.estado=='reservado', 'dias'] = tre.loc[tre.estado=='reservado', 'antiguedad_reservado']\r\n",
    "tre.loc[tre.estado=='enviado', 'dias'] = tre.loc[tre.estado=='enviado', 'antiguedad_enviado']\r\n",
    "tre['antiguedad'] = tre.dias.apply(get_antiguedad)\r\n",
    "lista_f3s.append(tre)"
   ],
   "outputs": [],
   "metadata": {}
  },
  {
   "cell_type": "code",
   "execution_count": 85,
   "source": [
    "lf3 = pd.concat(lista_f3s, axis=0)\r\n",
    "lf3.to_csv('input/f3/2108_f3.csv', sep=';', index=False)"
   ],
   "outputs": [],
   "metadata": {}
  },
  {
   "cell_type": "code",
   "execution_count": 112,
   "source": [
    "fechas = [ 'fecha_reserva', 'fecha_envio']\r\n",
    "f3.loc[:,fechas] = f3.loc[:,fechas].apply(na_date)\r\n",
    "f3.loc[:,fechas] = f3.loc[:,fechas].apply(replace_date)\r\n",
    "f3.loc[:,'fecha_reserva'] = f3.loc[:,'fecha_reserva'].str.replace('mrz','03')"
   ],
   "outputs": [],
   "metadata": {}
  },
  {
   "cell_type": "code",
   "execution_count": 85,
   "source": [
    "tsave.to_excel('output/210824-data_seguimiento_f3.xlsx', index=False)"
   ],
   "outputs": [
    {
     "output_type": "error",
     "ename": "NameError",
     "evalue": "name 'tsave' is not defined",
     "traceback": [
      "\u001b[1;31m---------------------------------------------------------------------------\u001b[0m",
      "\u001b[1;31mNameError\u001b[0m                                 Traceback (most recent call last)",
      "\u001b[1;32m<ipython-input-85-12cc7244823a>\u001b[0m in \u001b[0;36m<module>\u001b[1;34m\u001b[0m\n\u001b[1;32m----> 1\u001b[1;33m \u001b[0mtsave\u001b[0m\u001b[1;33m.\u001b[0m\u001b[0mto_excel\u001b[0m\u001b[1;33m(\u001b[0m\u001b[1;34m'output/210824-data_seguimiento_f3.xlsx'\u001b[0m\u001b[1;33m,\u001b[0m \u001b[0mindex\u001b[0m\u001b[1;33m=\u001b[0m\u001b[1;32mFalse\u001b[0m\u001b[1;33m)\u001b[0m\u001b[1;33m\u001b[0m\u001b[1;33m\u001b[0m\u001b[0m\n\u001b[0m",
      "\u001b[1;31mNameError\u001b[0m: name 'tsave' is not defined"
     ]
    }
   ],
   "metadata": {}
  }
 ],
 "metadata": {
  "orig_nbformat": 4,
  "language_info": {
   "name": "python",
   "version": "3.8.8",
   "mimetype": "text/x-python",
   "codemirror_mode": {
    "name": "ipython",
    "version": 3
   },
   "pygments_lexer": "ipython3",
   "nbconvert_exporter": "python",
   "file_extension": ".py"
  },
  "kernelspec": {
   "name": "python3",
   "display_name": "Python 3.8.8 64-bit ('base': conda)"
  },
  "interpreter": {
   "hash": "8ebac8f8f364d690520f7fa87029f639f88941f9cdb9d4c74cff5ecb7a0c603e"
  }
 },
 "nbformat": 4,
 "nbformat_minor": 2
}