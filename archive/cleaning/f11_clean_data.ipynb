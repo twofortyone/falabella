{
 "cells": [
  {
   "cell_type": "code",
   "execution_count": 1,
   "source": [
    "import numpy as np\r\n",
    "import pandas as pd \r\n",
    "from cl_cleaning import CleaningText as ct \r\n",
    "pd.set_option('float_format', '{:,.2f}'.format)\r\n",
    "pd.set_option('display.max_columns', 70)"
   ],
   "outputs": [],
   "metadata": {}
  },
  {
   "cell_type": "code",
   "execution_count": 2,
   "source": [
    "def drop_except(df, cols):\r\n",
    "    df.drop(df.columns.difference(cols), axis=1, inplace=True)\r\n",
    "    return df \r\n",
    "\r\n",
    "def get_antiguedad(celda):\r\n",
    "\r\n",
    "              if (celda>=0) & (celda<16):\r\n",
    "                     return'1.entre 0 y 15 dias'\r\n",
    "              elif (celda>=16) & (celda<31):\r\n",
    "                     return '2.entre 16 y 30 dias'\r\n",
    "              elif (celda>=31) & (celda<61):\r\n",
    "                     return '3.entre 31 y 60 dias'\r\n",
    "              elif (celda>=61) & (celda<91):\r\n",
    "                     return '4.entre 61 y 90 dias'\r\n",
    "              elif (celda>=91) & (celda<181):\r\n",
    "                     return '5.entre 91 y 180 dias'\r\n",
    "              elif (celda>=181) & (celda<361):\r\n",
    "                     return '6.entre 181 y 360 dias'\r\n",
    "              elif celda>360:\r\n",
    "                     return '7.mas de 360 dias'\r\n",
    "              else:\r\n",
    "                     return np.nan     "
   ],
   "outputs": [],
   "metadata": {}
  },
  {
   "cell_type": "code",
   "execution_count": 161,
   "source": [
    "nc = pd.read_csv('input/planillas/210830_f11_angel.csv', sep=';', dtype='object')\r\n",
    "nc = ct.norm_header(nc)"
   ],
   "outputs": [],
   "metadata": {}
  },
  {
   "cell_type": "code",
   "execution_count": 162,
   "source": [
    "req_cols = ['nfolio', 'nsecuencia', 'prd_upc', 'xsubprod', 'qproducto',\r\n",
    "  'dpactada_dt', 'propietario', 'dpactada_hd', 'xnombre_clt', 'xapellido_clt', 'xciudad_clt',\r\n",
    "  'dcreacion', 'ddespacho', 'xobservacion','xestado', 'xservicio', 'borigen',\r\n",
    "  'suc', 'tienda', 'costo_promedio', 'total_costo_promedio', 'fecha_corte', \r\n",
    "  'dias_creacion', 'dias_despacho', 'dias_descre', 'antiguedad_creacion', 'antiguedad_despacho',\r\n",
    "  'grupo']\r\n",
    "\r\n",
    "text_cols = ['xsubprod', 'qproducto', 'propietario', 'xnombre_clt', 'xapellido_clt', 'xciudad_clt',\r\n",
    " 'xobservacion','xestado', 'xservicio', 'borigen', 'suc', 'tienda',  'grupo']\r\n",
    "\r\n",
    "fnum_cols = ['nfolio', 'nsecuencia', 'prd_upc' ]\r\n",
    "\r\n",
    "num_cols = ['costo_promedio', 'total_costo_promedio']\r\n",
    "\r\n",
    "fechas = ['dcreacion','ddespacho', 'fecha_corte']"
   ],
   "outputs": [],
   "metadata": {}
  },
  {
   "cell_type": "code",
   "execution_count": 163,
   "source": [
    "nc.fecha_creacion = pd.to_datetime(nc.fecha_creacion, format='%Y-%m-%d')\r\n",
    "nc.dpactada_dt = pd.to_datetime(nc.dpactada_dt, format ='%Y-%m-%d')\r\n",
    "nc.dpactada = pd.to_datetime(nc.dpactada, format ='%Y-%m-%d')\r\n",
    "nc.loc[nc.fecha_despacho=='2608-08-26 00:00:00', 'fecha_despacho'] = np.nan\r\n",
    "nc.fecha_despacho = pd.to_datetime(nc.fecha_despacho)"
   ],
   "outputs": [],
   "metadata": {}
  },
  {
   "cell_type": "code",
   "execution_count": 164,
   "source": [
    "nc['fecha_corte'] = pd.to_datetime('today').normalize()"
   ],
   "outputs": [],
   "metadata": {}
  },
  {
   "cell_type": "code",
   "execution_count": 166,
   "source": [
    "nc.loc[nc.fecha_despacho > '31/08/2021', 'fecha_despacho'] = np.nan"
   ],
   "outputs": [],
   "metadata": {}
  },
  {
   "cell_type": "code",
   "execution_count": 167,
   "source": [
    "delta_creacion = nc.fecha_corte - nc.fecha_creacion \r\n",
    "nc['dias_creacion'] =  delta_creacion.dt.days\r\n",
    "\r\n",
    "delta_despacho = nc.fecha_corte - nc.fecha_despacho \r\n",
    "nc['dias_despacho'] =  delta_despacho.dt.days\r\n",
    "\r\n",
    "delta_descre =  nc.fecha_despacho - nc.fecha_creacion \r\n",
    "nc['dias_descre'] =  delta_descre.dt.days\r\n",
    "\r\n",
    "nc['antiguedad_creacion'] = nc.dias_creacion.apply(get_antiguedad)\r\n",
    "nc['antiguedad_despacho'] = nc.dias_despacho.apply(get_antiguedad)"
   ],
   "outputs": [],
   "metadata": {}
  },
  {
   "cell_type": "code",
   "execution_count": 168,
   "source": [
    "nc = nc.rename(columns={'upc':'prd_upc', 'desc_sku':'xsubprod', 'cant_prod':'qproducto',\r\n",
    "'dpactada':'dpactada_hd', 'nombre_clte':'xnombre_clt', 'apellido_clte':'xapellido_clt', \r\n",
    "'fecha_creacion':'dcreacion', 'estado':'xestado', 'servicio':'xservicio', 'origen':'borigen', \r\n",
    "'cod_local':'suc', 'nombre_local':'tienda','fecha_despacho':'ddespacho', 'observacion':'xobservacion',\r\n",
    "'total_costo':'total_costo_promedio', 'ciudad_clte':'xciudad_clt'})"
   ],
   "outputs": [],
   "metadata": {}
  },
  {
   "cell_type": "code",
   "execution_count": 69,
   "source": [
    "nc.to_csv('input/db-pbi/f11/210830-dfpap.csv', sep=';', index=False)"
   ],
   "outputs": [],
   "metadata": {}
  },
  {
   "cell_type": "code",
   "execution_count": 70,
   "source": [
    "ncaux = nc.copy()"
   ],
   "outputs": [],
   "metadata": {}
  },
  {
   "cell_type": "code",
   "execution_count": 95,
   "source": [
    "nc = ncaux.copy()"
   ],
   "outputs": [],
   "metadata": {}
  },
  {
   "cell_type": "code",
   "execution_count": 169,
   "source": [
    "nc = drop_except(nc, req_cols)"
   ],
   "outputs": [],
   "metadata": {}
  },
  {
   "cell_type": "code",
   "execution_count": 170,
   "source": [
    "print('Limpiando texto en columnas')\r\n",
    "nc.loc[:, text_cols] = nc.loc[:, text_cols].apply(ct.clean_str)"
   ],
   "outputs": [
    {
     "output_type": "stream",
     "name": "stdout",
     "text": [
      "Limpiando texto en columnas\n"
     ]
    }
   ],
   "metadata": {}
  },
  {
   "cell_type": "code",
   "execution_count": 171,
   "source": [
    "print('Convirtiendo a número parte 1')\r\n",
    "nc.loc[:,fnum_cols] = nc.loc[:,fnum_cols].apply(ct.clean_fnum)"
   ],
   "outputs": [
    {
     "output_type": "stream",
     "name": "stdout",
     "text": [
      "Convirtiendo a número parte 1\n"
     ]
    }
   ],
   "metadata": {}
  },
  {
   "cell_type": "code",
   "execution_count": 172,
   "source": [
    "nc.total_costo_promedio = pd.to_numeric(nc.total_costo_promedio)\r\n",
    "nc.total_costo_promedio = round(nc.total_costo_promedio)\r\n",
    "nc.total_costo_promedio = nc.total_costo_promedio.astype(int)"
   ],
   "outputs": [],
   "metadata": {}
  },
  {
   "cell_type": "code",
   "execution_count": 173,
   "source": [
    "nc.costo_promedio = pd.to_numeric(nc.costo_promedio)\r\n",
    "nc.costo_promedio = round(nc.costo_promedio)\r\n",
    "nc.costo_promedio = nc.costo_promedio.fillna(0)\r\n",
    "nc.costo_promedio = nc.costo_promedio.astype(int)"
   ],
   "outputs": [],
   "metadata": {}
  },
  {
   "cell_type": "code",
   "execution_count": 145,
   "source": [
    "f11 = pd.read_csv('input/bases/210825_data_seguimiento_f11.csv', sep=';', dtype='object')"
   ],
   "outputs": [],
   "metadata": {}
  },
  {
   "cell_type": "code",
   "execution_count": 146,
   "source": [
    "f11.ddespacho = f11.ddespacho.apply(lambda x: str(x).split(' ')[0])"
   ],
   "outputs": [],
   "metadata": {}
  },
  {
   "cell_type": "code",
   "execution_count": 147,
   "source": [
    "f11.loc[f11.ddespacho=='17/02/3031', 'ddespacho'] = np.nan"
   ],
   "outputs": [],
   "metadata": {}
  },
  {
   "cell_type": "code",
   "execution_count": 149,
   "source": [
    "f11.loc[f11.ddespacho=='0/01/1900', 'ddespacho'] = np.nan"
   ],
   "outputs": [],
   "metadata": {}
  },
  {
   "cell_type": "code",
   "execution_count": 150,
   "source": [
    "f11.ddespacho = pd.to_datetime(f11.ddespacho, format='%d/%m/%Y')"
   ],
   "outputs": [],
   "metadata": {}
  },
  {
   "cell_type": "code",
   "execution_count": 151,
   "source": [
    "f11.dcreacion = f11.dcreacion.apply(lambda x: str(x).split(' ')[0])"
   ],
   "outputs": [],
   "metadata": {}
  },
  {
   "cell_type": "code",
   "execution_count": 152,
   "source": [
    "f11.dcreacion = pd.to_datetime(f11.dcreacion, format='%d/%m/%Y')"
   ],
   "outputs": [],
   "metadata": {}
  },
  {
   "cell_type": "code",
   "execution_count": 153,
   "source": [
    "f11.fecha_corte = pd.to_datetime(f11.fecha_corte, format='%d/%m/%Y')"
   ],
   "outputs": [],
   "metadata": {}
  },
  {
   "cell_type": "code",
   "execution_count": 154,
   "source": [
    "f11.loc[f11.ddespacho > '31/08/2021', 'ddespacho'] = np.nan"
   ],
   "outputs": [],
   "metadata": {}
  },
  {
   "cell_type": "code",
   "execution_count": 156,
   "source": [
    "f11.loc[f11.ddespacho < '01/01/2000', 'ddespacho'] = np.nan"
   ],
   "outputs": [],
   "metadata": {}
  },
  {
   "cell_type": "code",
   "execution_count": 157,
   "source": [
    "\r\n",
    "delta_creacion = f11.fecha_corte - f11.dcreacion \r\n",
    "f11['dias_creacion'] =  delta_creacion.dt.days\r\n",
    "\r\n",
    "delta_despacho = f11.fecha_corte - f11.ddespacho \r\n",
    "f11['dias_despacho'] =  delta_despacho.dt.days\r\n",
    "\r\n",
    "delta_descre =  f11.ddespacho - f11.dcreacion \r\n",
    "f11['dias_descre'] =  delta_descre.dt.days\r\n",
    "\r\n",
    "f11['antiguedad_creacion'] = f11.dias_creacion.apply(get_antiguedad)\r\n",
    "f11['antiguedad_despacho'] = f11.dias_despacho.apply(get_antiguedad)"
   ],
   "outputs": [],
   "metadata": {}
  },
  {
   "cell_type": "code",
   "execution_count": 158,
   "source": [
    "f11 = drop_except(f11, req_cols)"
   ],
   "outputs": [],
   "metadata": {}
  },
  {
   "cell_type": "code",
   "execution_count": 174,
   "source": [
    "f11save = pd.concat([f11, nc], axis=0)"
   ],
   "outputs": [],
   "metadata": {}
  },
  {
   "cell_type": "code",
   "execution_count": 175,
   "source": [
    "f11save.to_csv('output/210831_data_seguimiento_f11.csv', sep=';', index=False) "
   ],
   "outputs": [],
   "metadata": {}
  }
 ],
 "metadata": {
  "orig_nbformat": 4,
  "language_info": {
   "name": "python",
   "version": "3.8.8",
   "mimetype": "text/x-python",
   "codemirror_mode": {
    "name": "ipython",
    "version": 3
   },
   "pygments_lexer": "ipython3",
   "nbconvert_exporter": "python",
   "file_extension": ".py"
  },
  "kernelspec": {
   "name": "python3",
   "display_name": "Python 3.8.8 64-bit ('base': conda)"
  },
  "interpreter": {
   "hash": "8ebac8f8f364d690520f7fa87029f639f88941f9cdb9d4c74cff5ecb7a0c603e"
  }
 },
 "nbformat": 4,
 "nbformat_minor": 2
}